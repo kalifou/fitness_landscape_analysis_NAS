{
 "cells": [
  {
   "cell_type": "code",
   "execution_count": 1,
   "metadata": {},
   "outputs": [
    {
     "name": "stderr",
     "output_type": "stream",
     "text": [
      "/local_home/trao_ka/anaconda3/envs/nas_benchmarks/lib/python3.7/site-packages/tensorflow/python/framework/dtypes.py:516: FutureWarning: Passing (type, 1) or '1type' as a synonym of type is deprecated; in a future version of numpy, it will be understood as (type, (1,)) / '(1,)type'.\n",
      "  _np_qint8 = np.dtype([(\"qint8\", np.int8, 1)])\n",
      "/local_home/trao_ka/anaconda3/envs/nas_benchmarks/lib/python3.7/site-packages/tensorflow/python/framework/dtypes.py:517: FutureWarning: Passing (type, 1) or '1type' as a synonym of type is deprecated; in a future version of numpy, it will be understood as (type, (1,)) / '(1,)type'.\n",
      "  _np_quint8 = np.dtype([(\"quint8\", np.uint8, 1)])\n",
      "/local_home/trao_ka/anaconda3/envs/nas_benchmarks/lib/python3.7/site-packages/tensorflow/python/framework/dtypes.py:518: FutureWarning: Passing (type, 1) or '1type' as a synonym of type is deprecated; in a future version of numpy, it will be understood as (type, (1,)) / '(1,)type'.\n",
      "  _np_qint16 = np.dtype([(\"qint16\", np.int16, 1)])\n",
      "/local_home/trao_ka/anaconda3/envs/nas_benchmarks/lib/python3.7/site-packages/tensorflow/python/framework/dtypes.py:519: FutureWarning: Passing (type, 1) or '1type' as a synonym of type is deprecated; in a future version of numpy, it will be understood as (type, (1,)) / '(1,)type'.\n",
      "  _np_quint16 = np.dtype([(\"quint16\", np.uint16, 1)])\n",
      "/local_home/trao_ka/anaconda3/envs/nas_benchmarks/lib/python3.7/site-packages/tensorflow/python/framework/dtypes.py:520: FutureWarning: Passing (type, 1) or '1type' as a synonym of type is deprecated; in a future version of numpy, it will be understood as (type, (1,)) / '(1,)type'.\n",
      "  _np_qint32 = np.dtype([(\"qint32\", np.int32, 1)])\n",
      "/local_home/trao_ka/anaconda3/envs/nas_benchmarks/lib/python3.7/site-packages/tensorflow/python/framework/dtypes.py:525: FutureWarning: Passing (type, 1) or '1type' as a synonym of type is deprecated; in a future version of numpy, it will be understood as (type, (1,)) / '(1,)type'.\n",
      "  np_resource = np.dtype([(\"resource\", np.ubyte, 1)])\n"
     ]
    },
    {
     "name": "stdout",
     "output_type": "stream",
     "text": [
      "WARNING:tensorflow:From /local_home/trao_ka/projects/nasbench/nasbench/lib/training_time.py:130: The name tf.train.SessionRunHook is deprecated. Please use tf.estimator.SessionRunHook instead.\n",
      "\n",
      "WARNING:tensorflow:From /local_home/trao_ka/projects/nasbench/nasbench/lib/training_time.py:174: The name tf.train.CheckpointSaverListener is deprecated. Please use tf.estimator.CheckpointSaverListener instead.\n",
      "\n",
      "WARNING:tensorflow:From /local_home/trao_ka/projects/nasbench/nasbench/lib/evaluate.py:33: The name tf.train.NanLossDuringTrainingError is deprecated. Please use tf.estimator.NanLossDuringTrainingError instead.\n",
      "\n"
     ]
    },
    {
     "name": "stderr",
     "output_type": "stream",
     "text": [
      "/local_home/trao_ka/anaconda3/envs/nas_benchmarks/lib/python3.7/site-packages/tensorboard/compat/tensorflow_stub/dtypes.py:541: FutureWarning: Passing (type, 1) or '1type' as a synonym of type is deprecated; in a future version of numpy, it will be understood as (type, (1,)) / '(1,)type'.\n",
      "  _np_qint8 = np.dtype([(\"qint8\", np.int8, 1)])\n",
      "/local_home/trao_ka/anaconda3/envs/nas_benchmarks/lib/python3.7/site-packages/tensorboard/compat/tensorflow_stub/dtypes.py:542: FutureWarning: Passing (type, 1) or '1type' as a synonym of type is deprecated; in a future version of numpy, it will be understood as (type, (1,)) / '(1,)type'.\n",
      "  _np_quint8 = np.dtype([(\"quint8\", np.uint8, 1)])\n",
      "/local_home/trao_ka/anaconda3/envs/nas_benchmarks/lib/python3.7/site-packages/tensorboard/compat/tensorflow_stub/dtypes.py:543: FutureWarning: Passing (type, 1) or '1type' as a synonym of type is deprecated; in a future version of numpy, it will be understood as (type, (1,)) / '(1,)type'.\n",
      "  _np_qint16 = np.dtype([(\"qint16\", np.int16, 1)])\n",
      "/local_home/trao_ka/anaconda3/envs/nas_benchmarks/lib/python3.7/site-packages/tensorboard/compat/tensorflow_stub/dtypes.py:544: FutureWarning: Passing (type, 1) or '1type' as a synonym of type is deprecated; in a future version of numpy, it will be understood as (type, (1,)) / '(1,)type'.\n",
      "  _np_quint16 = np.dtype([(\"quint16\", np.uint16, 1)])\n",
      "/local_home/trao_ka/anaconda3/envs/nas_benchmarks/lib/python3.7/site-packages/tensorboard/compat/tensorflow_stub/dtypes.py:545: FutureWarning: Passing (type, 1) or '1type' as a synonym of type is deprecated; in a future version of numpy, it will be understood as (type, (1,)) / '(1,)type'.\n",
      "  _np_qint32 = np.dtype([(\"qint32\", np.int32, 1)])\n",
      "/local_home/trao_ka/anaconda3/envs/nas_benchmarks/lib/python3.7/site-packages/tensorboard/compat/tensorflow_stub/dtypes.py:550: FutureWarning: Passing (type, 1) or '1type' as a synonym of type is deprecated; in a future version of numpy, it will be understood as (type, (1,)) / '(1,)type'.\n",
      "  np_resource = np.dtype([(\"resource\", np.ubyte, 1)])\n"
     ]
    }
   ],
   "source": [
    "from __future__ import absolute_import\n",
    "from __future__ import division\n",
    "from __future__ import print_function\n",
    "\n",
    "import numpy as np\n",
    "import json\n",
    "import pickle as pkl\n",
    "\n",
    "from absl import app\n",
    "from nasbench import api\n",
    "\n",
    "import time"
   ]
  },
  {
   "cell_type": "code",
   "execution_count": 2,
   "metadata": {},
   "outputs": [],
   "source": [
    "MAX_NODES = 7\n",
    "MAX_EDGES = 9\n",
    "NASBENCH_TFRECORD = './data/nasbench_full.tfrecord'\n",
    "\n",
    "INPUT = 'input'\n",
    "OUTPUT = 'output'\n",
    "CONV1X1 = 'conv1x1-bn-relu'\n",
    "CONV3X3 = 'conv3x3-bn-relu'\n",
    "MAXPOOL3X3 = 'maxpool3x3'\n",
    "\n",
    "CODING = [INPUT]\n",
    "CODING = CODING + [CONV1X1 + \"_\" + str(i) for i in range(0, (MAX_NODES - 2))]\n",
    "CODING = CODING + [CONV3X3 + \"_\" + str(i) for i in range(0, (MAX_NODES - 2))]\n",
    "CODING = CODING + [MAXPOOL3X3 + \"_\" + str(i) for i in range(0, (MAX_NODES - 2))]\n",
    "CODING = CODING + [OUTPUT]"
   ]
  },
  {
   "cell_type": "code",
   "execution_count": 3,
   "metadata": {},
   "outputs": [
    {
     "data": {
      "text/plain": [
       "['input',\n",
       " 'conv1x1-bn-relu_0',\n",
       " 'conv1x1-bn-relu_1',\n",
       " 'conv1x1-bn-relu_2',\n",
       " 'conv1x1-bn-relu_3',\n",
       " 'conv1x1-bn-relu_4',\n",
       " 'conv3x3-bn-relu_0',\n",
       " 'conv3x3-bn-relu_1',\n",
       " 'conv3x3-bn-relu_2',\n",
       " 'conv3x3-bn-relu_3',\n",
       " 'conv3x3-bn-relu_4',\n",
       " 'maxpool3x3_0',\n",
       " 'maxpool3x3_1',\n",
       " 'maxpool3x3_2',\n",
       " 'maxpool3x3_3',\n",
       " 'maxpool3x3_4',\n",
       " 'output']"
      ]
     },
     "execution_count": 3,
     "metadata": {},
     "output_type": "execute_result"
    }
   ],
   "source": [
    "CODING"
   ]
  },
  {
   "cell_type": "code",
   "execution_count": 4,
   "metadata": {},
   "outputs": [],
   "source": [
    "def rename_ops(ops):\n",
    "    c1x1 = 0\n",
    "    c3x3 = 0\n",
    "    mp3x3 = 0\n",
    "    new_ops = []\n",
    "    for op in ops:\n",
    "        if op == CONV1X1:\n",
    "            new_ops = new_ops + [op + \"_\" + str(c1x1)]\n",
    "            c1x1 = c1x1 + 1\n",
    "        elif op == CONV3X3:\n",
    "            new_ops = new_ops + [op + \"_\" + str(c3x3)]\n",
    "            c3x3 = c3x3 + 1\n",
    "        elif op == MAXPOOL3X3:\n",
    "            new_ops = new_ops + [op + \"_\" + str(mp3x3)]\n",
    "            mp3x3 = mp3x3 + 1\n",
    "        else:\n",
    "            new_ops = new_ops + [op]\n",
    "    return new_ops\n",
    "\n",
    "\n",
    "def encode_matrix(adj_matrix, ops):\n",
    "    enc_matrix = np.zeros((len(CODING), len(CODING)))\n",
    "    pos = [CODING.index(op) for op in ops]\n",
    "    trans = dict()\n",
    "    for i, ix in enumerate(pos):\n",
    "        trans[i] = ix\n",
    "    i, j = np.nonzero(adj_matrix)\n",
    "    ix = [trans.get(n) for n in i]\n",
    "    jy = [trans.get(n) for n in j]\n",
    "    for p in zip(ix, jy):\n",
    "        enc_matrix[p] = 1\n",
    "    encoded = enc_matrix[np.triu_indices(len(CODING), k=1)]\n",
    "    return encoded.astype(int)\n",
    "\n",
    "\n",
    "def encode_solution(solution):\n",
    "    adj_matrix = solution['module_adjacency']\n",
    "    ops = rename_ops(solution['module_operations'])\n",
    "    encoded = encode_matrix(adj_matrix, ops)    \n",
    "    return encoded, solution['trainable_parameters'], ops\n",
    "\n",
    "\n",
    "def summarize_fitness(computed_metrics, epochs=[108]):\n",
    "    fitness = dict()\n",
    "    for ep in epochs:\n",
    "        training_time = 0\n",
    "        train_acc = 0\n",
    "        validation_acc = 0\n",
    "        test_acc = 0\n",
    "        for metrics in computed_metrics[ep]:\n",
    "            training_time = metrics['final_training_time']\n",
    "            train_acc = train_acc + metrics['final_train_accuracy']\n",
    "            validation_acc = validation_acc + metrics['final_validation_accuracy']\n",
    "            test_acc = test_acc + metrics['final_test_accuracy']\n",
    "        training_time = training_time / len(computed_metrics[ep])\n",
    "        train_acc = train_acc / len(computed_metrics[ep])\n",
    "        validation_acc = validation_acc / len(computed_metrics[ep])\n",
    "        test_acc = test_acc / len(computed_metrics[ep])\n",
    "        fitness[ep] = {\n",
    "            'training_time': training_time,\n",
    "            'train_acc': train_acc,\n",
    "            'validation_acc': validation_acc,\n",
    "            'test_acc': test_acc}\n",
    "    return fitness\n",
    "\n",
    "\n",
    "\n",
    "\n",
    "def get_fitnesses():\n",
    "    nasbench = api.NASBench(NASBENCH_TFRECORD)\n",
    "    prev = \"\"\n",
    "    print('{\\n\\t\"coding\": ', json.dumps(CODING), \",\")\n",
    "    print('\\t\"solutions\": [\\n')\n",
    "    for unique_hash in nasbench.hash_iterator():\n",
    "        fixed_metrics, computed_metrics = nasbench.get_metrics_from_hash(unique_hash)\n",
    "        encoded, params, ops = encode_solution(fixed_metrics)\n",
    "        fitness = summarize_fitness(computed_metrics, epochs=[4, 12, 36, 108])\n",
    "        print('\\t\\t', prev, '{\"encoded\": ', encoded.tolist(),\n",
    "              ', \"tr_params\": ', params, \n",
    "              ', \"ops\": ', json.dumps(ops), \n",
    "              ', \"fitness\": ', json.dumps(fitness), '}')\n",
    "        if not prev:\n",
    "            prev = \",\"\n",
    "    print('\\t]\\n}')"
   ]
  },
  {
   "cell_type": "code",
   "execution_count": 5,
   "metadata": {},
   "outputs": [],
   "source": [
    "def get_fitnesses_lcz42(path_to_eval_file):\n",
    "    \n",
    "    with open(path_to_eval_file, 'rb') as filehandle:\n",
    "        # read the data as bina|ry data stream\n",
    "        read_data_lcz_evals = pkl.load(filehandle)\n",
    "    print('{\\n\\t\"coding\": ', json.dumps(CODING), \",\")\n",
    "    print('\\t\"solutions\": [\\n')\n",
    "    prev = \"\"\n",
    "    for m, ops, data in read_data_lcz_evals:\n",
    "        ops = rename_ops(ops)\n",
    "        encoded = encode_matrix(m, ops)\n",
    "        params = data['trainable_params']\n",
    "        print(data)\n",
    "        print('\\t\\t', prev, '{\"encoded\": ', encoded.tolist(),\n",
    "              ', \"tr_params\": ', params, \n",
    "              ', \"ops\": ', json.dumps(ops), \n",
    "              ', \"fitness\": ', json.dumps(str(data)), '}')\n",
    "        if not prev:\n",
    "            prev = \",\"\n",
    "    print('\\t]\\n}')"
   ]
  },
  {
   "cell_type": "markdown",
   "metadata": {},
   "source": [
    "# Enumerate Cardina"
   ]
  },
  {
   "cell_type": "code",
   "execution_count": 6,
   "metadata": {},
   "outputs": [],
   "source": [
    "#Source: http://claresloggett.github.io/python_workshops/improved_hammingdist.html\n",
    "\n",
    "# Return the Hamming distance between string1 and string2.\n",
    "# string1 and string2 should be the same length.\n",
    "def hamming_distance(string1, string2): \n",
    "    # Start with a distance of zero, and count up\n",
    "    distance = 0\n",
    "    # Loop over the indices of the string\n",
    "    L = len(string1)\n",
    "    for i in range(L):\n",
    "        # Add 1 to the distance if these two characters are not equal\n",
    "        if string1[i] != string2[i]:\n",
    "            distance += 1\n",
    "    # Return the final count of differences\n",
    "    return distance\n",
    "\n"
   ]
  },
  {
   "cell_type": "code",
   "execution_count": 7,
   "metadata": {},
   "outputs": [],
   "source": [
    "path_to_eval_file = \"/local_home/trao_ka/projects/andres_code/nasbench/experiments/landscape_with_adj_nb101.json\"\n",
    "with open(path_to_eval_file, 'rb') as filehandle:\n",
    "        # read the data as bina|ry data stream\n",
    "        read_data_nb101_evals = json.load(filehandle)"
   ]
  },
  {
   "cell_type": "code",
   "execution_count": 8,
   "metadata": {},
   "outputs": [],
   "source": [
    "e0 = read_data_nb101_evals['solutions'][0]['encoded']\n",
    "e1 = read_data_nb101_evals['solutions'][1]['encoded']"
   ]
  },
  {
   "cell_type": "code",
   "execution_count": 9,
   "metadata": {},
   "outputs": [
    {
     "data": {
      "text/plain": [
       "11"
      ]
     },
     "execution_count": 9,
     "metadata": {},
     "output_type": "execute_result"
    }
   ],
   "source": [
    "hamming_distance(e0, e1)"
   ]
  },
  {
   "cell_type": "code",
   "execution_count": 10,
   "metadata": {},
   "outputs": [],
   "source": [
    "assert hamming_distance(e0, e0) == 0\n",
    "assert hamming_distance(e1, e1) == hamming_distance(e0, e0)"
   ]
  },
  {
   "cell_type": "code",
   "execution_count": 11,
   "metadata": {},
   "outputs": [],
   "source": [
    "def is_local_optima(all_models, regime='36', metric='kappaCohen_test'):\n",
    "    \n",
    "    n_models = len(all_models)\n",
    "    \n",
    "    is_local_optima = dict()\n",
    "    Perf_nei_of_i = dict()\n",
    "    \n",
    "    for m_i in range(n_models):\n",
    "        # all_models[m_j]['fitness'][regime][metric] if hamming_distance(m_i, m_j) == 1\n",
    "        Perf_nei_of_i[m_i] = []\n",
    "        for m_j in range(n_models):\n",
    "            if  m_j != m_i:\n",
    "                Perf_nei_of_i[m_i].append(hamming_distance(all_models[m_i]['encoded'],all_models[m_j]['encoded'] ) )\n",
    "        print(sorted(Perf_nei_of_i[m_i])[0], m_i)"
   ]
  },
  {
   "cell_type": "code",
   "execution_count": 12,
   "metadata": {},
   "outputs": [],
   "source": [
    "import pyreadr\n",
    "import pandas as pd\n",
    "result = pyreadr.read_r('/local_home/trao_ka/projects/andres_code/nasbench/experiments/nasbench_full_landscape.RData')\n",
    "result = pd.Series(result)"
   ]
  },
  {
   "cell_type": "code",
   "execution_count": 13,
   "metadata": {},
   "outputs": [],
   "source": [
    "fitness_walk = result['fitness_walk']\n",
    "nasbench_res =  result['land.df']"
   ]
  },
  {
   "cell_type": "code",
   "execution_count": 14,
   "metadata": {},
   "outputs": [],
   "source": [
    "len_encoding = int(17*16/2)\n",
    "len_full_solution = 155\n",
    "\n",
    "indices = ['X' + str(i) for i in range(1, len_encoding + 1 )]\n",
    "all_keys = nasbench_res.keys()\n",
    "\n",
    "str0 = nasbench_res[indices].loc[0]\n",
    "str1 = nasbench_res[indices].loc[1]\n"
   ]
  },
  {
   "cell_type": "markdown",
   "metadata": {},
   "source": [
    "# Dealing with duplicates in Binary encoding\n",
    "## Same binary, different associated evaluation data, i.e models ?!"
   ]
  },
  {
   "cell_type": "code",
   "execution_count": 15,
   "metadata": {},
   "outputs": [],
   "source": [
    "def get_solution_by_value(reference, keys, dataset):\n",
    "    result = dataset.copy()    \n",
    "    for i in range(len(keys)):\n",
    "        result = result.loc[result[keys[i]] == reference[keys[i]]]\n",
    "    return result"
   ]
  },
  {
   "cell_type": "code",
   "execution_count": null,
   "metadata": {},
   "outputs": [],
   "source": []
  },
  {
   "cell_type": "code",
   "execution_count": 16,
   "metadata": {},
   "outputs": [
    {
     "data": {
      "text/html": [
       "<div>\n",
       "<style scoped>\n",
       "    .dataframe tbody tr th:only-of-type {\n",
       "        vertical-align: middle;\n",
       "    }\n",
       "\n",
       "    .dataframe tbody tr th {\n",
       "        vertical-align: top;\n",
       "    }\n",
       "\n",
       "    .dataframe thead th {\n",
       "        text-align: right;\n",
       "    }\n",
       "</style>\n",
       "<table border=\"1\" class=\"dataframe\">\n",
       "  <thead>\n",
       "    <tr style=\"text-align: right;\">\n",
       "      <th></th>\n",
       "      <th>X1</th>\n",
       "      <th>X2</th>\n",
       "      <th>X3</th>\n",
       "      <th>X4</th>\n",
       "      <th>X5</th>\n",
       "      <th>X6</th>\n",
       "      <th>X7</th>\n",
       "      <th>X8</th>\n",
       "      <th>X9</th>\n",
       "      <th>X10</th>\n",
       "      <th>...</th>\n",
       "      <th>training_time.36</th>\n",
       "      <th>train_acc.36</th>\n",
       "      <th>validation_acc.36</th>\n",
       "      <th>test_acc.36</th>\n",
       "      <th>training_time.108</th>\n",
       "      <th>train_acc.108</th>\n",
       "      <th>validation_acc.108</th>\n",
       "      <th>test_acc.108</th>\n",
       "      <th>hamming.dist.max.ta.36</th>\n",
       "      <th>hamming.dist.max.ta.108</th>\n",
       "    </tr>\n",
       "  </thead>\n",
       "  <tbody>\n",
       "    <tr>\n",
       "      <th>4244</th>\n",
       "      <td>1</td>\n",
       "      <td>0</td>\n",
       "      <td>0</td>\n",
       "      <td>0</td>\n",
       "      <td>0</td>\n",
       "      <td>1</td>\n",
       "      <td>1</td>\n",
       "      <td>0</td>\n",
       "      <td>0</td>\n",
       "      <td>0</td>\n",
       "      <td>...</td>\n",
       "      <td>145.111328</td>\n",
       "      <td>0.985076</td>\n",
       "      <td>0.891693</td>\n",
       "      <td>0.884148</td>\n",
       "      <td>417.554321</td>\n",
       "      <td>1.000000</td>\n",
       "      <td>0.932692</td>\n",
       "      <td>0.927384</td>\n",
       "      <td>7.0</td>\n",
       "      <td>12.0</td>\n",
       "    </tr>\n",
       "    <tr>\n",
       "      <th>8899</th>\n",
       "      <td>1</td>\n",
       "      <td>0</td>\n",
       "      <td>0</td>\n",
       "      <td>0</td>\n",
       "      <td>0</td>\n",
       "      <td>1</td>\n",
       "      <td>1</td>\n",
       "      <td>0</td>\n",
       "      <td>0</td>\n",
       "      <td>0</td>\n",
       "      <td>...</td>\n",
       "      <td>147.823669</td>\n",
       "      <td>0.984342</td>\n",
       "      <td>0.896234</td>\n",
       "      <td>0.887487</td>\n",
       "      <td>423.634684</td>\n",
       "      <td>1.000000</td>\n",
       "      <td>0.929754</td>\n",
       "      <td>0.923144</td>\n",
       "      <td>7.0</td>\n",
       "      <td>12.0</td>\n",
       "    </tr>\n",
       "    <tr>\n",
       "      <th>45912</th>\n",
       "      <td>1</td>\n",
       "      <td>0</td>\n",
       "      <td>0</td>\n",
       "      <td>0</td>\n",
       "      <td>0</td>\n",
       "      <td>1</td>\n",
       "      <td>1</td>\n",
       "      <td>0</td>\n",
       "      <td>0</td>\n",
       "      <td>0</td>\n",
       "      <td>...</td>\n",
       "      <td>145.751333</td>\n",
       "      <td>0.984475</td>\n",
       "      <td>0.890692</td>\n",
       "      <td>0.882712</td>\n",
       "      <td>420.761678</td>\n",
       "      <td>0.999967</td>\n",
       "      <td>0.925514</td>\n",
       "      <td>0.921140</td>\n",
       "      <td>7.0</td>\n",
       "      <td>12.0</td>\n",
       "    </tr>\n",
       "    <tr>\n",
       "      <th>102999</th>\n",
       "      <td>1</td>\n",
       "      <td>0</td>\n",
       "      <td>0</td>\n",
       "      <td>0</td>\n",
       "      <td>0</td>\n",
       "      <td>1</td>\n",
       "      <td>1</td>\n",
       "      <td>0</td>\n",
       "      <td>0</td>\n",
       "      <td>0</td>\n",
       "      <td>...</td>\n",
       "      <td>147.365000</td>\n",
       "      <td>0.982572</td>\n",
       "      <td>0.891126</td>\n",
       "      <td>0.883948</td>\n",
       "      <td>433.875651</td>\n",
       "      <td>0.999967</td>\n",
       "      <td>0.923678</td>\n",
       "      <td>0.917435</td>\n",
       "      <td>7.0</td>\n",
       "      <td>12.0</td>\n",
       "    </tr>\n",
       "    <tr>\n",
       "      <th>206043</th>\n",
       "      <td>1</td>\n",
       "      <td>0</td>\n",
       "      <td>0</td>\n",
       "      <td>0</td>\n",
       "      <td>0</td>\n",
       "      <td>1</td>\n",
       "      <td>1</td>\n",
       "      <td>0</td>\n",
       "      <td>0</td>\n",
       "      <td>0</td>\n",
       "      <td>...</td>\n",
       "      <td>147.067332</td>\n",
       "      <td>0.985410</td>\n",
       "      <td>0.885751</td>\n",
       "      <td>0.880876</td>\n",
       "      <td>421.537028</td>\n",
       "      <td>1.000000</td>\n",
       "      <td>0.929153</td>\n",
       "      <td>0.923177</td>\n",
       "      <td>7.0</td>\n",
       "      <td>12.0</td>\n",
       "    </tr>\n",
       "  </tbody>\n",
       "</table>\n",
       "<p>5 rows × 155 columns</p>\n",
       "</div>"
      ],
      "text/plain": [
       "        X1  X2  X3  X4  X5  X6  X7  X8  X9  X10  ...  training_time.36  \\\n",
       "4244     1   0   0   0   0   1   1   0   0    0  ...        145.111328   \n",
       "8899     1   0   0   0   0   1   1   0   0    0  ...        147.823669   \n",
       "45912    1   0   0   0   0   1   1   0   0    0  ...        145.751333   \n",
       "102999   1   0   0   0   0   1   1   0   0    0  ...        147.365000   \n",
       "206043   1   0   0   0   0   1   1   0   0    0  ...        147.067332   \n",
       "\n",
       "        train_acc.36  validation_acc.36  test_acc.36  training_time.108  \\\n",
       "4244        0.985076           0.891693     0.884148         417.554321   \n",
       "8899        0.984342           0.896234     0.887487         423.634684   \n",
       "45912       0.984475           0.890692     0.882712         420.761678   \n",
       "102999      0.982572           0.891126     0.883948         433.875651   \n",
       "206043      0.985410           0.885751     0.880876         421.537028   \n",
       "\n",
       "        train_acc.108  validation_acc.108  test_acc.108  \\\n",
       "4244         1.000000            0.932692      0.927384   \n",
       "8899         1.000000            0.929754      0.923144   \n",
       "45912        0.999967            0.925514      0.921140   \n",
       "102999       0.999967            0.923678      0.917435   \n",
       "206043       1.000000            0.929153      0.923177   \n",
       "\n",
       "        hamming.dist.max.ta.36  hamming.dist.max.ta.108  \n",
       "4244                       7.0                     12.0  \n",
       "8899                       7.0                     12.0  \n",
       "45912                      7.0                     12.0  \n",
       "102999                     7.0                     12.0  \n",
       "206043                     7.0                     12.0  \n",
       "\n",
       "[5 rows x 155 columns]"
      ]
     },
     "execution_count": 16,
     "metadata": {},
     "output_type": "execute_result"
    }
   ],
   "source": [
    "item_cmp = nasbench_res.iloc[8899]\n",
    "get_solution_by_value(item_cmp, indices, nasbench_res)"
   ]
  },
  {
   "cell_type": "code",
   "execution_count": 17,
   "metadata": {},
   "outputs": [
    {
     "data": {
      "text/plain": [
       "Index(['start_points', '.Random.seed', 'metric_name', 'encsize', 'land.df',\n",
       "       'fitness_walk', 'epochs', 'min_acc'],\n",
       "      dtype='object')"
      ]
     },
     "execution_count": 17,
     "metadata": {},
     "output_type": "execute_result"
    }
   ],
   "source": [
    "result.keys()"
   ]
  },
  {
   "cell_type": "code",
   "execution_count": 18,
   "metadata": {},
   "outputs": [],
   "source": [
    "list_few_replicated = [4244, 8899, 45912, 102999, 206043]"
   ]
  },
  {
   "cell_type": "code",
   "execution_count": 19,
   "metadata": {},
   "outputs": [],
   "source": [
    "path_to_eval_file = \"/local_home/trao_ka/projects/andres_code/nasbench/experiments/landscape_with_adj_nb101.json\"\n",
    "with open(path_to_eval_file, 'rb') as filehandle:\n",
    "        # read the data as bina|ry data stream\n",
    "        read_data_nb101_evals = json.load(filehandle)"
   ]
  },
  {
   "cell_type": "code",
   "execution_count": 20,
   "metadata": {},
   "outputs": [],
   "source": [
    "s8899 = read_data_nb101_evals['solutions'][8899]\n",
    "assert s8899['encoded'] == list(item_cmp[indices])"
   ]
  },
  {
   "cell_type": "code",
   "execution_count": 21,
   "metadata": {},
   "outputs": [
    {
     "data": {
      "text/plain": [
       "['input',\n",
       " 'conv3x3-bn-relu',\n",
       " 'conv3x3-bn-relu',\n",
       " 'conv1x1-bn-relu',\n",
       " 'maxpool3x3',\n",
       " 'output']"
      ]
     },
     "execution_count": 21,
     "metadata": {},
     "output_type": "execute_result"
    }
   ],
   "source": [
    "s8899['ops']"
   ]
  },
  {
   "cell_type": "code",
   "execution_count": 22,
   "metadata": {},
   "outputs": [],
   "source": [
    "s4244 = read_data_nb101_evals['solutions'][4244]\n",
    "assert s4244['encoded'] == list(item_cmp[indices])"
   ]
  },
  {
   "cell_type": "code",
   "execution_count": 23,
   "metadata": {},
   "outputs": [
    {
     "data": {
      "text/plain": [
       "['input',\n",
       " 'conv3x3-bn-relu',\n",
       " 'conv3x3-bn-relu',\n",
       " 'conv1x1-bn-relu',\n",
       " 'maxpool3x3',\n",
       " 'output']"
      ]
     },
     "execution_count": 23,
     "metadata": {},
     "output_type": "execute_result"
    }
   ],
   "source": [
    "s4244['ops']"
   ]
  },
  {
   "cell_type": "code",
   "execution_count": 24,
   "metadata": {},
   "outputs": [],
   "source": [
    "s45912 = read_data_nb101_evals['solutions'][45912]\n",
    "assert s45912['encoded'] == list(item_cmp[indices])"
   ]
  },
  {
   "cell_type": "code",
   "execution_count": 25,
   "metadata": {},
   "outputs": [
    {
     "data": {
      "text/plain": [
       "['input',\n",
       " 'conv1x1-bn-relu',\n",
       " 'maxpool3x3',\n",
       " 'conv3x3-bn-relu',\n",
       " 'conv3x3-bn-relu',\n",
       " 'output']"
      ]
     },
     "execution_count": 25,
     "metadata": {},
     "output_type": "execute_result"
    }
   ],
   "source": [
    "s45912['ops']"
   ]
  },
  {
   "cell_type": "code",
   "execution_count": 26,
   "metadata": {},
   "outputs": [],
   "source": [
    "s102999 = read_data_nb101_evals['solutions'][102999]\n",
    "assert s102999['encoded'] == list(item_cmp[indices])"
   ]
  },
  {
   "cell_type": "code",
   "execution_count": 27,
   "metadata": {},
   "outputs": [
    {
     "data": {
      "text/plain": [
       "['input',\n",
       " 'conv3x3-bn-relu',\n",
       " 'conv3x3-bn-relu',\n",
       " 'conv1x1-bn-relu',\n",
       " 'maxpool3x3',\n",
       " 'output']"
      ]
     },
     "execution_count": 27,
     "metadata": {},
     "output_type": "execute_result"
    }
   ],
   "source": [
    "s102999['ops']"
   ]
  },
  {
   "cell_type": "code",
   "execution_count": 28,
   "metadata": {},
   "outputs": [
    {
     "data": {
      "text/plain": [
       "(True, True)"
      ]
     },
     "execution_count": 28,
     "metadata": {},
     "output_type": "execute_result"
    }
   ],
   "source": [
    "s4244['ops'] == s102999['ops'], s102999['ops']== s8899['ops']"
   ]
  },
  {
   "cell_type": "markdown",
   "metadata": {},
   "source": [
    "# Same binary, same ops, different adjacency matrices"
   ]
  },
  {
   "cell_type": "code",
   "execution_count": 29,
   "metadata": {},
   "outputs": [
    {
     "data": {
      "text/plain": [
       "True"
      ]
     },
     "execution_count": 29,
     "metadata": {},
     "output_type": "execute_result"
    }
   ],
   "source": [
    "s4244['ops'] == s102999['ops']"
   ]
  },
  {
   "cell_type": "code",
   "execution_count": 30,
   "metadata": {},
   "outputs": [
    {
     "data": {
      "text/plain": [
       "False"
      ]
     },
     "execution_count": 30,
     "metadata": {},
     "output_type": "execute_result"
    }
   ],
   "source": [
    "s4244['adj_mat']  == s102999['adj_mat']"
   ]
  },
  {
   "cell_type": "code",
   "execution_count": 31,
   "metadata": {},
   "outputs": [
    {
     "data": {
      "text/plain": [
       "(9, 8)"
      ]
     },
     "execution_count": 31,
     "metadata": {},
     "output_type": "execute_result"
    }
   ],
   "source": [
    "np.array(s102999['adj_mat']).sum(), np.array(s4244['adj_mat']).sum()"
   ]
  },
  {
   "cell_type": "code",
   "execution_count": 32,
   "metadata": {},
   "outputs": [
    {
     "data": {
      "text/plain": [
       "([[0, 1, 1, 1, 0, 0],\n",
       "  [0, 0, 1, 0, 0, 1],\n",
       "  [0, 0, 0, 0, 0, 1],\n",
       "  [0, 0, 0, 0, 1, 0],\n",
       "  [0, 0, 0, 0, 0, 1],\n",
       "  [0, 0, 0, 0, 0, 0]],\n",
       " [[0, 1, 1, 1, 0, 0],\n",
       "  [0, 0, 1, 0, 0, 1],\n",
       "  [0, 0, 0, 1, 0, 1],\n",
       "  [0, 0, 0, 0, 1, 0],\n",
       "  [0, 0, 0, 0, 0, 1],\n",
       "  [0, 0, 0, 0, 0, 0]])"
      ]
     },
     "execution_count": 32,
     "metadata": {},
     "output_type": "execute_result"
    }
   ],
   "source": [
    "s4244['adj_mat'],  s102999['adj_mat']"
   ]
  },
  {
   "cell_type": "code",
   "execution_count": 33,
   "metadata": {},
   "outputs": [
    {
     "data": {
      "text/plain": [
       "((array([0, 0, 0, 1, 1, 2, 3, 4]), array([1, 2, 3, 2, 5, 5, 4, 5])),\n",
       " (array([0, 0, 0, 1, 1, 2, 2, 3, 4]), array([1, 2, 3, 2, 5, 3, 5, 4, 5])))"
      ]
     },
     "execution_count": 33,
     "metadata": {},
     "output_type": "execute_result"
    }
   ],
   "source": [
    "np.nonzero(np.array(s4244['adj_mat'])), np.nonzero(s102999['adj_mat'])"
   ]
  },
  {
   "cell_type": "code",
   "execution_count": 34,
   "metadata": {},
   "outputs": [
    {
     "data": {
      "text/plain": [
       "0"
      ]
     },
     "execution_count": 34,
     "metadata": {},
     "output_type": "execute_result"
    }
   ],
   "source": [
    "np.array(s4244['adj_mat'])[np.tril_indices_from(np.array(s4244['adj_mat']))].sum()"
   ]
  },
  {
   "cell_type": "code",
   "execution_count": 35,
   "metadata": {},
   "outputs": [
    {
     "data": {
      "text/plain": [
       "0"
      ]
     },
     "execution_count": 35,
     "metadata": {},
     "output_type": "execute_result"
    }
   ],
   "source": [
    "np.array(s102999['adj_mat'])[np.tril_indices_from(np.array(s102999['adj_mat']))].sum()"
   ]
  },
  {
   "cell_type": "code",
   "execution_count": 36,
   "metadata": {},
   "outputs": [],
   "source": [
    "new_e_4244 = encode_matrix(s4244['adj_mat'], rename_ops(s4244['ops']) )"
   ]
  },
  {
   "cell_type": "code",
   "execution_count": 37,
   "metadata": {},
   "outputs": [],
   "source": [
    "new_e_102999 = encode_matrix(s102999['adj_mat'], rename_ops(s102999['ops']) )"
   ]
  },
  {
   "cell_type": "code",
   "execution_count": 38,
   "metadata": {},
   "outputs": [],
   "source": [
    "assert list(new_e_4244) == list(new_e_102999)"
   ]
  },
  {
   "cell_type": "code",
   "execution_count": 39,
   "metadata": {},
   "outputs": [
    {
     "data": {
      "text/plain": [
       "(8, 8)"
      ]
     },
     "execution_count": 39,
     "metadata": {},
     "output_type": "execute_result"
    }
   ],
   "source": [
    "sum(new_e_4244), sum(new_e_102999)"
   ]
  },
  {
   "cell_type": "code",
   "execution_count": 40,
   "metadata": {},
   "outputs": [
    {
     "data": {
      "text/plain": [
       "(['input',\n",
       "  'conv3x3-bn-relu',\n",
       "  'conv3x3-bn-relu',\n",
       "  'conv1x1-bn-relu',\n",
       "  'maxpool3x3',\n",
       "  'output'],\n",
       " ['input',\n",
       "  'conv3x3-bn-relu_0',\n",
       "  'conv3x3-bn-relu_1',\n",
       "  'conv1x1-bn-relu_0',\n",
       "  'maxpool3x3_0',\n",
       "  'output'])"
      ]
     },
     "execution_count": 40,
     "metadata": {},
     "output_type": "execute_result"
    }
   ],
   "source": [
    "s102999['ops'], rename_ops(s102999['ops'])"
   ]
  },
  {
   "cell_type": "code",
   "execution_count": 41,
   "metadata": {},
   "outputs": [
    {
     "data": {
      "text/plain": [
       "(['input',\n",
       "  'conv3x3-bn-relu',\n",
       "  'conv3x3-bn-relu',\n",
       "  'conv1x1-bn-relu',\n",
       "  'maxpool3x3',\n",
       "  'output'],\n",
       " ['input',\n",
       "  'conv3x3-bn-relu_0',\n",
       "  'conv3x3-bn-relu_1',\n",
       "  'conv1x1-bn-relu_0',\n",
       "  'maxpool3x3_0',\n",
       "  'output'])"
      ]
     },
     "execution_count": 41,
     "metadata": {},
     "output_type": "execute_result"
    }
   ],
   "source": [
    "s4244['ops'], rename_ops(s4244['ops'])"
   ]
  },
  {
   "cell_type": "code",
   "execution_count": 42,
   "metadata": {},
   "outputs": [],
   "source": [
    "\n",
    "def encode_matrix(adj_matrix, ops):\n",
    "    enc_matrix = np.zeros((len(CODING), len(CODING)))\n",
    "    pos = [CODING.index(op) for op in ops]\n",
    "    trans = dict()\n",
    "    for i, ix in enumerate(pos):\n",
    "        trans[i] = ix\n",
    "    i, j = np.nonzero(adj_matrix)\n",
    "    ix = [trans.get(n) for n in i]\n",
    "    jy = [trans.get(n) for n in j]\n",
    "    for p in zip(ix, jy):\n",
    "        enc_matrix[p] = 1\n",
    "    encoded = enc_matrix[np.triu_indices(len(CODING), k=1)]\n",
    "    return encoded.astype(int)\n"
   ]
  },
  {
   "cell_type": "code",
   "execution_count": 43,
   "metadata": {},
   "outputs": [
    {
     "name": "stdout",
     "output_type": "stream",
     "text": [
      "(0, 6)\n",
      "(0, 7)\n",
      "(0, 1)\n",
      "(6, 7)\n",
      "(6, 16)\n",
      "(7, 16)\n",
      "(1, 11)\n",
      "(11, 16)\n"
     ]
    }
   ],
   "source": [
    "enc_matrix_4244 = np.zeros((len(CODING), len(CODING)))\n",
    "pos = [CODING.index(op) for op in rename_ops(s4244['ops'])]\n",
    "trans = dict()\n",
    "for i, ix in enumerate(pos):\n",
    "    trans[i] = ix\n",
    "i4244, j4244 = np.nonzero(s4244['adj_mat'])\n",
    "ix = [trans.get(n) for n in i4244]\n",
    "jy = [trans.get(n) for n in j4244]\n",
    "for p in zip(ix, jy):\n",
    "    print(p)\n",
    "    enc_matrix_4244[p] = 1"
   ]
  },
  {
   "cell_type": "code",
   "execution_count": 44,
   "metadata": {},
   "outputs": [
    {
     "data": {
      "text/plain": [
       "([0, 6, 7, 1, 11, 16],\n",
       " array([0, 0, 0, 1, 1, 2, 3, 4]),\n",
       " array([1, 2, 3, 2, 5, 5, 4, 5]))"
      ]
     },
     "execution_count": 44,
     "metadata": {},
     "output_type": "execute_result"
    }
   ],
   "source": [
    "pos, i4244, j4244"
   ]
  },
  {
   "cell_type": "code",
   "execution_count": 45,
   "metadata": {},
   "outputs": [
    {
     "data": {
      "text/plain": [
       "([0, 0, 0, 6, 6, 7, 1, 11], [6, 7, 1, 7, 16, 16, 11, 16])"
      ]
     },
     "execution_count": 45,
     "metadata": {},
     "output_type": "execute_result"
    }
   ],
   "source": [
    "ix, jy"
   ]
  },
  {
   "cell_type": "code",
   "execution_count": 46,
   "metadata": {},
   "outputs": [
    {
     "name": "stdout",
     "output_type": "stream",
     "text": [
      "(0, 6) 1.0\n",
      "(0, 7) 1.0\n",
      "(0, 1) 1.0\n",
      "(6, 7) 1.0\n",
      "(6, 16) 1.0\n",
      "(7, 1) 1.0\n",
      "(7, 16) 1.0\n",
      "(1, 11) 1.0\n",
      "(11, 16) 1.0\n"
     ]
    }
   ],
   "source": [
    "enc_matrix_102999 = np.zeros((len(CODING), len(CODING)))\n",
    "pos = [CODING.index(op) for op in rename_ops(s102999['ops'])]\n",
    "trans = dict()\n",
    "for i, ix in enumerate(pos):\n",
    "    trans[i] = ix\n",
    "i102999, j102999 = np.nonzero(s102999['adj_mat'])\n",
    "ix = [trans.get(n) for n in i102999]\n",
    "jy = [trans.get(n) for n in j102999]\n",
    "for p in zip(ix, jy):    \n",
    "    enc_matrix_102999[p] = 1\n",
    "    print(p, enc_matrix_102999[p])"
   ]
  },
  {
   "cell_type": "code",
   "execution_count": 47,
   "metadata": {},
   "outputs": [
    {
     "data": {
      "text/plain": [
       "([0, 6, 7, 1, 11, 16],\n",
       " 'conv3x3-bn-relu_1',\n",
       " 'conv1x1-bn-relu_0',\n",
       " ['input',\n",
       "  'conv3x3-bn-relu_0',\n",
       "  'conv3x3-bn-relu_1',\n",
       "  'conv1x1-bn-relu_0',\n",
       "  'maxpool3x3_0',\n",
       "  'output'])"
      ]
     },
     "execution_count": 47,
     "metadata": {},
     "output_type": "execute_result"
    }
   ],
   "source": [
    "pos, CODING[7], CODING[1], rename_ops(s102999['ops'])"
   ]
  },
  {
   "cell_type": "code",
   "execution_count": 48,
   "metadata": {},
   "outputs": [
    {
     "data": {
      "text/plain": [
       "(11, 16)"
      ]
     },
     "execution_count": 48,
     "metadata": {},
     "output_type": "execute_result"
    }
   ],
   "source": [
    "(0, 6)\n",
    "(0, 7)\n",
    "(0, 1)\n",
    "(6, 7)\n",
    "(6, 16)\n",
    "(7, 16)\n",
    "(1, 11)\n",
    "(11, 16)"
   ]
  },
  {
   "cell_type": "code",
   "execution_count": 49,
   "metadata": {},
   "outputs": [
    {
     "data": {
      "text/plain": [
       "([0, 6, 7, 1, 11, 16],\n",
       " array([0, 0, 0, 1, 1, 2, 2, 3, 4]),\n",
       " array([1, 2, 3, 2, 5, 3, 5, 4, 5]))"
      ]
     },
     "execution_count": 49,
     "metadata": {},
     "output_type": "execute_result"
    }
   ],
   "source": [
    "pos, i102999, j102999"
   ]
  },
  {
   "cell_type": "code",
   "execution_count": 50,
   "metadata": {},
   "outputs": [
    {
     "data": {
      "text/plain": [
       "([0, 0, 0, 6, 6, 7, 7, 1, 11], [6, 7, 1, 7, 16, 1, 16, 11, 16])"
      ]
     },
     "execution_count": 50,
     "metadata": {},
     "output_type": "execute_result"
    }
   ],
   "source": [
    "ix, jy"
   ]
  },
  {
   "cell_type": "code",
   "execution_count": 51,
   "metadata": {},
   "outputs": [
    {
     "data": {
      "text/plain": [
       "True"
      ]
     },
     "execution_count": 51,
     "metadata": {},
     "output_type": "execute_result"
    }
   ],
   "source": [
    "np.all(enc_matrix_102999) == np.all(enc_matrix_4244)"
   ]
  },
  {
   "cell_type": "code",
   "execution_count": 52,
   "metadata": {},
   "outputs": [
    {
     "data": {
      "text/plain": [
       "(9.0, 8.0, False)"
      ]
     },
     "execution_count": 52,
     "metadata": {},
     "output_type": "execute_result"
    }
   ],
   "source": [
    "enc_matrix_102999.sum(), enc_matrix_4244.sum(), np.all(enc_matrix_102999 == enc_matrix_4244)"
   ]
  },
  {
   "cell_type": "code",
   "execution_count": 53,
   "metadata": {},
   "outputs": [
    {
     "data": {
      "text/plain": [
       "1.0"
      ]
     },
     "execution_count": 53,
     "metadata": {},
     "output_type": "execute_result"
    }
   ],
   "source": [
    "enc_matrix_102999[np.tril_indices_from(enc_matrix_102999)].sum()"
   ]
  },
  {
   "cell_type": "code",
   "execution_count": 54,
   "metadata": {},
   "outputs": [
    {
     "data": {
      "text/plain": [
       "0.0"
      ]
     },
     "execution_count": 54,
     "metadata": {},
     "output_type": "execute_result"
    }
   ],
   "source": [
    "enc_matrix_4244[np.tril_indices_from(enc_matrix_4244)].sum()"
   ]
  },
  {
   "cell_type": "code",
   "execution_count": 55,
   "metadata": {},
   "outputs": [
    {
     "data": {
      "text/plain": [
       "0"
      ]
     },
     "execution_count": 55,
     "metadata": {},
     "output_type": "execute_result"
    }
   ],
   "source": [
    "np.array(s4244['adj_mat'])[np.tril_indices_from(np.array(s4244['adj_mat']))].sum()"
   ]
  },
  {
   "cell_type": "code",
   "execution_count": 56,
   "metadata": {},
   "outputs": [
    {
     "data": {
      "text/plain": [
       "0"
      ]
     },
     "execution_count": 56,
     "metadata": {},
     "output_type": "execute_result"
    }
   ],
   "source": [
    "np.array(s102999['adj_mat'])[np.tril_indices_from(np.array(s102999['adj_mat']))].sum()"
   ]
  },
  {
   "cell_type": "code",
   "execution_count": 57,
   "metadata": {},
   "outputs": [
    {
     "name": "stdout",
     "output_type": "stream",
     "text": [
      "(0, 6) 1.0\n",
      "(0, 7) 1.0\n",
      "(0, 1) 1.0\n",
      "(6, 7) 1.0\n",
      "(6, 16) 1.0\n",
      "(7, 1) 0.0\n",
      "(7, 16) 1.0\n",
      "(1, 11) 1.0\n",
      "(11, 16) 1.0\n"
     ]
    }
   ],
   "source": [
    "enc_matrix_102999 = np.zeros((len(CODING), len(CODING)))\n",
    "pos = [CODING.index(op) for op in rename_ops(s102999['ops'])]\n",
    "trans = dict()\n",
    "for i, ix in enumerate(pos):\n",
    "    trans[i] = ix\n",
    "i102999, j102999 = np.nonzero(s102999['adj_mat'])\n",
    "ix = [trans.get(n) for n in i102999]\n",
    "jy = [trans.get(n) for n in j102999]\n",
    "for p in zip(ix, jy):   \n",
    "    i, j = p\n",
    "    if j < i:\n",
    "        #print(i, j)\n",
    "        enc_matrix_102999[(j, i)] = 1\n",
    "    else:\n",
    "        enc_matrix_102999[p] = 1\n",
    "    print(p, enc_matrix_102999[p])"
   ]
  },
  {
   "cell_type": "code",
   "execution_count": 58,
   "metadata": {},
   "outputs": [
    {
     "name": "stdout",
     "output_type": "stream",
     "text": [
      "(0, 6)\n",
      "(0, 7)\n",
      "(0, 1)\n",
      "(6, 7)\n",
      "(6, 16)\n",
      "(7, 16)\n",
      "(1, 11)\n",
      "(11, 16)\n"
     ]
    }
   ],
   "source": [
    "enc_matrix_4244 = np.zeros((len(CODING), len(CODING)))\n",
    "pos = [CODING.index(op) for op in rename_ops(s4244['ops'])]\n",
    "trans = dict()\n",
    "for i, ix in enumerate(pos):\n",
    "    trans[i] = ix\n",
    "i4244, j4244 = np.nonzero(s4244['adj_mat'])\n",
    "ix = [trans.get(n) for n in i4244]\n",
    "jy = [trans.get(n) for n in j4244]\n",
    "for p in zip(ix, jy):\n",
    "    print(p)\n",
    "    i, j = p\n",
    "    if j < i:\n",
    "        #print(i, j)\n",
    "        enc_matrix_4244[(j, i)] = 1\n",
    "    else:\n",
    "        enc_matrix_4244[p] = 1"
   ]
  },
  {
   "cell_type": "code",
   "execution_count": null,
   "metadata": {},
   "outputs": [],
   "source": []
  },
  {
   "cell_type": "code",
   "execution_count": 59,
   "metadata": {},
   "outputs": [
    {
     "data": {
      "text/plain": [
       "9.0"
      ]
     },
     "execution_count": 59,
     "metadata": {},
     "output_type": "execute_result"
    }
   ],
   "source": [
    "enc_matrix_102999[np.triu_indices_from(enc_matrix_102999)].sum()"
   ]
  },
  {
   "cell_type": "code",
   "execution_count": 60,
   "metadata": {},
   "outputs": [
    {
     "data": {
      "text/plain": [
       "8.0"
      ]
     },
     "execution_count": 60,
     "metadata": {},
     "output_type": "execute_result"
    }
   ],
   "source": [
    "enc_matrix_4244[np.triu_indices_from(enc_matrix_4244)].sum()"
   ]
  },
  {
   "cell_type": "code",
   "execution_count": 61,
   "metadata": {},
   "outputs": [],
   "source": [
    "def encode_matrix_fixed(adj_matrix, ops):\n",
    "    enc_matrix = np.zeros((len(CODING), len(CODING)))\n",
    "    pos = [CODING.index(op) for op in ops]\n",
    "    trans = dict()\n",
    "    for i, ix in enumerate(pos):\n",
    "        trans[i] = ix\n",
    "    i, j = np.nonzero(adj_matrix)\n",
    "    ix = [trans.get(n) for n in i]\n",
    "    jy = [trans.get(n) for n in j]\n",
    "    for p in zip(ix, jy):\n",
    "        i, j = p\n",
    "        if j < i:\n",
    "            #print(i, j)\n",
    "            enc_matrix[(j, i)] = 1\n",
    "        else:\n",
    "            enc_matrix[p] = 1\n",
    "    encoded = enc_matrix[np.triu_indices(len(CODING), k=1)]\n",
    "    return encoded.astype(int)"
   ]
  },
  {
   "cell_type": "code",
   "execution_count": 62,
   "metadata": {},
   "outputs": [],
   "source": [
    "sols = read_data_nb101_evals['solutions']"
   ]
  },
  {
   "cell_type": "code",
   "execution_count": 63,
   "metadata": {},
   "outputs": [],
   "source": [
    "new_distinct = [encode_matrix_fixed(sols[idx_replicated]['adj_mat'], rename_ops(sols[idx_replicated]['ops'])) for idx_replicated in list_few_replicated]"
   ]
  },
  {
   "cell_type": "code",
   "execution_count": 64,
   "metadata": {},
   "outputs": [
    {
     "data": {
      "text/plain": [
       "[True, False, False, False, False]"
      ]
     },
     "execution_count": 64,
     "metadata": {},
     "output_type": "execute_result"
    }
   ],
   "source": [
    "[np.all(item_cmp[indices].values == e_i) for e_i in new_distinct]"
   ]
  },
  {
   "cell_type": "code",
   "execution_count": 65,
   "metadata": {},
   "outputs": [
    {
     "data": {
      "text/plain": [
       "(0,\n",
       " 5,\n",
       " [(array([  0,   5,   6,  25,  81,  90,  99, 125]),),\n",
       "  (array([  0,   5,   6,  20,  25,  81,  90,  99, 125]),),\n",
       "  (array([  0,   5,   6,  25,  81,  85,  90,  99, 125]),),\n",
       "  (array([  0,   5,   6,  21,  25,  81,  90,  99, 125]),),\n",
       "  (array([  0,   5,   6,  25,  81,  90,  94,  99, 125]),)])"
      ]
     },
     "execution_count": 65,
     "metadata": {},
     "output_type": "execute_result"
    }
   ],
   "source": [
    "cpt = 0\n",
    "l = list()\n",
    "for e in new_distinct:\n",
    "    e_str = str(list(e))\n",
    "    if e_str in l:\n",
    "        cpt +=1\n",
    "    else:\n",
    "        l.append(np.nonzero(e))\n",
    "cpt, len(l), l    \n"
   ]
  },
  {
   "cell_type": "markdown",
   "metadata": {},
   "source": [
    "# Collect Optima via Local Search"
   ]
  },
  {
   "cell_type": "markdown",
   "metadata": {},
   "source": [
    "## Results from the server: 15 seeds of 100 Random-Restart LS "
   ]
  },
  {
   "cell_type": "code",
   "execution_count": 66,
   "metadata": {},
   "outputs": [],
   "source": [
    "import glob2\n",
    "import json"
   ]
  },
  {
   "cell_type": "code",
   "execution_count": 67,
   "metadata": {},
   "outputs": [],
   "source": [
    "\n",
    "result_files = glob2.glob('card_optima/seed_*_points.txt')"
   ]
  },
  {
   "cell_type": "code",
   "execution_count": 68,
   "metadata": {},
   "outputs": [
    {
     "data": {
      "text/plain": [
       "['card_optima/seed_1_100_points.txt',\n",
       " 'card_optima/seed_10_100_points.txt',\n",
       " 'card_optima/seed_2_100_points.txt',\n",
       " 'card_optima/seed_5_100_points.txt',\n",
       " 'card_optima/seed_12_100_points.txt',\n",
       " 'card_optima/seed_14_100_points.txt',\n",
       " 'card_optima/seed_11_100_points.txt',\n",
       " 'card_optima/seed_4_100_points.txt',\n",
       " 'card_optima/seed_13_100_points.txt',\n",
       " 'card_optima/seed_0_100_points.txt',\n",
       " 'card_optima/seed_3_100_points.txt',\n",
       " 'card_optima/seed_6_100_points.txt',\n",
       " 'card_optima/seed_9_100_points.txt',\n",
       " 'card_optima/seed_8_100_points.txt',\n",
       " 'card_optima/seed_7_100_points.txt']"
      ]
     },
     "execution_count": 68,
     "metadata": {},
     "output_type": "execute_result"
    }
   ],
   "source": [
    "result_files"
   ]
  },
  {
   "cell_type": "code",
   "execution_count": 69,
   "metadata": {},
   "outputs": [],
   "source": [
    "results_per_seed = list()\n",
    "\n",
    "for file_i in result_files:\n",
    "    with open(file_i, 'rb') as filehandle:\n",
    "        # read the data as bina|ry data stream\n",
    "        res_i = json.load(filehandle)\n",
    "        results_per_seed.append(res_i)"
   ]
  },
  {
   "cell_type": "code",
   "execution_count": 70,
   "metadata": {},
   "outputs": [],
   "source": [
    "def card_optima(K_until_repeat, P_D=0.5):\n",
    "\n",
    "    N_numer = K_until_repeat ** 2\n",
    "    N_denom = -2 * np.log(1 - P_D) \n",
    "    return int(N_numer/ N_denom)"
   ]
  },
  {
   "cell_type": "code",
   "execution_count": 71,
   "metadata": {},
   "outputs": [
    {
     "data": {
      "text/plain": [
       "349"
      ]
     },
     "execution_count": 71,
     "metadata": {},
     "output_type": "execute_result"
    }
   ],
   "source": [
    "card_optima(22)"
   ]
  },
  {
   "cell_type": "code",
   "execution_count": 72,
   "metadata": {},
   "outputs": [
    {
     "name": "stdout",
     "output_type": "stream",
     "text": [
      "1 3.75 6.579760991036893 1 52 1950 \n",
      "\n",
      "10 3.94 6.301916554570199 2 76 4166 \n",
      "\n",
      "2 3.8 6.07348440339168 6 40 1154 \n",
      "\n",
      "5 3.96 6.893195793032645 4 54 2103 \n",
      "\n",
      "12 3.74 7.0088806847731275 3 18 233 \n",
      "\n",
      "14 3.98 5.332865794499716 3 26 487 \n",
      "\n",
      "11 3.68 4.8557694256305695 3 23 381 \n",
      "\n",
      "4 3.92 5.86792178452015 2 40 1154 \n",
      "\n",
      "13 3.76 6.713274595638115 2 65 3047 \n",
      "\n",
      "0 3.77 6.2995791013042135 3 59 2511 \n",
      "\n",
      "3 4.01 5.530448657770952 1 90 5842 \n",
      "\n",
      "6 3.71 6.690704966584843 5 10 72 \n",
      "\n",
      "9 3.95 5.898070375124615 3 42 1272 \n",
      "\n",
      "8 3.66 5.307792328298093 2 26 487 \n",
      "\n",
      "7 4.17 6.975127235054969 4 31 693 \n",
      "\n"
     ]
    },
    {
     "data": {
      "text/plain": [
       "(43.46666666666667, 1362)"
      ]
     },
     "execution_count": 72,
     "metadata": {},
     "output_type": "execute_result"
    }
   ],
   "source": [
    "offset_zero_indexing = 1\n",
    "\n",
    "avg_first_index = list()\n",
    "\n",
    "\n",
    "for r_i in results_per_seed:\n",
    "    seed_i, duration_i, stats = r_i\n",
    "    \n",
    "    list_ending_points = [s_[0] for s_ in stats]\n",
    "    list_starting_points = [s_[3] for s_ in stats]\n",
    "    \n",
    "    list_steps = [s_[2] + offset_zero_indexing  for s_ in stats]    \n",
    "    mean_steps = np.mean(list_steps)\n",
    "    std_steps = np.std(list_steps)\n",
    "    \n",
    "    list_acc_test_end = [s_[1] for s_ in stats]\n",
    "    mean_acc_test_end = np.mean(list_acc_test_end)\n",
    "    \n",
    "    list_starting_acc_test = [nasbench_res.loc[s_]['test_acc.36'] for s_ in list_starting_points]\n",
    "    mean_acc_test_start = np.mean(list_starting_acc_test)\n",
    "    \n",
    "    assert len(list_starting_points) == len(list_acc_test_end)\n",
    "    len_item = len(list_starting_points)\n",
    "    \n",
    "    list_improvement = [list_acc_test_end[item_j] - list_starting_acc_test[item_j] for item_j in range(len_item)]\n",
    "    mean_acc_test_diff = np.mean(list_improvement)\n",
    "    mean_acc_test_diff = mean_acc_test_diff * 100\n",
    "    \n",
    "    #print(list_starting_acc_test)\n",
    "    distinct_starting = len(set(list_starting_points))\n",
    "    distinct_ending = len(set(list_ending_points))\n",
    "    \n",
    "    \n",
    "    all_models = list()\n",
    "    idx_first_repeat = None\n",
    "    for i, e in enumerate(list_ending_points):\n",
    "        if e in all_models:\n",
    "            idx_first_repeat = i + offset_zero_indexing\n",
    "            break;\n",
    "        else: \n",
    "            all_models.append(e)\n",
    "    \n",
    "    avg_first_index.append(idx_first_repeat)\n",
    "    print(seed_i, mean_steps, mean_acc_test_diff, 100 - distinct_ending, \n",
    "          idx_first_repeat, card_optima(idx_first_repeat), '\\n')\n",
    "\n",
    "avg_first_index = np.mean(avg_first_index)\n",
    "N_avg = card_optima(avg_first_index)\n",
    "avg_first_index, N_avg"
   ]
  },
  {
   "cell_type": "code",
   "execution_count": 73,
   "metadata": {},
   "outputs": [
    {
     "data": {
      "text/plain": [
       "(0.32151152909183617, 423624)"
      ]
     },
     "execution_count": 73,
     "metadata": {},
     "output_type": "execute_result"
    }
   ],
   "source": [
    "N_avg / nasbench_res.shape[0] * 100, nasbench_res.shape[0]"
   ]
  },
  {
   "cell_type": "markdown",
   "metadata": {},
   "source": [
    "## Getting the GroundTruth"
   ]
  },
  {
   "cell_type": "code",
   "execution_count": 74,
   "metadata": {},
   "outputs": [
    {
     "data": {
      "text/plain": [
       "(0.00020766258239746094, [])"
      ]
     },
     "execution_count": 74,
     "metadata": {},
     "output_type": "execute_result"
    }
   ],
   "source": [
    "Max_index = 0\n",
    "n_threads = 8\n",
    "\n",
    "is_local_optima = list()\n",
    "\n",
    "s_time = time.time()\n",
    "\n",
    "for idx_i in range(Max_index):\n",
    "    current_data = nasbench_res.loc[idx_i]\n",
    "    current_perfs_36e = current_data['test_acc.36']\n",
    "    nei = collect_nei(current_data[indices], len_encoding=len(indices))       \n",
    "        \n",
    "    with Pool(n_threads) as p:\n",
    "        solutions = p.starmap(get_solution_by_value_perfs_idx, \n",
    "                              [(i_nei, indices, nasbench_res) for i_nei in nei])\n",
    "        \n",
    "    best_index_nei, best_perfs_36_nei = max(solutions, key=lambda x:x[1])\n",
    "    \n",
    "    if current_perfs_36e > best_perfs_36_nei and best_index_nei != idx_i:\n",
    "        is_local_optima.append(idx_i)\n",
    "    \n",
    "e_time = time.time()\n",
    "\n",
    "duration = e_time - s_time\n",
    "\n",
    "duration, is_local_optima\n",
    "\n"
   ]
  },
  {
   "cell_type": "code",
   "execution_count": 75,
   "metadata": {},
   "outputs": [
    {
     "data": {
      "text/plain": [
       "9.3"
      ]
     },
     "execution_count": 75,
     "metadata": {},
     "output_type": "execute_result"
    }
   ],
   "source": [
    "93/10"
   ]
  },
  {
   "cell_type": "code",
   "execution_count": 76,
   "metadata": {},
   "outputs": [
    {
     "data": {
      "text/plain": [
       "3.8750000000000004"
      ]
     },
     "execution_count": 76,
     "metadata": {},
     "output_type": "execute_result"
    }
   ],
   "source": [
    "9.3*1500 / (3600)"
   ]
  },
  {
   "cell_type": "code",
   "execution_count": 77,
   "metadata": {},
   "outputs": [
    {
     "data": {
      "text/plain": [
       "6000"
      ]
     },
     "execution_count": 77,
     "metadata": {},
     "output_type": "execute_result"
    }
   ],
   "source": [
    "1500 * 4"
   ]
  },
  {
   "cell_type": "code",
   "execution_count": 78,
   "metadata": {},
   "outputs": [
    {
     "data": {
      "text/plain": [
       "(7.224082946777344e-05, [])"
      ]
     },
     "execution_count": 78,
     "metadata": {},
     "output_type": "execute_result"
    }
   ],
   "source": [
    "Max_index = 0 #nasbench_res.shape[0]\n",
    "n_threads = 8\n",
    "\n",
    "is_local_optima = list()\n",
    "\n",
    "dict_binary_to_perfs = dict()\n",
    "\n",
    "s_time = time.time()\n",
    "\n",
    "for idx_i in range(Max_index):\n",
    "    current_data = nasbench_res.loc[idx_i]\n",
    "    current_perfs_36e = current_data['test_acc.36']\n",
    "    #nei = collect_nei(current_data[indices], len_encoding=len(indices))       \n",
    "        \n",
    "    #with Pool(n_threads) as p:\n",
    "    #    solutions = p.starmap(get_solution_by_value_perfs_idx, \n",
    "    #                          [(i_nei, indices, nasbench_res) for i_nei in nei])\n",
    "    #    \n",
    "    #best_index_nei, best_perfs_36_nei = max(solutions, key=lambda x:x[1])\n",
    "    #\n",
    "    #if current_perfs_36e > best_perfs_36_nei and best_index_nei != idx_i:\n",
    "    #    is_local_optima.append(idx_i)\n",
    "    binary_i = list(current_data[indices].values)\n",
    "    binary_i = str(binary_i)\n",
    "    test[binary_i] = current_perfs_36e\n",
    "e_time = time.time()\n",
    "\n",
    "duration = e_time - s_time\n",
    "\n",
    "duration, is_local_optima"
   ]
  },
  {
   "cell_type": "markdown",
   "metadata": {},
   "source": [
    "# Recomputing all encodings"
   ]
  },
  {
   "cell_type": "code",
   "execution_count": 79,
   "metadata": {},
   "outputs": [],
   "source": [
    "def collect_nei(str_current, len_encoding):\n",
    "    nei_current = list()\n",
    "    for i in range(len_encoding):\n",
    "        nei_i = str_current.copy()\n",
    "        if str_current[i] == 0:\n",
    "            nei_i[i] = 1\n",
    "        else: \n",
    "            nei_i[i] = 0\n",
    "        nei_current.append(nei_i)\n",
    "    return nei_current    "
   ]
  },
  {
   "cell_type": "code",
   "execution_count": 144,
   "metadata": {},
   "outputs": [],
   "source": [
    "solutions = read_data_nb101_evals['solutions']\n",
    "card_space = len(solutions)\n",
    "\n",
    "\n",
    "dict_binary_to_perfs = dict()\n",
    "dict_binary_to_ids = dict()\n",
    "\n",
    "s_time = time.time()\n",
    "\n",
    "\n",
    "for sol_i in range(card_space):\n",
    "    ops = rename_ops(solutions[sol_i]['ops'])\n",
    "    binary_i = encode_matrix_fixed(solutions[sol_i]['adj_mat'], ops)    \n",
    "    binary_i = list(binary_i)\n",
    "    binary_i = str(binary_i)\n",
    "    dict_binary_to_perfs[binary_i] = solutions[sol_i]['fitness']['36']['test_acc']\n",
    "    \n",
    "    if dict_binary_to_ids.get(binary_i, -1) == -1:\n",
    "        dict_binary_to_ids[binary_i] = list()\n",
    "    dict_binary_to_ids[binary_i].append(sol_i)\n",
    "\n",
    "e_time = time.time()\n",
    "\n",
    "duration = e_time - s_time\n"
   ]
  },
  {
   "cell_type": "code",
   "execution_count": 145,
   "metadata": {},
   "outputs": [
    {
     "data": {
      "text/plain": [
       "dict_keys(['training_time', 'train_acc', 'validation_acc', 'test_acc'])"
      ]
     },
     "execution_count": 145,
     "metadata": {},
     "output_type": "execute_result"
    }
   ],
   "source": [
    "solutions[0]['fitness']['36'].keys()"
   ]
  },
  {
   "cell_type": "code",
   "execution_count": 146,
   "metadata": {},
   "outputs": [
    {
     "data": {
      "text/plain": [
       "(44.95506691932678, 364201, 364201)"
      ]
     },
     "execution_count": 146,
     "metadata": {},
     "output_type": "execute_result"
    }
   ],
   "source": [
    "duration, len(dict_binary_to_perfs.keys()), len(dict_binary_to_perfs)"
   ]
  },
  {
   "cell_type": "code",
   "execution_count": 147,
   "metadata": {},
   "outputs": [
    {
     "data": {
      "text/plain": [
       "0.1402729779238192"
      ]
     },
     "execution_count": 147,
     "metadata": {},
     "output_type": "execute_result"
    }
   ],
   "source": [
    "1 - len(dict_binary_to_perfs.keys()) / nasbench_res.shape[0]"
   ]
  },
  {
   "cell_type": "code",
   "execution_count": 148,
   "metadata": {},
   "outputs": [],
   "source": [
    "dict_keys = list(dict_binary_to_perfs.keys())"
   ]
  },
  {
   "cell_type": "code",
   "execution_count": 149,
   "metadata": {},
   "outputs": [],
   "source": [
    "ids_per_encoding = list(dict_binary_to_ids.values())"
   ]
  },
  {
   "cell_type": "code",
   "execution_count": 150,
   "metadata": {},
   "outputs": [],
   "source": [
    "len_list = [len(id_list) for id_list in ids_per_encoding]"
   ]
  },
  {
   "cell_type": "code",
   "execution_count": 151,
   "metadata": {},
   "outputs": [],
   "source": [
    "max_duplicates = np.max(len_list)\n",
    "max_duplicates_pos = len_list.index(max_duplicates)"
   ]
  },
  {
   "cell_type": "code",
   "execution_count": 152,
   "metadata": {},
   "outputs": [
    {
     "data": {
      "text/plain": [
       "([20627, 49196, 108185, 253505, 266270, 418303], 6)"
      ]
     },
     "execution_count": 152,
     "metadata": {},
     "output_type": "execute_result"
    }
   ],
   "source": [
    "ids_per_encoding[max_duplicates_pos], max_duplicates"
   ]
  },
  {
   "cell_type": "code",
   "execution_count": 153,
   "metadata": {},
   "outputs": [
    {
     "name": "stdout",
     "output_type": "stream",
     "text": [
      "['input', 'maxpool3x3', 'conv1x1-bn-relu', 'conv3x3-bn-relu', 'output']\n",
      "[[0, 1, 1, 1, 0], [0, 0, 1, 1, 1], [0, 0, 0, 1, 1], [0, 0, 0, 0, 1], [0, 0, 0, 0, 0]] \n",
      "\n",
      "['input', 'conv1x1-bn-relu', 'conv3x3-bn-relu', 'maxpool3x3', 'output']\n",
      "[[0, 1, 1, 1, 0], [0, 0, 1, 1, 1], [0, 0, 0, 1, 1], [0, 0, 0, 0, 1], [0, 0, 0, 0, 0]] \n",
      "\n",
      "['input', 'conv1x1-bn-relu', 'maxpool3x3', 'conv3x3-bn-relu', 'output']\n",
      "[[0, 1, 1, 1, 0], [0, 0, 1, 1, 1], [0, 0, 0, 1, 1], [0, 0, 0, 0, 1], [0, 0, 0, 0, 0]] \n",
      "\n",
      "['input', 'conv3x3-bn-relu', 'conv1x1-bn-relu', 'maxpool3x3', 'output']\n",
      "[[0, 1, 1, 1, 0], [0, 0, 1, 1, 1], [0, 0, 0, 1, 1], [0, 0, 0, 0, 1], [0, 0, 0, 0, 0]] \n",
      "\n",
      "['input', 'maxpool3x3', 'conv3x3-bn-relu', 'conv1x1-bn-relu', 'output']\n",
      "[[0, 1, 1, 1, 0], [0, 0, 1, 1, 1], [0, 0, 0, 1, 1], [0, 0, 0, 0, 1], [0, 0, 0, 0, 0]] \n",
      "\n",
      "['input', 'conv3x3-bn-relu', 'maxpool3x3', 'conv1x1-bn-relu', 'output']\n",
      "[[0, 1, 1, 1, 0], [0, 0, 1, 1, 1], [0, 0, 0, 1, 1], [0, 0, 0, 0, 1], [0, 0, 0, 0, 0]] \n",
      "\n"
     ]
    }
   ],
   "source": [
    "for idx_dupl in ids_per_encoding[max_duplicates_pos]:\n",
    "    print(solutions[idx_dupl]['ops'])\n",
    "    print(solutions[idx_dupl]['adj_mat'], '\\n')\n",
    "    "
   ]
  },
  {
   "cell_type": "code",
   "execution_count": 154,
   "metadata": {
    "scrolled": false
   },
   "outputs": [
    {
     "name": "stdout",
     "output_type": "stream",
     "text": [
      "['input', 'maxpool3x3', 'conv1x1-bn-relu', 'conv3x3-bn-relu', 'output']\n",
      "9 \n",
      "\n",
      "['input', 'conv1x1-bn-relu', 'conv3x3-bn-relu', 'maxpool3x3', 'output']\n",
      "9 \n",
      "\n",
      "['input', 'conv1x1-bn-relu', 'maxpool3x3', 'conv3x3-bn-relu', 'output']\n",
      "9 \n",
      "\n",
      "['input', 'conv3x3-bn-relu', 'conv1x1-bn-relu', 'maxpool3x3', 'output']\n",
      "9 \n",
      "\n",
      "['input', 'maxpool3x3', 'conv3x3-bn-relu', 'conv1x1-bn-relu', 'output']\n",
      "9 \n",
      "\n",
      "['input', 'conv3x3-bn-relu', 'maxpool3x3', 'conv1x1-bn-relu', 'output']\n",
      "9 \n",
      "\n"
     ]
    }
   ],
   "source": [
    "for idx_dupl in ids_per_encoding[max_duplicates_pos]:\n",
    "    print(solutions[idx_dupl]['ops'])\n",
    "    print(encode_matrix_fixed(solutions[idx_dupl]['adj_mat'], rename_ops(solutions[idx_dupl]['ops'])).sum(), '\\n')\n",
    "    "
   ]
  },
  {
   "cell_type": "code",
   "execution_count": 155,
   "metadata": {},
   "outputs": [
    {
     "name": "stdout",
     "output_type": "stream",
     "text": [
      "['input', 'maxpool3x3', 'conv1x1-bn-relu', 'conv3x3-bn-relu', 'output'] \n",
      "\n",
      "['input', 'conv1x1-bn-relu', 'conv3x3-bn-relu', 'maxpool3x3', 'output'] \n",
      "\n",
      "['input', 'conv1x1-bn-relu', 'maxpool3x3', 'conv3x3-bn-relu', 'output'] \n",
      "\n",
      "['input', 'conv3x3-bn-relu', 'conv1x1-bn-relu', 'maxpool3x3', 'output'] \n",
      "\n",
      "['input', 'maxpool3x3', 'conv3x3-bn-relu', 'conv1x1-bn-relu', 'output'] \n",
      "\n",
      "['input', 'conv3x3-bn-relu', 'maxpool3x3', 'conv1x1-bn-relu', 'output'] \n",
      "\n"
     ]
    }
   ],
   "source": [
    "solutions = read_data_nb101_evals['solutions']\n",
    "set_common_ops = set()\n",
    "\n",
    "for idx_dupl in ids_per_encoding[max_duplicates_pos]:\n",
    "    #print(idx_dupl)\n",
    "    #print(solutions[idx_dupl]['ops'])\n",
    "    set_common_ops.update(solutions[idx_dupl]['ops'])\n",
    "    print(solutions[idx_dupl]['ops'], '\\n')\n",
    "    #print(encode_matrix_fixed(solutions[idx_dupl]['adj_mat'], rename_ops(solutions[idx_dupl]['ops'])), '\\n')\n",
    "    #print(solutions[idx_dupl]['adj_mat'], '\\n')"
   ]
  },
  {
   "cell_type": "code",
   "execution_count": 156,
   "metadata": {},
   "outputs": [
    {
     "data": {
      "text/plain": [
       "{'conv1x1-bn-relu', 'conv3x3-bn-relu', 'input', 'maxpool3x3', 'output'}"
      ]
     },
     "execution_count": 156,
     "metadata": {},
     "output_type": "execute_result"
    }
   ],
   "source": [
    "set_common_ops"
   ]
  },
  {
   "cell_type": "code",
   "execution_count": 157,
   "metadata": {},
   "outputs": [
    {
     "name": "stdout",
     "output_type": "stream",
     "text": [
      "20627\n",
      "['input', 'maxpool3x3_0', 'conv1x1-bn-relu_0', 'conv3x3-bn-relu_0', 'output'] \n",
      "\n",
      "49196\n",
      "['input', 'conv1x1-bn-relu_0', 'conv3x3-bn-relu_0', 'maxpool3x3_0', 'output'] \n",
      "\n",
      "108185\n",
      "['input', 'conv1x1-bn-relu_0', 'maxpool3x3_0', 'conv3x3-bn-relu_0', 'output'] \n",
      "\n",
      "253505\n",
      "['input', 'conv3x3-bn-relu_0', 'conv1x1-bn-relu_0', 'maxpool3x3_0', 'output'] \n",
      "\n",
      "266270\n",
      "['input', 'maxpool3x3_0', 'conv3x3-bn-relu_0', 'conv1x1-bn-relu_0', 'output'] \n",
      "\n",
      "418303\n",
      "['input', 'conv3x3-bn-relu_0', 'maxpool3x3_0', 'conv1x1-bn-relu_0', 'output'] \n",
      "\n"
     ]
    }
   ],
   "source": [
    "set_common_ops = set()\n",
    "for idx_dupl in ids_per_encoding[max_duplicates_pos]:\n",
    "    print(idx_dupl)\n",
    "    set_common_ops.update(rename_ops(solutions[idx_dupl]['ops']))\n",
    "    print(rename_ops(solutions[idx_dupl]['ops']), '\\n')"
   ]
  },
  {
   "cell_type": "code",
   "execution_count": 158,
   "metadata": {},
   "outputs": [
    {
     "data": {
      "text/plain": [
       "{'conv1x1-bn-relu_0', 'conv3x3-bn-relu_0', 'input', 'maxpool3x3_0', 'output'}"
      ]
     },
     "execution_count": 158,
     "metadata": {},
     "output_type": "execute_result"
    }
   ],
   "source": [
    "set_common_ops"
   ]
  },
  {
   "cell_type": "code",
   "execution_count": null,
   "metadata": {},
   "outputs": [],
   "source": []
  },
  {
   "cell_type": "code",
   "execution_count": 159,
   "metadata": {},
   "outputs": [
    {
     "name": "stderr",
     "output_type": "stream",
     "text": [
      "No handles with labels found to put in legend.\n"
     ]
    },
    {
     "data": {
      "image/png": "[encoded data removed]",
      "text/plain": [
       "<Figure size 720x432 with 1 Axes>"
      ]
     },
     "metadata": {
      "needs_background": "light"
     },
     "output_type": "display_data"
    }
   ],
   "source": [
    "import matplotlib.pyplot as plt\n",
    "import seaborn as sns \n",
    "\n",
    "plt.figure(figsize=(10,6))\n",
    "#plt.xlim(0, max(y_training_time_108))\n",
    "sns.distplot(len_list, hist = True, kde = False,\n",
    "                 kde_kws = {'linewidth': 1}, \n",
    "                 label = \"\", rug=True)\n",
    "plt.title(label='')\n",
    "plt.legend(loc='upper right')\n",
    "plt.xlabel('Duplication of models per encoding (1 = No Duplicate)')\n",
    "plt.show()"
   ]
  },
  {
   "cell_type": "code",
   "execution_count": 191,
   "metadata": {},
   "outputs": [],
   "source": [
    "POS_CONV1X1 = 0\n",
    "POS_CONV3X3 = None\n",
    "POS_MAXPOOL3X3 = None\n",
    "\n",
    "MAX_NODES = 7\n",
    "MAX_EDGES = 9\n",
    "\n",
    "INPUT = 'input'\n",
    "OUTPUT = 'output'\n",
    "CONV1X1 = 'conv1x1-bn-relu'\n",
    "CONV3X3 = 'conv3x3-bn-relu'\n",
    "MAXPOOL3X3 = 'maxpool3x3'\n",
    "\n",
    "CODING = [INPUT]\n",
    "CODING = CODING + [CONV1X1 + \"_\" + str(i) for i in range(0, (MAX_NODES - 2))]\n",
    "CODING = CODING + [CONV3X3 + \"_\" + str(i) for i in range(0, (MAX_NODES - 2))]\n",
    "CODING = CODING + [MAXPOOL3X3 + \"_\" + str(i) for i in range(0, (MAX_NODES - 2))]\n",
    "CODING = CODING + [OUTPUT]\n",
    "\n",
    "def encode_matrix_fixed(adj_matrix, ops):\n",
    "    enc_matrix = np.zeros((len(CODING), len(CODING)))\n",
    "    pos = [CODING.index(op) for op in ops]\n",
    "    trans = dict()\n",
    "    for i, ix in enumerate(pos):\n",
    "        trans[i] = ix\n",
    "    i, j = np.nonzero(adj_matrix)\n",
    "    ix = [trans.get(n) for n in i]\n",
    "    jy = [trans.get(n) for n in j]\n",
    "    for p in zip(ix, jy):\n",
    "        i, j = p\n",
    "        if j < i:\n",
    "            #print(i, j)\n",
    "            enc_matrix[(j, i)] = 1\n",
    "        else:\n",
    "            enc_matrix[p] = 1\n",
    "    encoded = enc_matrix[np.triu_indices(len(CODING), k=1)]\n",
    "    return encoded.astype(int)\n",
    "\n",
    "def encode_matrix_fixed_long(adj_matrix, ops):\n",
    "    enc_matrix = np.zeros((len(CODING), len(CODING)))\n",
    "    pos = [CODING.index(op) for op in ops]\n",
    "    trans = dict()\n",
    "    for i, ix in enumerate(pos):\n",
    "        trans[i] = ix\n",
    "    i, j = np.nonzero(adj_matrix)\n",
    "    ix = [trans.get(n) for n in i]\n",
    "    jy = [trans.get(n) for n in j]\n",
    "    for p in zip(ix, jy):\n",
    "        enc_matrix[p] = 1\n",
    "    # Flattenning in C (row-major) ording\n",
    "    encoded =  enc_matrix.flatten('C') \n",
    "    #enc_matrix[np.triu_indices(len(CODING), k=1)]\n",
    "    return encoded.astype(int)\n",
    "\n",
    "def rename_ops_fixed(ops):\n",
    "    c1x1 = 0\n",
    "    c3x3 = 0\n",
    "    mp3x3 = 0\n",
    "    new_ops = []\n",
    "    for op in ops:\n",
    "        if op == CONV1X1:\n",
    "            new_ops = new_ops + [op + \"_\" + str(c1x1)]\n",
    "            c1x1 = c1x1 + 1\n",
    "        elif op == CONV3X3:\n",
    "            new_ops = new_ops + [op + \"_\" + str(c3x3)]\n",
    "            c3x3 = c3x3 + 1\n",
    "        elif op == MAXPOOL3X3:\n",
    "            new_ops = new_ops + [op + \"_\" + str(mp3x3)]\n",
    "            mp3x3 = mp3x3 + 1\n",
    "        else:\n",
    "            new_ops = new_ops + [op]\n",
    "    return new_ops"
   ]
  },
  {
   "cell_type": "code",
   "execution_count": 192,
   "metadata": {},
   "outputs": [
    {
     "data": {
      "text/plain": [
       "['input',\n",
       " 'conv1x1-bn-relu_0',\n",
       " 'conv1x1-bn-relu_1',\n",
       " 'conv1x1-bn-relu_2',\n",
       " 'conv1x1-bn-relu_3',\n",
       " 'conv1x1-bn-relu_4',\n",
       " 'conv3x3-bn-relu_0',\n",
       " 'conv3x3-bn-relu_1',\n",
       " 'conv3x3-bn-relu_2',\n",
       " 'conv3x3-bn-relu_3',\n",
       " 'conv3x3-bn-relu_4',\n",
       " 'maxpool3x3_0',\n",
       " 'maxpool3x3_1',\n",
       " 'maxpool3x3_2',\n",
       " 'maxpool3x3_3',\n",
       " 'maxpool3x3_4',\n",
       " 'output']"
      ]
     },
     "execution_count": 192,
     "metadata": {},
     "output_type": "execute_result"
    }
   ],
   "source": [
    "CODING"
   ]
  },
  {
   "cell_type": "code",
   "execution_count": 193,
   "metadata": {},
   "outputs": [],
   "source": [
    "solutions = read_data_nb101_evals['solutions']\n",
    "card_space = len(solutions)\n",
    "\n",
    "\n",
    "dict_binary_to_perfs = dict()\n",
    "dict_binary_to_ids = dict()\n",
    "\n",
    "s_time = time.time()\n",
    "\n",
    "\n",
    "for sol_i in range(card_space):\n",
    "    ops = rename_ops(solutions[sol_i]['ops'])\n",
    "    binary_i = encode_matrix_fixed_long(solutions[sol_i]['adj_mat'], ops)    \n",
    "    binary_i = list(binary_i)\n",
    "    binary_i = str(binary_i)\n",
    "    dict_binary_to_perfs[binary_i] = solutions[sol_i]['fitness']['36']['test_acc']\n",
    "    \n",
    "    if dict_binary_to_ids.get(binary_i, -1) == -1:\n",
    "        dict_binary_to_ids[binary_i] = list()\n",
    "    dict_binary_to_ids[binary_i].append(sol_i)\n",
    "\n",
    "e_time = time.time()\n",
    "\n",
    "duration = e_time - s_time\n"
   ]
  },
  {
   "cell_type": "code",
   "execution_count": 194,
   "metadata": {},
   "outputs": [
    {
     "data": {
      "text/plain": [
       "(59.88280916213989, 423624, 423624)"
      ]
     },
     "execution_count": 194,
     "metadata": {},
     "output_type": "execute_result"
    }
   ],
   "source": [
    "duration, len(dict_binary_to_perfs.keys()), len(dict_binary_to_perfs)"
   ]
  },
  {
   "cell_type": "code",
   "execution_count": 195,
   "metadata": {},
   "outputs": [
    {
     "data": {
      "text/plain": [
       "0.0"
      ]
     },
     "execution_count": 195,
     "metadata": {},
     "output_type": "execute_result"
    }
   ],
   "source": [
    "1 - len(dict_binary_to_perfs.keys()) / nasbench_res.shape[0]"
   ]
  },
  {
   "cell_type": "code",
   "execution_count": 196,
   "metadata": {},
   "outputs": [],
   "source": [
    "dict_keys = list(dict_binary_to_perfs.keys())"
   ]
  },
  {
   "cell_type": "code",
   "execution_count": 197,
   "metadata": {},
   "outputs": [],
   "source": [
    "ids_per_encoding = list(dict_binary_to_ids.values())"
   ]
  },
  {
   "cell_type": "code",
   "execution_count": 198,
   "metadata": {},
   "outputs": [],
   "source": [
    "len_list = [len(id_list) for id_list in ids_per_encoding]"
   ]
  },
  {
   "cell_type": "code",
   "execution_count": 199,
   "metadata": {},
   "outputs": [],
   "source": [
    "max_duplicates = np.max(len_list)\n",
    "max_duplicates_pos = len_list.index(max_duplicates)"
   ]
  },
  {
   "cell_type": "code",
   "execution_count": 200,
   "metadata": {},
   "outputs": [
    {
     "data": {
      "text/plain": [
       "([0], 1)"
      ]
     },
     "execution_count": 200,
     "metadata": {},
     "output_type": "execute_result"
    }
   ],
   "source": [
    "ids_per_encoding[max_duplicates_pos], max_duplicates"
   ]
  },
  {
   "cell_type": "code",
   "execution_count": 201,
   "metadata": {},
   "outputs": [
    {
     "name": "stderr",
     "output_type": "stream",
     "text": [
      "No handles with labels found to put in legend.\n"
     ]
    },
    {
     "data": {
      "image/png": "[encoded data removed]",
      "text/plain": [
       "<Figure size 720x432 with 1 Axes>"
      ]
     },
     "metadata": {
      "needs_background": "light"
     },
     "output_type": "display_data"
    }
   ],
   "source": [
    "import matplotlib.pyplot as plt\n",
    "import seaborn as sns \n",
    "\n",
    "plt.figure(figsize=(10,6))\n",
    "#plt.xlim(0, max(y_training_time_108))\n",
    "sns.distplot(len_list, hist = True, kde = False,\n",
    "                 kde_kws = {'linewidth': 1}, \n",
    "                 label = \"\", rug=True)\n",
    "plt.title(label='')\n",
    "plt.legend(loc='upper right')\n",
    "plt.xlabel('Duplication of models per encoding (1 = No Duplicate)')\n",
    "plt.show()"
   ]
  },
  {
   "cell_type": "code",
   "execution_count": 202,
   "metadata": {},
   "outputs": [],
   "source": [
    "def get_nei_by_str(nei_i, dict_d):\n",
    "    nei_str = str(nei_i)\n",
    "    return (nei_i, dict_d.get(nei_str, -1))\n",
    "\n",
    "def get_nei_by_str_return_into_dict(nei_i, dict_d, dict_return, id_proc):\n",
    "    dict_return[id_proc] = get_nei_by_str(nei_i, dict_d)"
   ]
  },
  {
   "cell_type": "code",
   "execution_count": 94,
   "metadata": {},
   "outputs": [
    {
     "data": {
      "text/plain": [
       "(43.77436113357544, [0, 4, 5])"
      ]
     },
     "execution_count": 94,
     "metadata": {},
     "output_type": "execute_result"
    }
   ],
   "source": [
    "import multiprocessing as mp\n",
    "from multiprocessing import Pool\n",
    "\n",
    "Max_index = 10 #nasbench_res.shape[0]\n",
    "n_threads = 8\n",
    "\n",
    "is_local_optima = list()\n",
    "s_time = time.time()\n",
    "\n",
    "for idx_i in range(Max_index):\n",
    "    current_key_str = dict_keys[idx_i]\n",
    "    current_key = list(map(int, current_key_str[1:-1].split(',')))\n",
    "    \n",
    "    current_perfs_36e = dict_binary_to_perfs[current_key_str]\n",
    "    \n",
    "    nei = collect_nei(current_key, len_encoding=len(current_key))       \n",
    "        \n",
    "    #with Pool(n_threads) as p:\n",
    "    #    solutions = p.starmap(get_nei_by_str, \n",
    "    #                          [(i_nei,dict_binary_to_perfs) for i_nei in nei])\n",
    "    #\n",
    "    \n",
    "    manager = mp.Manager()\n",
    "    solutions = manager.dict()\n",
    "    processes = []\n",
    "    for id_proc, i_nei in enumerate(nei):\n",
    "        p = mp.Process(target=get_nei_by_str_return_into_dict, \n",
    "                         args=(i_nei, dict_binary_to_perfs, solutions, id_proc))\n",
    "        processes.append(p)\n",
    "        p.start()\n",
    "        \n",
    "    for process in processes:\n",
    "        process.join()\n",
    "    solutions = solutions.values()\n",
    "    \n",
    "    \n",
    "    best_index_nei, best_perfs_36_nei = max(solutions, key=lambda x:x[1])\n",
    "    \n",
    "    if current_perfs_36e > best_perfs_36_nei and best_index_nei != idx_i:\n",
    "        is_local_optima.append(idx_i)\n",
    "        \n",
    "    \n",
    "    \n",
    "e_time = time.time()\n",
    "\n",
    "duration = e_time - s_time\n",
    "\n",
    "duration, is_local_optima"
   ]
  },
  {
   "cell_type": "code",
   "execution_count": 101,
   "metadata": {},
   "outputs": [
    {
     "data": {
      "text/plain": [
       "136"
      ]
     },
     "execution_count": 101,
     "metadata": {},
     "output_type": "execute_result"
    }
   ],
   "source": [
    "len([str(i) for i in nei])"
   ]
  },
  {
   "cell_type": "code",
   "execution_count": 102,
   "metadata": {},
   "outputs": [
    {
     "data": {
      "text/plain": [
       "0.8755675752957662"
      ]
     },
     "execution_count": 102,
     "metadata": {},
     "output_type": "execute_result"
    }
   ],
   "source": [
    "best_perfs_36_nei"
   ]
  },
  {
   "cell_type": "code",
   "execution_count": 103,
   "metadata": {},
   "outputs": [
    {
     "data": {
      "text/plain": [
       "(49.650166749954224, [0, -1, -1, -1, 4, 5, -1, -1, -1, -1])"
      ]
     },
     "execution_count": 103,
     "metadata": {},
     "output_type": "execute_result"
    }
   ],
   "source": [
    "from multiprocessing.pool import ThreadPool\n",
    "\n",
    "Max_index = 10 #nasbench_res.shape[0]\n",
    "n_threads = 2\n",
    "\n",
    "is_local_optima = list()\n",
    "s_time = time.time()\n",
    "\n",
    "#for idx_i in range(Max_index):\n",
    "def is_i_local_optima(idx_i_local, dict_bin_to_perfs, dict_keys=dict_keys):\n",
    "    current_key_str = dict_keys[idx_i_local]\n",
    "    current_key = list(map(int, current_key_str[1:-1].split(',')))\n",
    "\n",
    "    current_perfs_36e = dict_bin_to_perfs[current_key_str]\n",
    "\n",
    "    nei = collect_nei(current_key, len_encoding=len(current_key))       \n",
    "\n",
    "    manager = mp.Manager()\n",
    "    solutions = manager.dict()\n",
    "    processes = []\n",
    "    for id_proc, i_nei in enumerate(nei):\n",
    "        p = mp.Process(target=get_nei_by_str_return_into_dict, \n",
    "                         args=(i_nei, dict_bin_to_perfs, solutions, id_proc))\n",
    "        processes.append(p)\n",
    "        p.start()\n",
    "\n",
    "    for process in processes:\n",
    "        process.join()\n",
    "    solutions = solutions.values()\n",
    "\n",
    "\n",
    "    best_index_nei, best_perfs_36_nei = max(solutions, key=lambda x:x[1])\n",
    "\n",
    "    if current_perfs_36e > best_perfs_36_nei and best_index_nei != idx_i_local:\n",
    "        #is_local_optima.append(idx_i)\n",
    "        return idx_i_local\n",
    "    return -1\n",
    "    \n",
    "with ThreadPool(n_threads) as p:\n",
    "    solutions = p.starmap(is_i_local_optima, \n",
    "                          [(idx_sol, dict_binary_to_perfs, dict_keys) for idx_sol in range(Max_index)])\n",
    "    \n",
    "e_time = time.time()\n",
    "duration = e_time - s_time\n",
    "\n",
    "duration, solutions"
   ]
  },
  {
   "cell_type": "code",
   "execution_count": 104,
   "metadata": {},
   "outputs": [],
   "source": [
    "l = [i for i in range(10)]"
   ]
  },
  {
   "cell_type": "code",
   "execution_count": 105,
   "metadata": {},
   "outputs": [
    {
     "data": {
      "text/plain": [
       "[0, 1, 2, 3, 4, 5, 6, 7, 8, 9]"
      ]
     },
     "execution_count": 105,
     "metadata": {},
     "output_type": "execute_result"
    }
   ],
   "source": [
    "l"
   ]
  },
  {
   "cell_type": "code",
   "execution_count": 106,
   "metadata": {},
   "outputs": [],
   "source": [
    "l.append(10)"
   ]
  },
  {
   "cell_type": "code",
   "execution_count": 107,
   "metadata": {},
   "outputs": [
    {
     "data": {
      "text/plain": [
       "[0, 1, 2, 3, 4, 5, 6, 7, 8, 9, 10]"
      ]
     },
     "execution_count": 107,
     "metadata": {},
     "output_type": "execute_result"
    }
   ],
   "source": [
    "l"
   ]
  },
  {
   "cell_type": "code",
   "execution_count": null,
   "metadata": {},
   "outputs": [],
   "source": []
  }
 ],
 "metadata": {
  "kernelspec": {
   "display_name": "Python 3",
   "language": "python",
   "name": "python3"
  },
  "language_info": {
   "codemirror_mode": {
    "name": "ipython",
    "version": 3
   },
   "file_extension": ".py",
   "mimetype": "text/x-python",
   "name": "python",
   "nbconvert_exporter": "python",
   "pygments_lexer": "ipython3",
   "version": "3.7.9"
  }
 },
 "nbformat": 4,
 "nbformat_minor": 2
}
