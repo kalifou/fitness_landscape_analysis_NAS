{
 "cells": [
  {
   "cell_type": "code",
   "execution_count": 1,
   "metadata": {},
   "outputs": [
    {
     "name": "stderr",
     "output_type": "stream",
     "text": [
      "/local_home/trao_ka/anaconda3/envs/nas_benchmarks/lib/python3.7/site-packages/tensorflow/python/framework/dtypes.py:516: FutureWarning: Passing (type, 1) or '1type' as a synonym of type is deprecated; in a future version of numpy, it will be understood as (type, (1,)) / '(1,)type'.\n",
      "  _np_qint8 = np.dtype([(\"qint8\", np.int8, 1)])\n",
      "/local_home/trao_ka/anaconda3/envs/nas_benchmarks/lib/python3.7/site-packages/tensorflow/python/framework/dtypes.py:517: FutureWarning: Passing (type, 1) or '1type' as a synonym of type is deprecated; in a future version of numpy, it will be understood as (type, (1,)) / '(1,)type'.\n",
      "  _np_quint8 = np.dtype([(\"quint8\", np.uint8, 1)])\n",
      "/local_home/trao_ka/anaconda3/envs/nas_benchmarks/lib/python3.7/site-packages/tensorflow/python/framework/dtypes.py:518: FutureWarning: Passing (type, 1) or '1type' as a synonym of type is deprecated; in a future version of numpy, it will be understood as (type, (1,)) / '(1,)type'.\n",
      "  _np_qint16 = np.dtype([(\"qint16\", np.int16, 1)])\n",
      "/local_home/trao_ka/anaconda3/envs/nas_benchmarks/lib/python3.7/site-packages/tensorflow/python/framework/dtypes.py:519: FutureWarning: Passing (type, 1) or '1type' as a synonym of type is deprecated; in a future version of numpy, it will be understood as (type, (1,)) / '(1,)type'.\n",
      "  _np_quint16 = np.dtype([(\"quint16\", np.uint16, 1)])\n",
      "/local_home/trao_ka/anaconda3/envs/nas_benchmarks/lib/python3.7/site-packages/tensorflow/python/framework/dtypes.py:520: FutureWarning: Passing (type, 1) or '1type' as a synonym of type is deprecated; in a future version of numpy, it will be understood as (type, (1,)) / '(1,)type'.\n",
      "  _np_qint32 = np.dtype([(\"qint32\", np.int32, 1)])\n",
      "/local_home/trao_ka/anaconda3/envs/nas_benchmarks/lib/python3.7/site-packages/tensorflow/python/framework/dtypes.py:525: FutureWarning: Passing (type, 1) or '1type' as a synonym of type is deprecated; in a future version of numpy, it will be understood as (type, (1,)) / '(1,)type'.\n",
      "  np_resource = np.dtype([(\"resource\", np.ubyte, 1)])\n"
     ]
    },
    {
     "name": "stdout",
     "output_type": "stream",
     "text": [
      "WARNING:tensorflow:From /local_home/trao_ka/projects/nasbench/nasbench/lib/training_time.py:130: The name tf.train.SessionRunHook is deprecated. Please use tf.estimator.SessionRunHook instead.\n",
      "\n",
      "WARNING:tensorflow:From /local_home/trao_ka/projects/nasbench/nasbench/lib/training_time.py:174: The name tf.train.CheckpointSaverListener is deprecated. Please use tf.estimator.CheckpointSaverListener instead.\n",
      "\n",
      "WARNING:tensorflow:From /local_home/trao_ka/projects/nasbench/nasbench/lib/evaluate.py:33: The name tf.train.NanLossDuringTrainingError is deprecated. Please use tf.estimator.NanLossDuringTrainingError instead.\n",
      "\n"
     ]
    },
    {
     "name": "stderr",
     "output_type": "stream",
     "text": [
      "/local_home/trao_ka/anaconda3/envs/nas_benchmarks/lib/python3.7/site-packages/tensorboard/compat/tensorflow_stub/dtypes.py:541: FutureWarning: Passing (type, 1) or '1type' as a synonym of type is deprecated; in a future version of numpy, it will be understood as (type, (1,)) / '(1,)type'.\n",
      "  _np_qint8 = np.dtype([(\"qint8\", np.int8, 1)])\n",
      "/local_home/trao_ka/anaconda3/envs/nas_benchmarks/lib/python3.7/site-packages/tensorboard/compat/tensorflow_stub/dtypes.py:542: FutureWarning: Passing (type, 1) or '1type' as a synonym of type is deprecated; in a future version of numpy, it will be understood as (type, (1,)) / '(1,)type'.\n",
      "  _np_quint8 = np.dtype([(\"quint8\", np.uint8, 1)])\n",
      "/local_home/trao_ka/anaconda3/envs/nas_benchmarks/lib/python3.7/site-packages/tensorboard/compat/tensorflow_stub/dtypes.py:543: FutureWarning: Passing (type, 1) or '1type' as a synonym of type is deprecated; in a future version of numpy, it will be understood as (type, (1,)) / '(1,)type'.\n",
      "  _np_qint16 = np.dtype([(\"qint16\", np.int16, 1)])\n",
      "/local_home/trao_ka/anaconda3/envs/nas_benchmarks/lib/python3.7/site-packages/tensorboard/compat/tensorflow_stub/dtypes.py:544: FutureWarning: Passing (type, 1) or '1type' as a synonym of type is deprecated; in a future version of numpy, it will be understood as (type, (1,)) / '(1,)type'.\n",
      "  _np_quint16 = np.dtype([(\"quint16\", np.uint16, 1)])\n",
      "/local_home/trao_ka/anaconda3/envs/nas_benchmarks/lib/python3.7/site-packages/tensorboard/compat/tensorflow_stub/dtypes.py:545: FutureWarning: Passing (type, 1) or '1type' as a synonym of type is deprecated; in a future version of numpy, it will be understood as (type, (1,)) / '(1,)type'.\n",
      "  _np_qint32 = np.dtype([(\"qint32\", np.int32, 1)])\n",
      "/local_home/trao_ka/anaconda3/envs/nas_benchmarks/lib/python3.7/site-packages/tensorboard/compat/tensorflow_stub/dtypes.py:550: FutureWarning: Passing (type, 1) or '1type' as a synonym of type is deprecated; in a future version of numpy, it will be understood as (type, (1,)) / '(1,)type'.\n",
      "  np_resource = np.dtype([(\"resource\", np.ubyte, 1)])\n"
     ]
    }
   ],
   "source": [
    "from __future__ import absolute_import\n",
    "from __future__ import division\n",
    "from __future__ import print_function\n",
    "\n",
    "import numpy as np\n",
    "import json\n",
    "import pickle as pkl\n",
    "\n",
    "from absl import app\n",
    "from nasbench import api\n",
    "\n",
    "import time"
   ]
  },
  {
   "cell_type": "code",
   "execution_count": 2,
   "metadata": {},
   "outputs": [],
   "source": [
    "MAX_NODES = 7\n",
    "MAX_EDGES = 9\n",
    "NASBENCH_TFRECORD = './data/nasbench_full.tfrecord'\n",
    "\n",
    "INPUT = 'input'\n",
    "OUTPUT = 'output'\n",
    "CONV1X1 = 'conv1x1-bn-relu'\n",
    "CONV3X3 = 'conv3x3-bn-relu'\n",
    "MAXPOOL3X3 = 'maxpool3x3'\n",
    "\n",
    "CODING = [INPUT]\n",
    "CODING = CODING + [CONV1X1 + \"_\" + str(i) for i in range(0, (MAX_NODES - 2))]\n",
    "CODING = CODING + [CONV3X3 + \"_\" + str(i) for i in range(0, (MAX_NODES - 2))]\n",
    "CODING = CODING + [MAXPOOL3X3 + \"_\" + str(i) for i in range(0, (MAX_NODES - 2))]\n",
    "CODING = CODING + [OUTPUT]"
   ]
  },
  {
   "cell_type": "code",
   "execution_count": 3,
   "metadata": {},
   "outputs": [],
   "source": [
    "def rename_ops(ops):\n",
    "    c1x1 = 0\n",
    "    c3x3 = 0\n",
    "    mp3x3 = 0\n",
    "    new_ops = []\n",
    "    for op in ops:\n",
    "        if op == CONV1X1:\n",
    "            new_ops = new_ops + [op + \"_\" + str(c1x1)]\n",
    "            c1x1 = c1x1 + 1\n",
    "        elif op == CONV3X3:\n",
    "            new_ops = new_ops + [op + \"_\" + str(c3x3)]\n",
    "            c3x3 = c3x3 + 1\n",
    "        elif op == MAXPOOL3X3:\n",
    "            new_ops = new_ops + [op + \"_\" + str(mp3x3)]\n",
    "            mp3x3 = mp3x3 + 1\n",
    "        else:\n",
    "            new_ops = new_ops + [op]\n",
    "    return new_ops\n",
    "\n",
    "\n",
    "def encode_matrix(adj_matrix, ops):\n",
    "    enc_matrix = np.zeros((len(CODING), len(CODING)))\n",
    "    pos = [CODING.index(op) for op in ops]\n",
    "    trans = dict()\n",
    "    for i, ix in enumerate(pos):\n",
    "        trans[i] = ix\n",
    "    i, j = np.nonzero(adj_matrix)\n",
    "    ix = [trans.get(n) for n in i]\n",
    "    jy = [trans.get(n) for n in j]\n",
    "    for p in zip(ix, jy):\n",
    "        enc_matrix[p] = 1\n",
    "    encoded = enc_matrix[np.triu_indices(len(CODING), k=1)]\n",
    "    return encoded.astype(int)\n",
    "\n",
    "\n",
    "def encode_solution(solution):\n",
    "    adj_matrix = solution['module_adjacency']\n",
    "    ops = rename_ops(solution['module_operations'])\n",
    "    encoded = encode_matrix(adj_matrix, ops)    \n",
    "    return encoded, solution['trainable_parameters'], ops\n",
    "\n",
    "\n",
    "def summarize_fitness(computed_metrics, epochs=[108]):\n",
    "    fitness = dict()\n",
    "    for ep in epochs:\n",
    "        training_time = 0\n",
    "        train_acc = 0\n",
    "        validation_acc = 0\n",
    "        test_acc = 0\n",
    "        for metrics in computed_metrics[ep]:\n",
    "            training_time = metrics['final_training_time']\n",
    "            train_acc = train_acc + metrics['final_train_accuracy']\n",
    "            validation_acc = validation_acc + metrics['final_validation_accuracy']\n",
    "            test_acc = test_acc + metrics['final_test_accuracy']\n",
    "        training_time = training_time / len(computed_metrics[ep])\n",
    "        train_acc = train_acc / len(computed_metrics[ep])\n",
    "        validation_acc = validation_acc / len(computed_metrics[ep])\n",
    "        test_acc = test_acc / len(computed_metrics[ep])\n",
    "        fitness[ep] = {\n",
    "            'training_time': training_time,\n",
    "            'train_acc': train_acc,\n",
    "            'validation_acc': validation_acc,\n",
    "            'test_acc': test_acc}\n",
    "    return fitness\n",
    "\n",
    "\n",
    "\n",
    "\n",
    "def get_fitnesses():\n",
    "    nasbench = api.NASBench(NASBENCH_TFRECORD)\n",
    "    prev = \"\"\n",
    "    print('{\\n\\t\"coding\": ', json.dumps(CODING), \",\")\n",
    "    print('\\t\"solutions\": [\\n')\n",
    "    for unique_hash in nasbench.hash_iterator():\n",
    "        fixed_metrics, computed_metrics = nasbench.get_metrics_from_hash(unique_hash)\n",
    "        encoded, params, ops = encode_solution(fixed_metrics)\n",
    "        fitness = summarize_fitness(computed_metrics, epochs=[4, 12, 36, 108])\n",
    "        print('\\t\\t', prev, '{\"encoded\": ', encoded.tolist(),\n",
    "              ', \"tr_params\": ', params, \n",
    "              ', \"ops\": ', json.dumps(ops), \n",
    "              ', \"fitness\": ', json.dumps(fitness), '}')\n",
    "        if not prev:\n",
    "            prev = \",\"\n",
    "    print('\\t]\\n}')"
   ]
  },
  {
   "cell_type": "code",
   "execution_count": 4,
   "metadata": {},
   "outputs": [],
   "source": [
    "def get_fitnesses_lcz42(path_to_eval_file):\n",
    "    \n",
    "    with open(path_to_eval_file, 'rb') as filehandle:\n",
    "        # read the data as bina|ry data stream\n",
    "        read_data_lcz_evals = pkl.load(filehandle)\n",
    "    print('{\\n\\t\"coding\": ', json.dumps(CODING), \",\")\n",
    "    print('\\t\"solutions\": [\\n')\n",
    "    prev = \"\"\n",
    "    for m, ops, data in read_data_lcz_evals:\n",
    "        ops = rename_ops(ops)\n",
    "        encoded = encode_matrix(m, ops)\n",
    "        params = data['trainable_params']\n",
    "        print(data)\n",
    "        print('\\t\\t', prev, '{\"encoded\": ', encoded.tolist(),\n",
    "              ', \"tr_params\": ', params, \n",
    "              ', \"ops\": ', json.dumps(ops), \n",
    "              ', \"fitness\": ', json.dumps(str(data)), '}')\n",
    "        if not prev:\n",
    "            prev = \",\"\n",
    "    print('\\t]\\n}')"
   ]
  },
  {
   "cell_type": "code",
   "execution_count": 5,
   "metadata": {},
   "outputs": [],
   "source": [
    "path_to_eval_file = \"/local_home/trao_ka/projects/andres_code/nasbench/experiments/aggregated_eval_lc42_s2_d2_all_bs128_35pct.json\"\n",
    "#\"/local_home/trao_ka/projects/andres_code/nasbench/experiments/new_eval_lc42_s2_d2_all_bs128_35pct.json\" "
   ]
  },
  {
   "cell_type": "code",
   "execution_count": 6,
   "metadata": {},
   "outputs": [],
   "source": [
    "with open(path_to_eval_file, 'rb') as filehandle:\n",
    "        # read the data as bina|ry data stream\n",
    "        read_data_lcz_evals = json.load(filehandle)"
   ]
  },
  {
   "cell_type": "code",
   "execution_count": 7,
   "metadata": {},
   "outputs": [],
   "source": [
    "#read_data_lcz_evals['solutions'][0]"
   ]
  },
  {
   "cell_type": "code",
   "execution_count": 8,
   "metadata": {},
   "outputs": [
    {
     "data": {
      "text/plain": [
       "['input',\n",
       " 'conv3x3-bn-relu_0',\n",
       " 'conv3x3-bn-relu_1',\n",
       " 'conv1x1-bn-relu_0',\n",
       " 'conv3x3-bn-relu_2',\n",
       " 'conv1x1-bn-relu_1',\n",
       " 'output']"
      ]
     },
     "execution_count": 8,
     "metadata": {},
     "output_type": "execute_result"
    }
   ],
   "source": [
    "read_data_lcz_evals['solutions'][4]['ops']"
   ]
  },
  {
   "cell_type": "code",
   "execution_count": 9,
   "metadata": {},
   "outputs": [
    {
     "data": {
      "text/plain": [
       "['input',\n",
       " 'conv1x1-bn-relu_0',\n",
       " 'conv1x1-bn-relu_1',\n",
       " 'conv1x1-bn-relu_2',\n",
       " 'conv1x1-bn-relu_3',\n",
       " 'conv3x3-bn-relu_0',\n",
       " 'output']"
      ]
     },
     "execution_count": 9,
     "metadata": {},
     "output_type": "execute_result"
    }
   ],
   "source": [
    "read_data_lcz_evals['solutions'][5]['ops']"
   ]
  },
  {
   "cell_type": "code",
   "execution_count": 10,
   "metadata": {},
   "outputs": [
    {
     "data": {
      "text/plain": [
       "dict_keys(['encoded', 'tr_params', 'ops', 'fitness'])"
      ]
     },
     "execution_count": 10,
     "metadata": {},
     "output_type": "execute_result"
    }
   ],
   "source": [
    "read_data_lcz_evals['solutions'][0].keys()"
   ]
  },
  {
   "cell_type": "code",
   "execution_count": 11,
   "metadata": {},
   "outputs": [
    {
     "data": {
      "text/plain": [
       "dict_keys(['training_time', 'trainable_params', 'train_accuracy', 'average_train_accuracy', 'kappaCohen_train', 'test_accuracy', 'average_test_accuracy', 'kappaCohen_test'])"
      ]
     },
     "execution_count": 11,
     "metadata": {},
     "output_type": "execute_result"
    }
   ],
   "source": [
    "read_data_lcz_evals['solutions'][0]['fitness']['4'].keys()"
   ]
  },
  {
   "cell_type": "code",
   "execution_count": 12,
   "metadata": {},
   "outputs": [],
   "source": [
    "all_x_36 = [e['encoded'] for e in read_data_lcz_evals['solutions']]\n",
    "all_x_36 = np.array(all_x_36)\n",
    "\n",
    "all_y_36 = [e['fitness']['36']['kappaCohen_test'] for e in read_data_lcz_evals['solutions']]\n",
    "all_y_36 = np.array(all_y_36)\n",
    "\n",
    "idx_local_maximum_36 = np.where(all_y_36==all_y_36.max())[0][0]\n",
    "idx_local_minimum_36 = np.where(all_y_36==all_y_36.min())[0][0]"
   ]
  },
  {
   "cell_type": "code",
   "execution_count": 13,
   "metadata": {},
   "outputs": [],
   "source": [
    "all_x_108 = [e['encoded'] for e in read_data_lcz_evals['solutions']]\n",
    "all_x_108 = np.array(all_x_108)\n",
    "\n",
    "all_y_108 = [e['fitness']['108']['kappaCohen_test'] for e in read_data_lcz_evals['solutions']]\n",
    "all_y_108 = np.array(all_y_108)\n",
    "\n",
    "idx_local_maximum_108 = np.where(all_y_108==all_y_108.max())[0][0]\n",
    "idx_local_minimum_108 = np.where(all_y_108==all_y_108.min())[0][0]"
   ]
  },
  {
   "cell_type": "code",
   "execution_count": null,
   "metadata": {},
   "outputs": [],
   "source": []
  },
  {
   "cell_type": "code",
   "execution_count": null,
   "metadata": {},
   "outputs": [],
   "source": []
  },
  {
   "cell_type": "code",
   "execution_count": 14,
   "metadata": {},
   "outputs": [],
   "source": [
    "from sklearn.decomposition import PCA\n",
    "import numpy as np\n",
    "import matplotlib.pyplot as plt\n",
    "import seaborn as sns\n",
    "%matplotlib inline\n",
    "\n",
    "# Dimension reduction and clustering libraries\n",
    "import umap\n",
    "import matplotlib as mpl"
   ]
  },
  {
   "cell_type": "code",
   "execution_count": 15,
   "metadata": {},
   "outputs": [],
   "source": [
    " #d efine the colormap\n",
    "cmap = plt.cm.copper\n",
    "# extract all colors from the .jet map\n",
    "cmaplist = [cmap(i) for i in range(cmap.N)]\n",
    "# create the new map\n",
    "cmap = cmap.from_list('Custom cmap', cmaplist, cmap.N)\n",
    "# define the bins and normalize\n",
    "N = 16\n",
    "bounds = np.linspace(0, 10)\n",
    "norm = mpl.colors.BoundaryNorm(bounds, cmap.N)\n",
    "N_nei = 4 \n",
    "distance='hamming'\n",
    "min_dist = 0.31 #5 #25 #5 #1 #25"
   ]
  },
  {
   "cell_type": "code",
   "execution_count": null,
   "metadata": {},
   "outputs": [],
   "source": []
  },
  {
   "cell_type": "code",
   "execution_count": 16,
   "metadata": {},
   "outputs": [
    {
     "name": "stderr",
     "output_type": "stream",
     "text": [
      "/local_home/trao_ka/anaconda3/envs/nas_benchmarks/lib/python3.7/site-packages/umap/umap_.py:1530: UserWarning: gradient function is not yet implemented for hamming distance metric; inverse_transform will be unavailable\n",
      "  \"inverse_transform will be unavailable\".format(self.metric)\n"
     ]
    }
   ],
   "source": [
    "umap_local = umap.UMAP(random_state=4, n_neighbors=N_nei, #7,\n",
    "                      metric=distance, #min_dist=min_dist\n",
    "                        )\n",
    "trans = umap_local.fit_transform(all_x_36)"
   ]
  },
  {
   "cell_type": "code",
   "execution_count": 17,
   "metadata": {},
   "outputs": [
    {
     "name": "stderr",
     "output_type": "stream",
     "text": [
      "/local_home/trao_ka/anaconda3/envs/nas_benchmarks/lib/python3.7/site-packages/umap/umap_.py:1530: UserWarning: gradient function is not yet implemented for hamming distance metric; inverse_transform will be unavailable\n",
      "  \"inverse_transform will be unavailable\".format(self.metric)\n"
     ]
    }
   ],
   "source": [
    "umap_local = umap.UMAP(random_state=4, n_neighbors=N_nei, #7,\n",
    "                      metric=distance, #min_dist=min_dist\n",
    "                      )\n",
    "trans = umap_local.fit_transform(all_x_108)"
   ]
  },
  {
   "cell_type": "code",
   "execution_count": 18,
   "metadata": {},
   "outputs": [
    {
     "data": {
      "text/plain": [
       "(100, 136)"
      ]
     },
     "execution_count": 18,
     "metadata": {},
     "output_type": "execute_result"
    }
   ],
   "source": [
    "all_x_36.shape "
   ]
  },
  {
   "cell_type": "code",
   "execution_count": null,
   "metadata": {},
   "outputs": [],
   "source": []
  },
  {
   "cell_type": "code",
   "execution_count": 19,
   "metadata": {},
   "outputs": [
    {
     "data": {
      "text/plain": [
       "Text(4.6797533, 8.72412, 'minimum')"
      ]
     },
     "execution_count": 19,
     "metadata": {},
     "output_type": "execute_result"
    },
    {
     "data": {
      "image/png": "[encoded data removed]",
      "text/plain": [
       "<Figure size 720x576 with 1 Axes>"
      ]
     },
     "metadata": {
      "needs_background": "light"
     },
     "output_type": "display_data"
    }
   ],
   "source": [
    "#standard_embedding = umap.UMAP(random_state=42).fit_transform(all_features[0])\n",
    "\n",
    "plt.figure(figsize=(10,8))\n",
    "s = plt.scatter(trans[:, 0], trans[:, 1], #s=12, \n",
    "                c=all_y_36[:], cmap=cmap)\n",
    "legend1 = plt.legend(*s.legend_elements() , loc=\"upper right\", title=\"Fitness (kappa)\",  bbox_to_anchor=(1.17, 1))\n",
    "#cb = plt.colorbar(s, spacing='proportional',ticks=bounds)\n",
    "#cb.set_label('Fitness (kappa)')\n",
    "\n",
    "plt.annotate('maximum',(trans[idx_local_maximum_36, 0],  #(trans.embedding_[idx_local_maximum_36, 0], \n",
    "                         trans[idx_local_maximum_36, 1]), #trans.embedding_[idx_local_maximum_36, 1]),\n",
    "             size=8)\n",
    "plt.annotate('minimum', (trans[idx_local_minimum_36, 0], \n",
    "                         trans[idx_local_minimum_36, 1]),  \n",
    "             size=8)"
   ]
  },
  {
   "cell_type": "code",
   "execution_count": 20,
   "metadata": {},
   "outputs": [
    {
     "data": {
      "text/plain": [
       "Text(7.4557023, 5.9746323, 'minimum')"
      ]
     },
     "execution_count": 20,
     "metadata": {},
     "output_type": "execute_result"
    },
    {
     "data": {
      "image/png": "[encoded data removed]",
      "text/plain": [
       "<Figure size 720x576 with 1 Axes>"
      ]
     },
     "metadata": {
      "needs_background": "light"
     },
     "output_type": "display_data"
    }
   ],
   "source": [
    "\n",
    "\n",
    "#standard_embedding = umap.UMAP(random_state=42).fit_transform(all_features[0])\n",
    "\n",
    "plt.figure(figsize=(10,8))\n",
    "s = plt.scatter(trans[:, 0], trans[:, 1], #s=12, \n",
    "                c=all_y_108[:], cmap=cmap)\n",
    "legend1 = plt.legend(*s.legend_elements() , loc=\"upper right\",  title=\"Fitness (kappa)\", \n",
    "                     bbox_to_anchor=(1.17, 1))\n",
    "#cb = plt.colorbar(s, spacing='proportional',ticks=bounds)\n",
    "#cb.set_label('Fitness (kappa)')\n",
    "\n",
    "plt.annotate('maximum', (trans[idx_local_maximum_108, 0], \n",
    "                         trans[idx_local_maximum_108, 1]),  \n",
    "             size=8)\n",
    "plt.annotate('minimum', (trans[idx_local_minimum_108, 0], \n",
    "                         trans[idx_local_minimum_108, 1]),  \n",
    "             size=8)"
   ]
  },
  {
   "cell_type": "code",
   "execution_count": null,
   "metadata": {},
   "outputs": [],
   "source": []
  },
  {
   "cell_type": "markdown",
   "metadata": {},
   "source": [
    "# Enumerate Cardina"
   ]
  },
  {
   "cell_type": "code",
   "execution_count": 21,
   "metadata": {},
   "outputs": [],
   "source": [
    "#Source: http://claresloggett.github.io/python_workshops/improved_hammingdist.html\n",
    "\n",
    "# Return the Hamming distance between string1 and string2.\n",
    "# string1 and string2 should be the same length.\n",
    "def hamming_distance(string1, string2): \n",
    "    # Start with a distance of zero, and count up\n",
    "    distance = 0\n",
    "    # Loop over the indices of the string\n",
    "    L = len(string1)\n",
    "    for i in range(L):\n",
    "        # Add 1 to the distance if these two characters are not equal\n",
    "        if string1[i] != string2[i]:\n",
    "            distance += 1\n",
    "    # Return the final count of differences\n",
    "    return distance\n",
    "\n"
   ]
  },
  {
   "cell_type": "code",
   "execution_count": 22,
   "metadata": {},
   "outputs": [],
   "source": [
    "e0 = read_data_lcz_evals['solutions'][0]['encoded']\n",
    "e1 = read_data_lcz_evals['solutions'][1]['encoded']"
   ]
  },
  {
   "cell_type": "code",
   "execution_count": 23,
   "metadata": {},
   "outputs": [
    {
     "data": {
      "text/plain": [
       "9"
      ]
     },
     "execution_count": 23,
     "metadata": {},
     "output_type": "execute_result"
    }
   ],
   "source": [
    "hamming_distance(e0, e1)"
   ]
  },
  {
   "cell_type": "code",
   "execution_count": 24,
   "metadata": {},
   "outputs": [],
   "source": [
    "assert hamming_distance(e0, e0) == 0\n",
    "assert hamming_distance(e1, e1) == hamming_distance(e0, e0)"
   ]
  },
  {
   "cell_type": "code",
   "execution_count": 25,
   "metadata": {},
   "outputs": [],
   "source": [
    "def is_local_optima(all_models, regime='36', metric='kappaCohen_test'):\n",
    "    \n",
    "    n_models = len(all_models)\n",
    "    \n",
    "    is_local_optima = dict()\n",
    "    Perf_nei_of_i = dict()\n",
    "    \n",
    "    for m_i in range(n_models):\n",
    "        # all_models[m_j]['fitness'][regime][metric] if hamming_distance(m_i, m_j) == 1\n",
    "        Perf_nei_of_i[m_i] = []\n",
    "        for m_j in range(n_models):\n",
    "            if  m_j != m_i:\n",
    "                Perf_nei_of_i[m_i].append(hamming_distance(all_models[m_i]['encoded'],all_models[m_j]['encoded'] ) )\n",
    "        print(sorted(Perf_nei_of_i[m_i])[0], m_i)"
   ]
  },
  {
   "cell_type": "code",
   "execution_count": 26,
   "metadata": {},
   "outputs": [],
   "source": [
    "import pyreadr\n",
    "import pandas as pd\n",
    "result = pyreadr.read_r('/local_home/trao_ka/projects/andres_code/nasbench/experiments/nasbench_full_landscape.RData')\n",
    "result = pd.Series(result)"
   ]
  },
  {
   "cell_type": "code",
   "execution_count": 27,
   "metadata": {},
   "outputs": [],
   "source": [
    "fitness_walk = result['fitness_walk']\n",
    "nasbench_res =  result['land.df']"
   ]
  },
  {
   "cell_type": "code",
   "execution_count": 28,
   "metadata": {},
   "outputs": [],
   "source": [
    "len_encoding = int(17*16/2)\n",
    "len_full_solution = 155\n",
    "\n",
    "indices = ['X' + str(i) for i in range(1, len_encoding + 1 )]\n",
    "all_keys = nasbench_res.keys()\n",
    "\n",
    "str0 = nasbench_res[indices].loc[0]\n",
    "str1 = nasbench_res[indices].loc[1]\n"
   ]
  },
  {
   "cell_type": "code",
   "execution_count": 29,
   "metadata": {},
   "outputs": [],
   "source": [
    "def collect_nei(str_current, len_encoding):\n",
    "    nei_current = list()\n",
    "    for i in range(len_encoding):\n",
    "        nei_i = str_current.copy()\n",
    "        if str_current[i] == 0:\n",
    "            nei_i[i] = 1\n",
    "        else: \n",
    "            nei_i[i] = 0\n",
    "        nei_current.append(nei_i)\n",
    "    return nei_current    "
   ]
  },
  {
   "cell_type": "code",
   "execution_count": 30,
   "metadata": {},
   "outputs": [],
   "source": [
    "all_models = nasbench_res[indices]\n",
    "current_for_test = all_models.loc[1]\n",
    "list_nei_test = collect_nei(current_for_test, len_encoding=len_encoding)\n",
    "\n",
    "assert sum([hamming_distance(current_for_test, item) for item in list_nei_test])/len(list_nei_test) == 1"
   ]
  },
  {
   "cell_type": "code",
   "execution_count": 31,
   "metadata": {},
   "outputs": [],
   "source": [
    "list_val = list(list_nei_test[0])"
   ]
  },
  {
   "cell_type": "code",
   "execution_count": 32,
   "metadata": {},
   "outputs": [],
   "source": [
    "def get_solution_by_value(reference, keys, dataset):\n",
    "    result = dataset.copy()    \n",
    "    for i in range(len(keys)):\n",
    "        result = result.loc[result[keys[i]] == reference[keys[i]]]\n",
    "    return result"
   ]
  },
  {
   "cell_type": "code",
   "execution_count": null,
   "metadata": {},
   "outputs": [],
   "source": []
  },
  {
   "cell_type": "code",
   "execution_count": 33,
   "metadata": {},
   "outputs": [],
   "source": [
    "def get_value_by_distance(reference, keys, dataset):\n",
    "    result = dataset.copy()\n",
    "    \n",
    "    result = result.eq(reference[keys])[keys].all(1) #get_solution_by_value(item_cmp, indices, nasbench_res)\n",
    "    result = result[result]\n",
    "    return result"
   ]
  },
  {
   "cell_type": "code",
   "execution_count": 34,
   "metadata": {},
   "outputs": [
    {
     "data": {
      "text/plain": [
       "0.41423678398132324"
      ]
     },
     "execution_count": 34,
     "metadata": {},
     "output_type": "execute_result"
    }
   ],
   "source": [
    "item_cmp = nasbench_res.iloc[80]\n",
    "\n",
    "time_begin = time.time()\n",
    "\n",
    "r = get_solution_by_value(item_cmp, indices, nasbench_res)\n",
    "\n",
    "time_end = time.time()\n",
    "duration = time_end- time_begin\n",
    "\n",
    "assert r.index.values[0] == item_cmp.name \n",
    "duration"
   ]
  },
  {
   "cell_type": "code",
   "execution_count": null,
   "metadata": {},
   "outputs": [],
   "source": []
  },
  {
   "cell_type": "code",
   "execution_count": 35,
   "metadata": {},
   "outputs": [
    {
     "data": {
      "text/plain": [
       "0.46935391426086426"
      ]
     },
     "execution_count": 35,
     "metadata": {},
     "output_type": "execute_result"
    }
   ],
   "source": [
    "item_cmp = nasbench_res.iloc[80]\n",
    "\n",
    "time_begin = time.time()\n",
    "\n",
    "r = get_value_by_distance(item_cmp, indices, nasbench_res)\n",
    "\n",
    "time_end = time.time()\n",
    "duration = time_end- time_begin\n",
    "\n",
    "assert r.index.values[0] == item_cmp.name \n",
    "duration"
   ]
  },
  {
   "cell_type": "code",
   "execution_count": 36,
   "metadata": {},
   "outputs": [],
   "source": [
    "def get_solution_by_value_multiple(references, keys, dataset):\n",
    "    \n",
    "    list_refs = references.copy()\n",
    "    len_res = len(list_refs)\n",
    "    list_indices = list()\n",
    "    list_results = list()\n",
    "    \n",
    "    for _ in range(len_res):\n",
    "        list_results.append(dataset.copy())\n",
    "    \n",
    "    for i in range(len(keys)):\n",
    "        for idx_res in range(len_res):\n",
    "            result_i = list_results[idx_res]\n",
    "            result_i = result_i.loc[result_i[keys[i]] == list_refs[idx_res][keys[i]]]\n",
    "            list_results[idx_res] = result_i\n",
    "    return list_results"
   ]
  },
  {
   "cell_type": "code",
   "execution_count": null,
   "metadata": {},
   "outputs": [],
   "source": []
  },
  {
   "cell_type": "code",
   "execution_count": 37,
   "metadata": {},
   "outputs": [
    {
     "data": {
      "text/plain": [
       "[    X1  X2  X3  X4  X5  X6  X7  X8  X9  X10  ...  training_time.36  \\\n",
       " 80   1   0   0   0   0   0   0   1   0    0  ...        419.930664   \n",
       " \n",
       "     train_acc.36  validation_acc.36  test_acc.36  training_time.108  \\\n",
       " 80      0.889323           0.816907     0.808126        1248.145671   \n",
       " \n",
       "     train_acc.108  validation_acc.108  test_acc.108  hamming.dist.max.ta.36  \\\n",
       " 80            1.0            0.913261      0.908954                    11.0   \n",
       " \n",
       "     hamming.dist.max.ta.108  \n",
       " 80                     10.0  \n",
       " \n",
       " [1 rows x 155 columns]]"
      ]
     },
     "execution_count": 37,
     "metadata": {},
     "output_type": "execute_result"
    }
   ],
   "source": [
    "get_solution_by_value_multiple([item_cmp], indices, nasbench_res)"
   ]
  },
  {
   "cell_type": "code",
   "execution_count": 38,
   "metadata": {},
   "outputs": [],
   "source": [
    "item_cmp_0 = nasbench_res.iloc[80]\n",
    "item_cmp_1 = nasbench_res.iloc[11]\n",
    "r = get_solution_by_value_multiple([item_cmp_0, item_cmp_1], indices, nasbench_res)\n",
    "assert r[0].index.values[0] == item_cmp_0.name\n",
    "assert r[1].index.values[0] == item_cmp_1.name"
   ]
  },
  {
   "cell_type": "code",
   "execution_count": 39,
   "metadata": {},
   "outputs": [
    {
     "data": {
      "text/html": [
       "<div>\n",
       "<style scoped>\n",
       "    .dataframe tbody tr th:only-of-type {\n",
       "        vertical-align: middle;\n",
       "    }\n",
       "\n",
       "    .dataframe tbody tr th {\n",
       "        vertical-align: top;\n",
       "    }\n",
       "\n",
       "    .dataframe thead th {\n",
       "        text-align: right;\n",
       "    }\n",
       "</style>\n",
       "<table border=\"1\" class=\"dataframe\">\n",
       "  <thead>\n",
       "    <tr style=\"text-align: right;\">\n",
       "      <th></th>\n",
       "      <th>X1</th>\n",
       "      <th>X2</th>\n",
       "      <th>X3</th>\n",
       "      <th>X4</th>\n",
       "      <th>X5</th>\n",
       "      <th>X6</th>\n",
       "      <th>X7</th>\n",
       "      <th>X8</th>\n",
       "      <th>X9</th>\n",
       "      <th>X10</th>\n",
       "      <th>...</th>\n",
       "      <th>training_time.36</th>\n",
       "      <th>train_acc.36</th>\n",
       "      <th>validation_acc.36</th>\n",
       "      <th>test_acc.36</th>\n",
       "      <th>training_time.108</th>\n",
       "      <th>train_acc.108</th>\n",
       "      <th>validation_acc.108</th>\n",
       "      <th>test_acc.108</th>\n",
       "      <th>hamming.dist.max.ta.36</th>\n",
       "      <th>hamming.dist.max.ta.108</th>\n",
       "    </tr>\n",
       "  </thead>\n",
       "  <tbody>\n",
       "    <tr>\n",
       "      <th>11</th>\n",
       "      <td>0</td>\n",
       "      <td>1</td>\n",
       "      <td>0</td>\n",
       "      <td>0</td>\n",
       "      <td>0</td>\n",
       "      <td>1</td>\n",
       "      <td>0</td>\n",
       "      <td>0</td>\n",
       "      <td>0</td>\n",
       "      <td>0</td>\n",
       "      <td>...</td>\n",
       "      <td>161.940328</td>\n",
       "      <td>0.98965</td>\n",
       "      <td>0.903779</td>\n",
       "      <td>0.899506</td>\n",
       "      <td>465.416341</td>\n",
       "      <td>0.999967</td>\n",
       "      <td>0.925314</td>\n",
       "      <td>0.920606</td>\n",
       "      <td>11.0</td>\n",
       "      <td>14.0</td>\n",
       "    </tr>\n",
       "  </tbody>\n",
       "</table>\n",
       "<p>1 rows × 155 columns</p>\n",
       "</div>"
      ],
      "text/plain": [
       "    X1  X2  X3  X4  X5  X6  X7  X8  X9  X10  ...  training_time.36  \\\n",
       "11   0   1   0   0   0   1   0   0   0    0  ...        161.940328   \n",
       "\n",
       "    train_acc.36  validation_acc.36  test_acc.36  training_time.108  \\\n",
       "11       0.98965           0.903779     0.899506         465.416341   \n",
       "\n",
       "    train_acc.108  validation_acc.108  test_acc.108  hamming.dist.max.ta.36  \\\n",
       "11       0.999967            0.925314      0.920606                    11.0   \n",
       "\n",
       "    hamming.dist.max.ta.108  \n",
       "11                     14.0  \n",
       "\n",
       "[1 rows x 155 columns]"
      ]
     },
     "execution_count": 39,
     "metadata": {},
     "output_type": "execute_result"
    }
   ],
   "source": [
    "r[1]"
   ]
  },
  {
   "cell_type": "markdown",
   "metadata": {},
   "source": [
    "# Local Search"
   ]
  },
  {
   "cell_type": "code",
   "execution_count": 40,
   "metadata": {},
   "outputs": [],
   "source": [
    "def best_improvement_local_search(dataset_local, stating_point_index=88, N_max_iteration=100, muted=False):\n",
    "    \n",
    "    # Init starting point and counters\n",
    "    current_m_idx = stating_point_index\n",
    "    previous_m_idx = -1000 \n",
    "\n",
    "    cpt = 0\n",
    "    N_iter = N_max_iteration\n",
    "\n",
    "    # Iterate for a given Budget of candidates\n",
    "    while cpt < N_iter:\n",
    "\n",
    "        # Storing previous candidate\n",
    "        if previous_m_idx != current_m_idx:\n",
    "            current_m_idx\n",
    "\n",
    "        # Collect data of the current candidate    \n",
    "        current_data =  dataset_local.loc[current_m_idx]\n",
    "        current_perfs_36e = current_data['test_acc.36']\n",
    "\n",
    "        #Collect neibors of the current model\n",
    "        nei = collect_nei(current_data[indices], len_encoding=len(indices))\n",
    "\n",
    "        best_item = None\n",
    "        if not muted:\n",
    "            print('Current idx, ',current_data.name, ', Current_perfs: ', current_perfs_36e, \n",
    "                  ', Past idx: ', previous_m_idx, '\\n')\n",
    "\n",
    "        best_index = current_m_idx\n",
    "        best_perfs_36 = current_perfs_36e\n",
    "\n",
    "\n",
    "        #For all neibors\n",
    "        for idx, i_nei in enumerate(nei):\n",
    "            \n",
    "            # identify location in dataset\n",
    "            sol = get_solution_by_value(i_nei, indices, dataset_local)\n",
    "\n",
    "            #If existing, i.e valid model, do...\n",
    "            if not sol.empty:\n",
    "\n",
    "                # if many candidate with same binary, chose first\n",
    "                idx_confusion = 0\n",
    "                sol_i = sol.iloc[idx_confusion]\n",
    "\n",
    "                # Update the index to neibor of better performance (Hill Climbing / Ascent)\n",
    "                nei_i_perfs_36e = sol_i['test_acc.36']\n",
    "\n",
    "                if nei_i_perfs_36e > best_perfs_36:\n",
    "\n",
    "                    best_index = sol_i.name\n",
    "                    best_perfs_36 = nei_i_perfs_36e\n",
    "\n",
    "                    if not muted:\n",
    "                        print(idx, sol.shape, nei_i_perfs_36e, sol_i.name)\n",
    "\n",
    "        if best_index != current_m_idx and best_perfs_36 != current_perfs_36e:\n",
    "            previous_m_idx = current_m_idx\n",
    "            current_m_idx = best_index\n",
    "            cpt += 1 \n",
    "        else:\n",
    "            if not muted:\n",
    "                print('Step: ', cpt, ' - No improvment !\\n')\n",
    "            break;\n",
    "    return current_m_idx, current_perfs_36e, cpt\n",
    "               "
   ]
  },
  {
   "cell_type": "code",
   "execution_count": null,
   "metadata": {},
   "outputs": [],
   "source": []
  },
  {
   "cell_type": "code",
   "execution_count": 41,
   "metadata": {},
   "outputs": [],
   "source": [
    "#l_maxima, l_maxima_perfs, _ = best_improvement_local_search(dataset_local=nasbench_res, stating_point_index=88, N_max_iteration=100)"
   ]
  },
  {
   "cell_type": "code",
   "execution_count": 42,
   "metadata": {},
   "outputs": [],
   "source": [
    "#l_maxima, l_maxima_perfs, cpt_i = best_improvement_local_search(dataset_local=nasbench_res, stating_point_index=166665, N_max_iteration=100, muted=True)"
   ]
  },
  {
   "cell_type": "code",
   "execution_count": 43,
   "metadata": {},
   "outputs": [],
   "source": [
    "#l_maxima, l_maxima_perfs, cpt_i"
   ]
  },
  {
   "cell_type": "code",
   "execution_count": 44,
   "metadata": {},
   "outputs": [],
   "source": [
    "#Current idx,  95782 , Current_perfs:  0.9184695482254028 , Past idx:  1001 -steps 6\n",
    "#Current idx,  44088 , Current_perfs:  0.9150641163190206 , Past idx:  2000  - steps 7 \n",
    "#Current idx,  196916 , Current_perfs:  0.9108907580375671 , Past idx:  99999 - step 5\n",
    "#Current idx,  166665 , Current_perfs:  0.9034121235211691 , Past idx:  166665 - step 0\n",
    "#Current idx,  17258 , Current_perfs:  0.9121928413709005 , Past idx:  7777 - step 3\n",
    "#Current idx,  300460 , Current_perfs:  0.8983707427978516 , Past idx:  88  - 2\n",
    "#"
   ]
  },
  {
   "cell_type": "code",
   "execution_count": 45,
   "metadata": {},
   "outputs": [],
   "source": [
    "def best_improvement_local_search_mp(dataset_local, stating_point_index=88, \n",
    "                                     N_max_iteration=100, muted=False, n_threads=4):\n",
    "    \n",
    "    # Init starting point and counters\n",
    "    current_m_idx = stating_point_index\n",
    "    previous_m_idx = -1000 \n",
    "\n",
    "    cpt = 0\n",
    "    N_iter = N_max_iteration\n",
    "\n",
    "    # Iterate for a given Budget of candidates\n",
    "    while cpt < N_iter:\n",
    "\n",
    "        # Storing previous candidate\n",
    "        if previous_m_idx != current_m_idx:\n",
    "            current_m_idx\n",
    "\n",
    "        # Collect data of the current candidate    \n",
    "        current_data =  dataset_local.loc[current_m_idx]\n",
    "        current_perfs_36e = current_data['test_acc.36']\n",
    "\n",
    "        #Collect neibors of the current model\n",
    "        nei = collect_nei(current_data[indices], len_encoding=len(indices))\n",
    "\n",
    "        best_item = None\n",
    "        if not muted:\n",
    "            print('Current idx, ',current_data.name, ', Current_perfs: ', current_perfs_36e, \n",
    "                  ', Past idx: ', previous_m_idx, '\\n')\n",
    "\n",
    "        best_index = current_m_idx\n",
    "        best_perfs_36 = current_perfs_36e\n",
    "        \n",
    "        with Pool(n_threads) as p:\n",
    "            solutions = p.starmap(get_solution_by_value, \n",
    "                                  [(i_nei, indices, dataset_local) for i_nei in nei])\n",
    "        \n",
    "\n",
    "        #For all neibors\n",
    "        for idx, sol in enumerate(solutions):\n",
    "            \n",
    "            # identify location in dataset\n",
    "            #sol = get_solution_by_value(i_nei, indices, dataset_local)\n",
    "\n",
    "            #If existing, i.e valid model, do...\n",
    "            if not sol.empty:\n",
    "\n",
    "                # if many candidate with same binary, chose first\n",
    "                idx_confusion = 0\n",
    "                sol_i = sol.iloc[idx_confusion]\n",
    "\n",
    "                # Update the index to neibor of better performance (Hill Climbing / Ascent)\n",
    "                nei_i_perfs_36e = sol_i['test_acc.36']\n",
    "\n",
    "                if nei_i_perfs_36e > best_perfs_36:\n",
    "\n",
    "                    best_index = sol_i.name\n",
    "                    best_perfs_36 = nei_i_perfs_36e\n",
    "\n",
    "                    if not muted:\n",
    "                        print(idx, sol.shape, nei_i_perfs_36e, sol_i.name)\n",
    "\n",
    "        if best_index != current_m_idx and best_perfs_36 != current_perfs_36e:\n",
    "            previous_m_idx = current_m_idx\n",
    "            current_m_idx = best_index\n",
    "            cpt += 1 \n",
    "        else:\n",
    "            if not muted:\n",
    "                print('Step: ', cpt, ' - No improvment !\\n')\n",
    "            break;\n",
    "    return current_m_idx, current_perfs_36e, cpt\n",
    "               "
   ]
  },
  {
   "cell_type": "code",
   "execution_count": 46,
   "metadata": {},
   "outputs": [],
   "source": [
    "def get_solution_by_value_perfs_idx(reference, keys, dataset):\n",
    "    result = dataset.copy()    \n",
    "    for i in range(len(keys)):\n",
    "        result = result.loc[result[keys[i]] == reference[keys[i]]]\n",
    "    \n",
    "    return_values = (-1, 0)\n",
    "    if not result.empty:\n",
    "        idx_confusion = 0\n",
    "        sol_i = result.iloc[idx_confusion]\n",
    "\n",
    "        # Update the index to neibor of better performance (Hill Climbing / Ascent)\n",
    "        nei_i_perfs_36e = sol_i['test_acc.36']\n",
    "        index = sol_i.name\n",
    "        return_values = (index, nei_i_perfs_36e)\n",
    "    \n",
    "        return return_values\n",
    "\n",
    "\n",
    "def get_solution_by_value_dict(reference, keys, dataset, return_dict, id_proc):\n",
    "    result = dataset.copy()    \n",
    "    for i in range(len(keys)):\n",
    "        result = result.loc[result[keys[i]] == reference[keys[i]]]\n",
    "    \n",
    "    return_values = (-1, 0)\n",
    "    if not result.empty:\n",
    "        idx_confusion = 0\n",
    "        sol_i = result.iloc[idx_confusion]\n",
    "\n",
    "        # Update the index to neibor of better performance (Hill Climbing / Ascent)\n",
    "        nei_i_perfs_36e = sol_i['test_acc.36']\n",
    "        index = sol_i.name\n",
    "        return_values = (index, nei_i_perfs_36e)\n",
    "    \n",
    "    return_dict[id_proc] = return_values"
   ]
  },
  {
   "cell_type": "code",
   "execution_count": 50,
   "metadata": {},
   "outputs": [],
   "source": [
    "from multiprocessing import Pool\n",
    "def best_improvement_local_search_mp_plus(dataset_local, stating_point_index=88, \n",
    "                                     N_max_iteration=100, muted=False, n_threads=4):             \n",
    "\n",
    "    \n",
    "    # Init starting point and counters\n",
    "    current_m_idx = stating_point_index\n",
    "    previous_m_idx = -1000 \n",
    "\n",
    "    cpt = 0\n",
    "    N_iter = N_max_iteration\n",
    "\n",
    "    # Iterate for a given Budget of candidates\n",
    "    while cpt < N_iter:\n",
    "\n",
    "        # Storing previous candidate\n",
    "        if previous_m_idx != current_m_idx:\n",
    "            current_m_idx\n",
    "\n",
    "        # Collect data of the current candidate    \n",
    "        current_data =  dataset_local.loc[current_m_idx]\n",
    "        current_perfs_36e = current_data['test_acc.36']\n",
    "\n",
    "        #Collect neibors of the current model\n",
    "        nei = collect_nei(current_data[indices], len_encoding=len(indices))\n",
    "\n",
    "        best_item = None\n",
    "        if not muted:\n",
    "            print('Current idx, ',current_data.name, ', Current_perfs: ', current_perfs_36e, \n",
    "                  ', Past idx: ', previous_m_idx, '\\n')\n",
    "\n",
    "        best_index = current_m_idx\n",
    "        best_perfs_36 = current_perfs_36e\n",
    "        \n",
    "        with Pool(n_threads) as p:\n",
    "            solutions = p.starmap(get_solution_by_value_perfs_idx, \n",
    "                                  [(i_nei, indices, dataset_local) for i_nei in nei])\n",
    "        \n",
    "        #manager = mp.Manager()\n",
    "        #solutions = manager.dict()\n",
    "        #processes = []\n",
    "        #for id_proc, i_nei in enumerate(nei):\n",
    "        #    p = mp.Process(target=get_solution_by_value_dict, \n",
    "        #                   args=(i_nei, indices, dataset_local, solutions, id_proc))\n",
    "        #    processes.append(p)\n",
    "        #    p.start()\n",
    "\n",
    "        #for process in processes:\n",
    "        #    process.join()\n",
    "        #solutions = solutions.values()\n",
    "        #print(solutions)\n",
    "        best_index, best_perfs_36 = max(solutions, key=lambda x:x[1])\n",
    "        \n",
    "        \n",
    "        \n",
    "        #import ipdb; ipdb.set_trace()\n",
    "        if best_index != current_m_idx and best_perfs_36 > current_perfs_36e:\n",
    "            previous_m_idx = current_m_idx\n",
    "            current_m_idx = best_index\n",
    "            cpt += 1 \n",
    "            #print('improvement: ', current_m_idx)\n",
    "        else:\n",
    "            if not muted:\n",
    "                print('Step: ', cpt, ' - No improvment !\\n')\n",
    "            break;\n",
    "    return current_m_idx, current_perfs_36e, cpt"
   ]
  },
  {
   "cell_type": "code",
   "execution_count": null,
   "metadata": {},
   "outputs": [],
   "source": []
  },
  {
   "cell_type": "code",
   "execution_count": 51,
   "metadata": {},
   "outputs": [],
   "source": [
    "s_point_0 = 2000"
   ]
  },
  {
   "cell_type": "code",
   "execution_count": null,
   "metadata": {},
   "outputs": [
    {
     "name": "stdout",
     "output_type": "stream",
     "text": [
      "Current idx,  2000 , Current_perfs:  0.8086605270703634 , Past idx:  -1000 \n",
      "\n",
      "Current idx,  80781 , Current_perfs:  0.8769030372301737 , Past idx:  2000 \n",
      "\n",
      "Current idx,  210921 , Current_perfs:  0.8973691264788309 , Past idx:  80781 \n",
      "\n"
     ]
    }
   ],
   "source": [
    "time_begin = time.time()\n",
    "\n",
    "l_maxima, l_maxima_perfs, cpt_i = best_improvement_local_search_mp_plus(dataset_local=nasbench_res, \n",
    "                                                                stating_point_index=s_point_0, \n",
    "                                                                N_max_iteration=100, \n",
    "                                                                muted=False, n_threads=4)\n",
    "\n",
    "time_end = time.time()\n",
    "duration = time_end- time_begin\n",
    "\n",
    "duration, l_maxima, l_maxima_perfs, cpt_i"
   ]
  },
  {
   "cell_type": "code",
   "execution_count": 56,
   "metadata": {},
   "outputs": [
    {
     "name": "stdout",
     "output_type": "stream",
     "text": [
      "Current idx,  2000 , Current_perfs:  0.8086605270703634 , Past idx:  -1000 \n",
      "\n",
      "5 (1, 155) 0.8440504868825277 37800\n",
      "95 (7, 155) 0.8547008434931437 24559\n",
      "129 (1, 155) 0.8769030372301737 80781\n",
      "Current idx,  80781 , Current_perfs:  0.8769030372301737 , Past idx:  2000 \n",
      "\n",
      "5 (1, 155) 0.8973691264788309 210921\n",
      "Current idx,  210921 , Current_perfs:  0.8973691264788309 , Past idx:  80781 \n",
      "\n",
      "86 (3, 155) 0.9034121235211691 64407\n",
      "Current idx,  64407 , Current_perfs:  0.9034121235211691 , Past idx:  210921 \n",
      "\n",
      "6 (2, 155) 0.9080528815587362 245159\n",
      "Current idx,  245159 , Current_perfs:  0.9080528815587362 , Past idx:  64407 \n",
      "\n",
      "95 (7, 155) 0.9105234940846761 74853\n",
      "Current idx,  74853 , Current_perfs:  0.9105234940846761 , Past idx:  245159 \n",
      "\n",
      "10 (1, 155) 0.9137620329856873 406387\n",
      "11 (5, 155) 0.9148637851079305 9762\n",
      "15 (6, 155) 0.9150641163190206 44088\n",
      "Current idx,  44088 , Current_perfs:  0.9150641163190206 , Past idx:  74853 \n",
      "\n",
      "Step:  6  - No improvment !\n",
      "\n"
     ]
    },
    {
     "data": {
      "text/plain": [
       "(261.16195940971375, 44088, 0.9150641163190206, 6)"
      ]
     },
     "execution_count": 56,
     "metadata": {},
     "output_type": "execute_result"
    }
   ],
   "source": [
    "time_begin = time.time()\n",
    "\n",
    "l_maxima, l_maxima_perfs, cpt_i = best_improvement_local_search_mp(dataset_local=nasbench_res, \n",
    "                                                                stating_point_index=s_point_0, \n",
    "                                                                N_max_iteration=100, \n",
    "                                                                muted=False, n_threads=4)\n",
    "\n",
    "time_end = time.time()\n",
    "duration = time_end- time_begin\n",
    "\n",
    "duration, l_maxima, l_maxima_perfs, cpt_i"
   ]
  },
  {
   "cell_type": "code",
   "execution_count": null,
   "metadata": {},
   "outputs": [],
   "source": []
  },
  {
   "cell_type": "code",
   "execution_count": 57,
   "metadata": {},
   "outputs": [
    {
     "name": "stdout",
     "output_type": "stream",
     "text": [
      "Current idx,  2000 , Current_perfs:  0.8086605270703634 , Past idx:  -1000 \n",
      "\n",
      "5 (1, 155) 0.8440504868825277 37800\n",
      "95 (7, 155) 0.8547008434931437 24559\n",
      "129 (1, 155) 0.8769030372301737 80781\n",
      "Current idx,  80781 , Current_perfs:  0.8769030372301737 , Past idx:  2000 \n",
      "\n",
      "5 (1, 155) 0.8973691264788309 210921\n",
      "Current idx,  210921 , Current_perfs:  0.8973691264788309 , Past idx:  80781 \n",
      "\n",
      "86 (3, 155) 0.9034121235211691 64407\n",
      "Current idx,  64407 , Current_perfs:  0.9034121235211691 , Past idx:  210921 \n",
      "\n",
      "6 (2, 155) 0.9080528815587362 245159\n",
      "Current idx,  245159 , Current_perfs:  0.9080528815587362 , Past idx:  64407 \n",
      "\n",
      "95 (7, 155) 0.9105234940846761 74853\n",
      "Current idx,  74853 , Current_perfs:  0.9105234940846761 , Past idx:  245159 \n",
      "\n",
      "10 (1, 155) 0.9137620329856873 406387\n",
      "11 (5, 155) 0.9148637851079305 9762\n",
      "15 (6, 155) 0.9150641163190206 44088\n",
      "Current idx,  44088 , Current_perfs:  0.9150641163190206 , Past idx:  74853 \n",
      "\n",
      "Step:  6  - No improvment !\n",
      "\n"
     ]
    },
    {
     "data": {
      "text/plain": [
       "(475.2814955711365, 44088, 0.9150641163190206, 6)"
      ]
     },
     "execution_count": 57,
     "metadata": {},
     "output_type": "execute_result"
    }
   ],
   "source": [
    "time_begin = time.time()\n",
    "\n",
    "l_maxima, l_maxima_perfs, cpt_i = best_improvement_local_search(dataset_local=nasbench_res, \n",
    "                                                                stating_point_index=s_point_0, \n",
    "                                                                N_max_iteration=100, \n",
    "                                                                muted=False)\n",
    "\n",
    "time_end = time.time()\n",
    "duration = time_end- time_begin\n",
    "\n",
    "duration, l_maxima, l_maxima_perfs, cpt_i"
   ]
  },
  {
   "cell_type": "code",
   "execution_count": 58,
   "metadata": {},
   "outputs": [],
   "source": [
    "import random\n",
    "\n",
    "def repeat_bils(dataset_local, k_starting_points=100, N_max_iteration=100, muted=False, seed=111):\n",
    "    \n",
    "    random.seed(seed)\n",
    "    \n",
    "    list_starting_points = list()\n",
    "    list_ending_points = list()\n",
    "    len_dataset = dataset_local.shape[0]\n",
    "    \n",
    "    # Sample k distinct starting points\n",
    "    while len(list_starting_points) < k_starting_points:\n",
    "        point = random.randint(1, len_dataset) \n",
    "        if point not in list_starting_points:\n",
    "            list_starting_points.append(point)\n",
    "\n",
    "    print('Repeating best imprving local search - k times: ', k_starting_points, '\\n')\n",
    "    \n",
    "    # Collect k local maxima via local search\n",
    "    for s_point_i in list_starting_points:        \n",
    "        local_optima_i, perfs_i, steps_i = best_improvement_local_search(dataset_local=dataset_local, \n",
    "                                      stating_point_index=s_point_i, \n",
    "                                      N_max_iteration=N_max_iteration, \n",
    "                                      muted=muted)\n",
    "        list_ending_points.append((local_optima_i, perfs_i, s_point_i, steps_i))\n",
    "        \n",
    "        print('\\nOptima, perf_test_36e, Starting_point, steps:', local_optima_i, perfs_i, s_point_i, steps_i, '\\n\\n')\n",
    "    \n",
    "    return list_ending_points\n",
    "        \n",
    "    \n",
    "    "
   ]
  },
  {
   "cell_type": "code",
   "execution_count": 59,
   "metadata": {},
   "outputs": [],
   "source": [
    "import multiprocessing as mp\n",
    "from multiprocessing import Pool\n",
    "\n",
    "import random\n",
    "\n",
    "def repeat_bils_mp(dataset_local, k_starting_points=100, N_max_iteration=100, muted=False, \n",
    "                   seed=111, n_threads=4):\n",
    "    \n",
    "    random.seed(seed)\n",
    "    \n",
    "    list_starting_points = list()\n",
    "    list_ending_points = list()\n",
    "    len_dataset = dataset_local.shape[0]\n",
    "    \n",
    "    # Sample k distinct starting points\n",
    "    while len(list_starting_points) < k_starting_points:\n",
    "        point = random.randint(1, len_dataset) \n",
    "        if point not in list_starting_points:\n",
    "            list_starting_points.append(point)\n",
    "\n",
    "    print('Repeating best imprving local search - k times: ', k_starting_points, '\\n')\n",
    "    \n",
    "    \n",
    "    with Pool(n_threads) as p:\n",
    "        list_ending_points = p.starmap(best_improvement_local_search, \n",
    "                             [(dataset_local, s_point_i, N_max_iteration, muted) for s_point_i in list_starting_points])\n",
    "\n",
    "    \n",
    "           \n",
    "    #    print('\\nOptima, perf_test_36e, Starting_point, steps:', local_optima_i, perfs_i, s_point_i, steps_i, '\\n\\n')\n",
    "    \n",
    "    return list_ending_points\n"
   ]
  },
  {
   "cell_type": "code",
   "execution_count": 60,
   "metadata": {},
   "outputs": [],
   "source": [
    "import random\n",
    "\n",
    "def repeat_bils_mp_intra(dataset_local, k_starting_points=100, N_max_iteration=100, \n",
    "                         muted=False, seed=111, n_threads=4):\n",
    "    \n",
    "    random.seed(seed)\n",
    "    \n",
    "    list_starting_points = list()\n",
    "    list_ending_points = list()\n",
    "    len_dataset = dataset_local.shape[0]\n",
    "    \n",
    "    # Sample k distinct starting points\n",
    "    while len(list_starting_points) < k_starting_points:\n",
    "        point = random.randint(1, len_dataset) \n",
    "        if point not in list_starting_points:\n",
    "            list_starting_points.append(point)\n",
    "\n",
    "    print('Repeating best imprving local search - k times: ', k_starting_points, '\\n')\n",
    "    \n",
    "    # Collect k local maxima via local search\n",
    "    for s_point_i in list_starting_points:        \n",
    "        local_optima_i, perfs_i, steps_i = best_improvement_local_search_mp(dataset_local=dataset_local, \n",
    "                                      stating_point_index=s_point_i, \n",
    "                                      N_max_iteration=N_max_iteration, \n",
    "                                      muted=muted, n_threads=n_threads)\n",
    "        list_ending_points.append((local_optima_i, perfs_i, s_point_i, steps_i))\n",
    "        \n",
    "        print('\\nOptima, perf_test_36e, Starting_point, steps:', local_optima_i, perfs_i, s_point_i, steps_i, '\\n\\n')\n",
    "    \n",
    "    return list_ending_points\n",
    "        \n",
    "    \n",
    "    "
   ]
  },
  {
   "cell_type": "code",
   "execution_count": 61,
   "metadata": {},
   "outputs": [],
   "source": [
    "import random\n",
    "\n",
    "def repeat_bils_mp_intra_plus(dataset_local, k_starting_points=100, N_max_iteration=100, \n",
    "                         muted=False, seed=111, n_threads=4):\n",
    "    \n",
    "    random.seed(seed)\n",
    "    \n",
    "    list_starting_points = list()\n",
    "    list_ending_points = list()\n",
    "    len_dataset = dataset_local.shape[0]\n",
    "    \n",
    "    # Sample k distinct starting points\n",
    "    while len(list_starting_points) < k_starting_points:\n",
    "        point = random.randint(1, len_dataset) \n",
    "        if point not in list_starting_points:\n",
    "            list_starting_points.append(point)\n",
    "\n",
    "    print('Repeating best imprving local search - k times: ', k_starting_points, '\\n')\n",
    "    \n",
    "    # Collect k local maxima via local search\n",
    "    with Pool(n_threads) as p:\n",
    "        list_ending_points = p.starmap(best_improvement_local_search_mp, \n",
    "                             [(dataset_local, s_point_i, N_max_iteration, muted, n_threads) for s_point_i in list_starting_points])\n",
    "    \n",
    "    return list_ending_points"
   ]
  },
  {
   "cell_type": "code",
   "execution_count": 62,
   "metadata": {},
   "outputs": [
    {
     "name": "stdout",
     "output_type": "stream",
     "text": [
      "Repeating best imprving local search - k times:  4 \n",
      "\n",
      "\n",
      "Optima, perf_test_36e, Starting_point, steps: 111550 0.9137954115867615 111550 0 \n",
      "\n",
      "\n",
      "\n",
      "Optima, perf_test_36e, Starting_point, steps: 100358 0.8712940812110901 165662 3 \n",
      "\n",
      "\n",
      "\n",
      "Optima, perf_test_36e, Starting_point, steps: 209148 0.9207398692766825 258957 3 \n",
      "\n",
      "\n",
      "\n",
      "Optima, perf_test_36e, Starting_point, steps: 25795 0.9121928413709005 101822 4 \n",
      "\n",
      "\n"
     ]
    }
   ],
   "source": [
    "time_begin = time.time()\n",
    "\n",
    "list_stats = repeat_bils(nasbench_res, k_starting_points=4, muted=True)\n",
    "\n",
    "time_end = time.time()\n",
    "duration = time_end- time_begin"
   ]
  },
  {
   "cell_type": "code",
   "execution_count": 63,
   "metadata": {},
   "outputs": [
    {
     "data": {
      "text/plain": [
       "(632.9366738796234,\n",
       " [(111550, 0.9137954115867615, 111550, 0),\n",
       "  (100358, 0.8712940812110901, 165662, 3),\n",
       "  (209148, 0.9207398692766825, 258957, 3),\n",
       "  (25795, 0.9121928413709005, 101822, 4)])"
      ]
     },
     "execution_count": 63,
     "metadata": {},
     "output_type": "execute_result"
    }
   ],
   "source": [
    "duration, list_stats"
   ]
  },
  {
   "cell_type": "code",
   "execution_count": 64,
   "metadata": {},
   "outputs": [
    {
     "name": "stdout",
     "output_type": "stream",
     "text": [
      "Repeating best imprving local search - k times:  4 \n",
      "\n"
     ]
    }
   ],
   "source": [
    "time_begin = time.time()\n",
    "\n",
    "list_stats = repeat_bils_mp(nasbench_res, k_starting_points=4, muted=True)\n",
    "\n",
    "time_end = time.time()\n",
    "duration = time_end- time_begin"
   ]
  },
  {
   "cell_type": "code",
   "execution_count": 65,
   "metadata": {},
   "outputs": [
    {
     "data": {
      "text/plain": [
       "(350.955589056015,\n",
       " [(111550, 0.9137954115867615, 0),\n",
       "  (100358, 0.8712940812110901, 3),\n",
       "  (209148, 0.9207398692766825, 3),\n",
       "  (25795, 0.9121928413709005, 4)])"
      ]
     },
     "execution_count": 65,
     "metadata": {},
     "output_type": "execute_result"
    }
   ],
   "source": [
    "duration, list_stats"
   ]
  },
  {
   "cell_type": "code",
   "execution_count": 66,
   "metadata": {},
   "outputs": [
    {
     "name": "stdout",
     "output_type": "stream",
     "text": [
      "Repeating best imprving local search - k times:  4 \n",
      "\n",
      "\n",
      "Optima, perf_test_36e, Starting_point, steps: 111550 0.9137954115867615 111550 0 \n",
      "\n",
      "\n",
      "\n",
      "Optima, perf_test_36e, Starting_point, steps: 100358 0.8712940812110901 165662 3 \n",
      "\n",
      "\n",
      "\n",
      "Optima, perf_test_36e, Starting_point, steps: 209148 0.9207398692766825 258957 3 \n",
      "\n",
      "\n",
      "\n",
      "Optima, perf_test_36e, Starting_point, steps: 25795 0.9121928413709005 101822 4 \n",
      "\n",
      "\n"
     ]
    }
   ],
   "source": [
    "time_begin = time.time()\n",
    "\n",
    "list_stats = repeat_bils_mp_intra(nasbench_res, k_starting_points=4, muted=True)\n",
    "\n",
    "time_end = time.time()\n",
    "duration = time_end- time_begin"
   ]
  },
  {
   "cell_type": "code",
   "execution_count": 67,
   "metadata": {},
   "outputs": [],
   "source": [
    "#375.8246340751648,\n",
    "# [(111550, 0.9137954115867615, 111550, 0),\n",
    "#  (100358, 0.8712940812110901, 165662, 3),\n",
    "#  (209148, 0.9207398692766825, 258957, 3),\n",
    "#  (25795, 0.9121928413709005, 101822, 4)])\n",
    "\n"
   ]
  },
  {
   "cell_type": "code",
   "execution_count": 68,
   "metadata": {},
   "outputs": [
    {
     "name": "stdout",
     "output_type": "stream",
     "text": [
      "Repeating best imprving local search - k times:  100 \n",
      "\n",
      "\n",
      "Optima, perf_test_36e, Starting_point, steps: 111550 0.9137954115867615 111550 0 \n",
      "\n",
      "\n",
      "\n",
      "Optima, perf_test_36e, Starting_point, steps: 100358 0.8712940812110901 165662 3 \n",
      "\n",
      "\n",
      "\n",
      "Optima, perf_test_36e, Starting_point, steps: 209148 0.9207398692766825 258957 3 \n",
      "\n",
      "\n",
      "\n",
      "Optima, perf_test_36e, Starting_point, steps: 25795 0.9121928413709005 101822 4 \n",
      "\n",
      "\n",
      "\n",
      "Optima, perf_test_36e, Starting_point, steps: 208451 0.8832131425539652 208451 0 \n",
      "\n",
      "\n",
      "\n",
      "Optima, perf_test_36e, Starting_point, steps: 217750 0.8662192821502686 218614 5 \n",
      "\n",
      "\n",
      "\n",
      "Optima, perf_test_36e, Starting_point, steps: 156856 0.9005408684412638 323573 4 \n",
      "\n",
      "\n",
      "\n",
      "Optima, perf_test_36e, Starting_point, steps: 61913 0.9206063151359558 88935 3 \n",
      "\n",
      "\n",
      "\n",
      "Optima, perf_test_36e, Starting_point, steps: 284895 0.8569377660751343 330161 4 \n",
      "\n",
      "\n",
      "\n",
      "Optima, perf_test_36e, Starting_point, steps: 171112 0.9058827559153239 101509 3 \n",
      "\n",
      "\n",
      "\n",
      "Optima, perf_test_36e, Starting_point, steps: 213348 0.9107572038968405 365908 3 \n",
      "\n",
      "\n",
      "\n",
      "Optima, perf_test_36e, Starting_point, steps: 89483 0.9165331125259399 221064 2 \n",
      "\n",
      "\n",
      "\n",
      "Optima, perf_test_36e, Starting_point, steps: 57622 0.9182024796803793 293122 4 \n",
      "\n",
      "\n",
      "\n",
      "Optima, perf_test_36e, Starting_point, steps: 52392 0.8971020380655924 120432 4 \n",
      "\n",
      "\n",
      "\n",
      "Optima, perf_test_36e, Starting_point, steps: 319406 0.9063501755396525 96108 2 \n",
      "\n",
      "\n",
      "\n",
      "Optima, perf_test_36e, Starting_point, steps: 70845 0.9136618574460348 351499 4 \n",
      "\n",
      "\n",
      "\n",
      "Optima, perf_test_36e, Starting_point, steps: 139795 0.9178352157274882 242747 2 \n",
      "\n",
      "\n",
      "\n",
      "Optima, perf_test_36e, Starting_point, steps: 342058 0.9116252660751343 218226 4 \n",
      "\n",
      "\n",
      "\n",
      "Optima, perf_test_36e, Starting_point, steps: 2822 0.8579727411270142 201083 3 \n",
      "\n",
      "\n",
      "\n",
      "Optima, perf_test_36e, Starting_point, steps: 89687 0.8865852157274882 374634 4 \n",
      "\n",
      "\n",
      "\n",
      "Optima, perf_test_36e, Starting_point, steps: 401833 0.9159321586290995 145620 6 \n",
      "\n",
      "\n"
     ]
    },
    {
     "name": "stderr",
     "output_type": "stream",
     "text": [
      "Process ForkPoolWorker-910:\n",
      "Process ForkPoolWorker-912:\n",
      "Process ForkPoolWorker-911:\n",
      "Traceback (most recent call last):\n",
      "  File \"/local_home/trao_ka/anaconda3/envs/nas_benchmarks/lib/python3.7/multiprocessing/process.py\", line 297, in _bootstrap\n",
      "    self.run()\n",
      "Traceback (most recent call last):\n",
      "Traceback (most recent call last):\n",
      "  File \"/local_home/trao_ka/anaconda3/envs/nas_benchmarks/lib/python3.7/multiprocessing/process.py\", line 99, in run\n",
      "    self._target(*self._args, **self._kwargs)\n",
      "Process ForkPoolWorker-909:\n",
      "  File \"/local_home/trao_ka/anaconda3/envs/nas_benchmarks/lib/python3.7/multiprocessing/process.py\", line 297, in _bootstrap\n",
      "    self.run()\n",
      "  File \"/local_home/trao_ka/anaconda3/envs/nas_benchmarks/lib/python3.7/multiprocessing/process.py\", line 297, in _bootstrap\n",
      "    self.run()\n",
      "  File \"/local_home/trao_ka/anaconda3/envs/nas_benchmarks/lib/python3.7/multiprocessing/pool.py\", line 121, in worker\n",
      "    result = (True, func(*args, **kwds))\n",
      "  File \"/local_home/trao_ka/anaconda3/envs/nas_benchmarks/lib/python3.7/multiprocessing/pool.py\", line 47, in starmapstar\n",
      "    return list(itertools.starmap(args[0], args[1]))\n",
      "  File \"/local_home/trao_ka/anaconda3/envs/nas_benchmarks/lib/python3.7/multiprocessing/process.py\", line 99, in run\n",
      "    self._target(*self._args, **self._kwargs)\n",
      "  File \"<ipython-input-32-b0746867fac3>\", line 4, in get_solution_by_value\n",
      "    result = result.loc[result[keys[i]] == reference[keys[i]]]\n",
      "  File \"/local_home/trao_ka/anaconda3/envs/nas_benchmarks/lib/python3.7/site-packages/pandas/core/indexing.py\", line 879, in __getitem__\n",
      "    return self._getitem_axis(maybe_callable, axis=axis)\n",
      "Traceback (most recent call last):\n",
      "  File \"/local_home/trao_ka/anaconda3/envs/nas_benchmarks/lib/python3.7/multiprocessing/process.py\", line 99, in run\n",
      "    self._target(*self._args, **self._kwargs)\n",
      "  File \"/local_home/trao_ka/anaconda3/envs/nas_benchmarks/lib/python3.7/multiprocessing/pool.py\", line 121, in worker\n",
      "    result = (True, func(*args, **kwds))\n",
      "  File \"/local_home/trao_ka/anaconda3/envs/nas_benchmarks/lib/python3.7/site-packages/pandas/core/indexing.py\", line 1090, in _getitem_axis\n",
      "    return self._getbool_axis(key, axis=axis)\n",
      "  File \"/local_home/trao_ka/anaconda3/envs/nas_benchmarks/lib/python3.7/multiprocessing/process.py\", line 297, in _bootstrap\n",
      "    self.run()\n",
      "  File \"/local_home/trao_ka/anaconda3/envs/nas_benchmarks/lib/python3.7/site-packages/pandas/core/indexing.py\", line 898, in _getbool_axis\n",
      "    return self.obj._take_with_is_copy(inds, axis=axis)\n",
      "  File \"/local_home/trao_ka/anaconda3/envs/nas_benchmarks/lib/python3.7/multiprocessing/pool.py\", line 121, in worker\n",
      "    result = (True, func(*args, **kwds))\n",
      "  File \"/local_home/trao_ka/anaconda3/envs/nas_benchmarks/lib/python3.7/site-packages/pandas/core/generic.py\", line 3363, in _take_with_is_copy\n",
      "    result = self.take(indices=indices, axis=axis)\n",
      "  File \"/local_home/trao_ka/anaconda3/envs/nas_benchmarks/lib/python3.7/multiprocessing/pool.py\", line 47, in starmapstar\n",
      "    return list(itertools.starmap(args[0], args[1]))\n",
      "  File \"/local_home/trao_ka/anaconda3/envs/nas_benchmarks/lib/python3.7/site-packages/pandas/core/internals/managers.py\", line 1440, in take\n",
      "    indexer = maybe_convert_indices(indexer, n)\n",
      "  File \"/local_home/trao_ka/anaconda3/envs/nas_benchmarks/lib/python3.7/site-packages/pandas/core/indexing.py\", line 879, in __getitem__\n",
      "    return self._getitem_axis(maybe_callable, axis=axis)\n",
      "  File \"/local_home/trao_ka/anaconda3/envs/nas_benchmarks/lib/python3.7/site-packages/pandas/core/generic.py\", line 3351, in take\n",
      "    indices, axis=self._get_block_manager_axis(axis), verify=True\n",
      "  File \"<ipython-input-32-b0746867fac3>\", line 4, in get_solution_by_value\n",
      "    result = result.loc[result[keys[i]] == reference[keys[i]]]\n",
      "  File \"/local_home/trao_ka/anaconda3/envs/nas_benchmarks/lib/python3.7/multiprocessing/pool.py\", line 47, in starmapstar\n",
      "    return list(itertools.starmap(args[0], args[1]))\n",
      "  File \"<ipython-input-32-b0746867fac3>\", line 4, in get_solution_by_value\n",
      "    result = result.loc[result[keys[i]] == reference[keys[i]]]\n",
      "  File \"/local_home/trao_ka/anaconda3/envs/nas_benchmarks/lib/python3.7/site-packages/pandas/core/indexers.py\", line 244, in maybe_convert_indices\n",
      "    if mask.any():\n",
      "  File \"/local_home/trao_ka/anaconda3/envs/nas_benchmarks/lib/python3.7/multiprocessing/process.py\", line 99, in run\n",
      "    self._target(*self._args, **self._kwargs)\n",
      "  File \"/local_home/trao_ka/anaconda3/envs/nas_benchmarks/lib/python3.7/site-packages/numpy/core/_methods.py\", line 54, in _any\n",
      "    return umr_any(a, axis, dtype, out, keepdims)\n",
      "  File \"/local_home/trao_ka/anaconda3/envs/nas_benchmarks/lib/python3.7/site-packages/pandas/core/indexing.py\", line 1090, in _getitem_axis\n",
      "    return self._getbool_axis(key, axis=axis)\n",
      "KeyboardInterrupt\n",
      "  File \"/local_home/trao_ka/anaconda3/envs/nas_benchmarks/lib/python3.7/site-packages/pandas/core/indexing.py\", line 898, in _getbool_axis\n",
      "    return self.obj._take_with_is_copy(inds, axis=axis)\n",
      "  File \"/local_home/trao_ka/anaconda3/envs/nas_benchmarks/lib/python3.7/multiprocessing/pool.py\", line 121, in worker\n",
      "    result = (True, func(*args, **kwds))\n",
      "  File \"/local_home/trao_ka/anaconda3/envs/nas_benchmarks/lib/python3.7/site-packages/pandas/core/indexing.py\", line 879, in __getitem__\n",
      "    return self._getitem_axis(maybe_callable, axis=axis)\n",
      "  File \"/local_home/trao_ka/anaconda3/envs/nas_benchmarks/lib/python3.7/site-packages/pandas/core/indexing.py\", line 1090, in _getitem_axis\n",
      "    return self._getbool_axis(key, axis=axis)\n",
      "  File \"/local_home/trao_ka/anaconda3/envs/nas_benchmarks/lib/python3.7/multiprocessing/pool.py\", line 47, in starmapstar\n",
      "    return list(itertools.starmap(args[0], args[1]))\n",
      "  File \"/local_home/trao_ka/anaconda3/envs/nas_benchmarks/lib/python3.7/site-packages/pandas/core/indexing.py\", line 898, in _getbool_axis\n",
      "    return self.obj._take_with_is_copy(inds, axis=axis)\n",
      "  File \"/local_home/trao_ka/anaconda3/envs/nas_benchmarks/lib/python3.7/site-packages/pandas/core/generic.py\", line 3363, in _take_with_is_copy\n",
      "    result = self.take(indices=indices, axis=axis)\n",
      "  File \"<ipython-input-32-b0746867fac3>\", line 2, in get_solution_by_value\n",
      "    result = dataset.copy()\n",
      "  File \"/local_home/trao_ka/anaconda3/envs/nas_benchmarks/lib/python3.7/site-packages/pandas/core/generic.py\", line 3351, in take\n",
      "    indices, axis=self._get_block_manager_axis(axis), verify=True\n",
      "  File \"/local_home/trao_ka/anaconda3/envs/nas_benchmarks/lib/python3.7/site-packages/pandas/core/internals/managers.py\", line 1440, in take\n",
      "    indexer = maybe_convert_indices(indexer, n)\n",
      "  File \"/local_home/trao_ka/anaconda3/envs/nas_benchmarks/lib/python3.7/site-packages/pandas/core/generic.py\", line 5663, in copy\n",
      "    data = self._mgr.copy(deep=deep)\n",
      "  File \"/local_home/trao_ka/anaconda3/envs/nas_benchmarks/lib/python3.7/site-packages/pandas/core/indexers.py\", line 248, in maybe_convert_indices\n",
      "    mask = (indices >= n) | (indices < 0)\n",
      "  File \"/local_home/trao_ka/anaconda3/envs/nas_benchmarks/lib/python3.7/site-packages/pandas/core/internals/managers.py\", line 802, in copy\n",
      "    res = self.apply(\"copy\", deep=deep)\n",
      "KeyboardInterrupt\n",
      "  File \"/local_home/trao_ka/anaconda3/envs/nas_benchmarks/lib/python3.7/site-packages/pandas/core/internals/managers.py\", line 406, in apply\n",
      "    applied = getattr(b, f)(**kwargs)\n",
      "  File \"/local_home/trao_ka/anaconda3/envs/nas_benchmarks/lib/python3.7/site-packages/pandas/core/internals/blocks.py\", line 679, in copy\n",
      "    values = values.copy()\n",
      "KeyboardInterrupt\n",
      "  File \"/local_home/trao_ka/anaconda3/envs/nas_benchmarks/lib/python3.7/site-packages/pandas/core/generic.py\", line 3363, in _take_with_is_copy\n",
      "    result = self.take(indices=indices, axis=axis)\n",
      "  File \"/local_home/trao_ka/anaconda3/envs/nas_benchmarks/lib/python3.7/site-packages/pandas/core/generic.py\", line 3351, in take\n",
      "    indices, axis=self._get_block_manager_axis(axis), verify=True\n",
      "  File \"/local_home/trao_ka/anaconda3/envs/nas_benchmarks/lib/python3.7/site-packages/pandas/core/internals/managers.py\", line 1448, in take\n",
      "    new_axis=new_labels, indexer=indexer, axis=axis, allow_dups=True\n",
      "  File \"/local_home/trao_ka/anaconda3/envs/nas_benchmarks/lib/python3.7/site-packages/pandas/core/internals/managers.py\", line 1292, in reindex_indexer\n",
      "    for blk in self.blocks\n"
     ]
    },
    {
     "name": "stderr",
     "output_type": "stream",
     "text": [
      "  File \"/local_home/trao_ka/anaconda3/envs/nas_benchmarks/lib/python3.7/site-packages/pandas/core/internals/managers.py\", line 1292, in <listcomp>\n",
      "    for blk in self.blocks\n",
      "  File \"/local_home/trao_ka/anaconda3/envs/nas_benchmarks/lib/python3.7/site-packages/pandas/core/internals/blocks.py\", line 1256, in take_nd\n",
      "    values, indexer, axis=axis, allow_fill=allow_fill, fill_value=fill_value\n",
      "  File \"/local_home/trao_ka/anaconda3/envs/nas_benchmarks/lib/python3.7/site-packages/pandas/core/algorithms.py\", line 1713, in take_nd\n",
      "    func(arr, indexer, out, fill_value)\n",
      "KeyboardInterrupt\n"
     ]
    },
    {
     "ename": "KeyboardInterrupt",
     "evalue": "",
     "output_type": "error",
     "traceback": [
      "\u001b[0;31m---------------------------------------------------------------------------\u001b[0m",
      "\u001b[0;31mKeyboardInterrupt\u001b[0m                         Traceback (most recent call last)",
      "\u001b[0;32m<ipython-input-68-2a07eed62c56>\u001b[0m in \u001b[0;36m<module>\u001b[0;34m\u001b[0m\n\u001b[1;32m      1\u001b[0m \u001b[0mtime_begin\u001b[0m \u001b[0;34m=\u001b[0m \u001b[0mtime\u001b[0m\u001b[0;34m.\u001b[0m\u001b[0mtime\u001b[0m\u001b[0;34m(\u001b[0m\u001b[0;34m)\u001b[0m\u001b[0;34m\u001b[0m\u001b[0;34m\u001b[0m\u001b[0m\n\u001b[1;32m      2\u001b[0m \u001b[0;34m\u001b[0m\u001b[0m\n\u001b[0;32m----> 3\u001b[0;31m \u001b[0mlist_stats\u001b[0m \u001b[0;34m=\u001b[0m \u001b[0mrepeat_bils_mp_intra\u001b[0m\u001b[0;34m(\u001b[0m\u001b[0mnasbench_res\u001b[0m\u001b[0;34m,\u001b[0m \u001b[0mk_starting_points\u001b[0m\u001b[0;34m=\u001b[0m\u001b[0;36m100\u001b[0m\u001b[0;34m,\u001b[0m \u001b[0mmuted\u001b[0m\u001b[0;34m=\u001b[0m\u001b[0;32mTrue\u001b[0m\u001b[0;34m)\u001b[0m\u001b[0;34m\u001b[0m\u001b[0;34m\u001b[0m\u001b[0m\n\u001b[0m\u001b[1;32m      4\u001b[0m \u001b[0;34m\u001b[0m\u001b[0m\n\u001b[1;32m      5\u001b[0m \u001b[0mtime_end\u001b[0m \u001b[0;34m=\u001b[0m \u001b[0mtime\u001b[0m\u001b[0;34m.\u001b[0m\u001b[0mtime\u001b[0m\u001b[0;34m(\u001b[0m\u001b[0;34m)\u001b[0m\u001b[0;34m\u001b[0m\u001b[0;34m\u001b[0m\u001b[0m\n",
      "\u001b[0;32m<ipython-input-60-396ca73328b2>\u001b[0m in \u001b[0;36mrepeat_bils_mp_intra\u001b[0;34m(dataset_local, k_starting_points, N_max_iteration, muted, seed, n_threads)\u001b[0m\n\u001b[1;32m     23\u001b[0m                                       \u001b[0mstating_point_index\u001b[0m\u001b[0;34m=\u001b[0m\u001b[0ms_point_i\u001b[0m\u001b[0;34m,\u001b[0m\u001b[0;34m\u001b[0m\u001b[0;34m\u001b[0m\u001b[0m\n\u001b[1;32m     24\u001b[0m                                       \u001b[0mN_max_iteration\u001b[0m\u001b[0;34m=\u001b[0m\u001b[0mN_max_iteration\u001b[0m\u001b[0;34m,\u001b[0m\u001b[0;34m\u001b[0m\u001b[0;34m\u001b[0m\u001b[0m\n\u001b[0;32m---> 25\u001b[0;31m                                       muted=muted, n_threads=n_threads)\n\u001b[0m\u001b[1;32m     26\u001b[0m         \u001b[0mlist_ending_points\u001b[0m\u001b[0;34m.\u001b[0m\u001b[0mappend\u001b[0m\u001b[0;34m(\u001b[0m\u001b[0;34m(\u001b[0m\u001b[0mlocal_optima_i\u001b[0m\u001b[0;34m,\u001b[0m \u001b[0mperfs_i\u001b[0m\u001b[0;34m,\u001b[0m \u001b[0ms_point_i\u001b[0m\u001b[0;34m,\u001b[0m \u001b[0msteps_i\u001b[0m\u001b[0;34m)\u001b[0m\u001b[0;34m)\u001b[0m\u001b[0;34m\u001b[0m\u001b[0;34m\u001b[0m\u001b[0m\n\u001b[1;32m     27\u001b[0m \u001b[0;34m\u001b[0m\u001b[0m\n",
      "\u001b[0;32m<ipython-input-45-43a74e16f07f>\u001b[0m in \u001b[0;36mbest_improvement_local_search_mp\u001b[0;34m(dataset_local, stating_point_index, N_max_iteration, muted, n_threads)\u001b[0m\n\u001b[1;32m     33\u001b[0m         \u001b[0;32mwith\u001b[0m \u001b[0mPool\u001b[0m\u001b[0;34m(\u001b[0m\u001b[0mn_threads\u001b[0m\u001b[0;34m)\u001b[0m \u001b[0;32mas\u001b[0m \u001b[0mp\u001b[0m\u001b[0;34m:\u001b[0m\u001b[0;34m\u001b[0m\u001b[0;34m\u001b[0m\u001b[0m\n\u001b[1;32m     34\u001b[0m             solutions = p.starmap(get_solution_by_value, \n\u001b[0;32m---> 35\u001b[0;31m                                   [(i_nei, indices, dataset_local) for i_nei in nei])\n\u001b[0m\u001b[1;32m     36\u001b[0m \u001b[0;34m\u001b[0m\u001b[0m\n\u001b[1;32m     37\u001b[0m \u001b[0;34m\u001b[0m\u001b[0m\n",
      "\u001b[0;32m~/anaconda3/envs/nas_benchmarks/lib/python3.7/multiprocessing/pool.py\u001b[0m in \u001b[0;36mstarmap\u001b[0;34m(self, func, iterable, chunksize)\u001b[0m\n\u001b[1;32m    274\u001b[0m         \u001b[0;31m`\u001b[0m\u001b[0mfunc\u001b[0m\u001b[0;31m`\u001b[0m \u001b[0;32mand\u001b[0m \u001b[0;34m(\u001b[0m\u001b[0ma\u001b[0m\u001b[0;34m,\u001b[0m \u001b[0mb\u001b[0m\u001b[0;34m)\u001b[0m \u001b[0mbecomes\u001b[0m \u001b[0mfunc\u001b[0m\u001b[0;34m(\u001b[0m\u001b[0ma\u001b[0m\u001b[0;34m,\u001b[0m \u001b[0mb\u001b[0m\u001b[0;34m)\u001b[0m\u001b[0;34m.\u001b[0m\u001b[0;34m\u001b[0m\u001b[0;34m\u001b[0m\u001b[0m\n\u001b[1;32m    275\u001b[0m         '''\n\u001b[0;32m--> 276\u001b[0;31m         \u001b[0;32mreturn\u001b[0m \u001b[0mself\u001b[0m\u001b[0;34m.\u001b[0m\u001b[0m_map_async\u001b[0m\u001b[0;34m(\u001b[0m\u001b[0mfunc\u001b[0m\u001b[0;34m,\u001b[0m \u001b[0miterable\u001b[0m\u001b[0;34m,\u001b[0m \u001b[0mstarmapstar\u001b[0m\u001b[0;34m,\u001b[0m \u001b[0mchunksize\u001b[0m\u001b[0;34m)\u001b[0m\u001b[0;34m.\u001b[0m\u001b[0mget\u001b[0m\u001b[0;34m(\u001b[0m\u001b[0;34m)\u001b[0m\u001b[0;34m\u001b[0m\u001b[0;34m\u001b[0m\u001b[0m\n\u001b[0m\u001b[1;32m    277\u001b[0m \u001b[0;34m\u001b[0m\u001b[0m\n\u001b[1;32m    278\u001b[0m     def starmap_async(self, func, iterable, chunksize=None, callback=None,\n",
      "\u001b[0;32m~/anaconda3/envs/nas_benchmarks/lib/python3.7/multiprocessing/pool.py\u001b[0m in \u001b[0;36mget\u001b[0;34m(self, timeout)\u001b[0m\n\u001b[1;32m    649\u001b[0m \u001b[0;34m\u001b[0m\u001b[0m\n\u001b[1;32m    650\u001b[0m     \u001b[0;32mdef\u001b[0m \u001b[0mget\u001b[0m\u001b[0;34m(\u001b[0m\u001b[0mself\u001b[0m\u001b[0;34m,\u001b[0m \u001b[0mtimeout\u001b[0m\u001b[0;34m=\u001b[0m\u001b[0;32mNone\u001b[0m\u001b[0;34m)\u001b[0m\u001b[0;34m:\u001b[0m\u001b[0;34m\u001b[0m\u001b[0;34m\u001b[0m\u001b[0m\n\u001b[0;32m--> 651\u001b[0;31m         \u001b[0mself\u001b[0m\u001b[0;34m.\u001b[0m\u001b[0mwait\u001b[0m\u001b[0;34m(\u001b[0m\u001b[0mtimeout\u001b[0m\u001b[0;34m)\u001b[0m\u001b[0;34m\u001b[0m\u001b[0;34m\u001b[0m\u001b[0m\n\u001b[0m\u001b[1;32m    652\u001b[0m         \u001b[0;32mif\u001b[0m \u001b[0;32mnot\u001b[0m \u001b[0mself\u001b[0m\u001b[0;34m.\u001b[0m\u001b[0mready\u001b[0m\u001b[0;34m(\u001b[0m\u001b[0;34m)\u001b[0m\u001b[0;34m:\u001b[0m\u001b[0;34m\u001b[0m\u001b[0;34m\u001b[0m\u001b[0m\n\u001b[1;32m    653\u001b[0m             \u001b[0;32mraise\u001b[0m \u001b[0mTimeoutError\u001b[0m\u001b[0;34m\u001b[0m\u001b[0;34m\u001b[0m\u001b[0m\n",
      "\u001b[0;32m~/anaconda3/envs/nas_benchmarks/lib/python3.7/multiprocessing/pool.py\u001b[0m in \u001b[0;36mwait\u001b[0;34m(self, timeout)\u001b[0m\n\u001b[1;32m    646\u001b[0m \u001b[0;34m\u001b[0m\u001b[0m\n\u001b[1;32m    647\u001b[0m     \u001b[0;32mdef\u001b[0m \u001b[0mwait\u001b[0m\u001b[0;34m(\u001b[0m\u001b[0mself\u001b[0m\u001b[0;34m,\u001b[0m \u001b[0mtimeout\u001b[0m\u001b[0;34m=\u001b[0m\u001b[0;32mNone\u001b[0m\u001b[0;34m)\u001b[0m\u001b[0;34m:\u001b[0m\u001b[0;34m\u001b[0m\u001b[0;34m\u001b[0m\u001b[0m\n\u001b[0;32m--> 648\u001b[0;31m         \u001b[0mself\u001b[0m\u001b[0;34m.\u001b[0m\u001b[0m_event\u001b[0m\u001b[0;34m.\u001b[0m\u001b[0mwait\u001b[0m\u001b[0;34m(\u001b[0m\u001b[0mtimeout\u001b[0m\u001b[0;34m)\u001b[0m\u001b[0;34m\u001b[0m\u001b[0;34m\u001b[0m\u001b[0m\n\u001b[0m\u001b[1;32m    649\u001b[0m \u001b[0;34m\u001b[0m\u001b[0m\n\u001b[1;32m    650\u001b[0m     \u001b[0;32mdef\u001b[0m \u001b[0mget\u001b[0m\u001b[0;34m(\u001b[0m\u001b[0mself\u001b[0m\u001b[0;34m,\u001b[0m \u001b[0mtimeout\u001b[0m\u001b[0;34m=\u001b[0m\u001b[0;32mNone\u001b[0m\u001b[0;34m)\u001b[0m\u001b[0;34m:\u001b[0m\u001b[0;34m\u001b[0m\u001b[0;34m\u001b[0m\u001b[0m\n",
      "\u001b[0;32m~/anaconda3/envs/nas_benchmarks/lib/python3.7/threading.py\u001b[0m in \u001b[0;36mwait\u001b[0;34m(self, timeout)\u001b[0m\n\u001b[1;32m    550\u001b[0m             \u001b[0msignaled\u001b[0m \u001b[0;34m=\u001b[0m \u001b[0mself\u001b[0m\u001b[0;34m.\u001b[0m\u001b[0m_flag\u001b[0m\u001b[0;34m\u001b[0m\u001b[0;34m\u001b[0m\u001b[0m\n\u001b[1;32m    551\u001b[0m             \u001b[0;32mif\u001b[0m \u001b[0;32mnot\u001b[0m \u001b[0msignaled\u001b[0m\u001b[0;34m:\u001b[0m\u001b[0;34m\u001b[0m\u001b[0;34m\u001b[0m\u001b[0m\n\u001b[0;32m--> 552\u001b[0;31m                 \u001b[0msignaled\u001b[0m \u001b[0;34m=\u001b[0m \u001b[0mself\u001b[0m\u001b[0;34m.\u001b[0m\u001b[0m_cond\u001b[0m\u001b[0;34m.\u001b[0m\u001b[0mwait\u001b[0m\u001b[0;34m(\u001b[0m\u001b[0mtimeout\u001b[0m\u001b[0;34m)\u001b[0m\u001b[0;34m\u001b[0m\u001b[0;34m\u001b[0m\u001b[0m\n\u001b[0m\u001b[1;32m    553\u001b[0m             \u001b[0;32mreturn\u001b[0m \u001b[0msignaled\u001b[0m\u001b[0;34m\u001b[0m\u001b[0;34m\u001b[0m\u001b[0m\n\u001b[1;32m    554\u001b[0m \u001b[0;34m\u001b[0m\u001b[0m\n",
      "\u001b[0;32m~/anaconda3/envs/nas_benchmarks/lib/python3.7/threading.py\u001b[0m in \u001b[0;36mwait\u001b[0;34m(self, timeout)\u001b[0m\n\u001b[1;32m    294\u001b[0m         \u001b[0;32mtry\u001b[0m\u001b[0;34m:\u001b[0m    \u001b[0;31m# restore state no matter what (e.g., KeyboardInterrupt)\u001b[0m\u001b[0;34m\u001b[0m\u001b[0;34m\u001b[0m\u001b[0m\n\u001b[1;32m    295\u001b[0m             \u001b[0;32mif\u001b[0m \u001b[0mtimeout\u001b[0m \u001b[0;32mis\u001b[0m \u001b[0;32mNone\u001b[0m\u001b[0;34m:\u001b[0m\u001b[0;34m\u001b[0m\u001b[0;34m\u001b[0m\u001b[0m\n\u001b[0;32m--> 296\u001b[0;31m                 \u001b[0mwaiter\u001b[0m\u001b[0;34m.\u001b[0m\u001b[0macquire\u001b[0m\u001b[0;34m(\u001b[0m\u001b[0;34m)\u001b[0m\u001b[0;34m\u001b[0m\u001b[0;34m\u001b[0m\u001b[0m\n\u001b[0m\u001b[1;32m    297\u001b[0m                 \u001b[0mgotit\u001b[0m \u001b[0;34m=\u001b[0m \u001b[0;32mTrue\u001b[0m\u001b[0;34m\u001b[0m\u001b[0;34m\u001b[0m\u001b[0m\n\u001b[1;32m    298\u001b[0m             \u001b[0;32melse\u001b[0m\u001b[0;34m:\u001b[0m\u001b[0;34m\u001b[0m\u001b[0;34m\u001b[0m\u001b[0m\n",
      "\u001b[0;31mKeyboardInterrupt\u001b[0m: "
     ]
    }
   ],
   "source": [
    "time_begin = time.time()\n",
    "\n",
    "list_stats = repeat_bils_mp_intra(nasbench_res, k_starting_points=100, muted=True)\n",
    "\n",
    "time_end = time.time()\n",
    "duration = time_end- time_begin"
   ]
  },
  {
   "cell_type": "code",
   "execution_count": null,
   "metadata": {},
   "outputs": [],
   "source": [
    "duration, list_stats"
   ]
  },
  {
   "cell_type": "code",
   "execution_count": null,
   "metadata": {},
   "outputs": [],
   "source": [
    "time_begin = time.time()\n",
    "\n",
    "list_stats = repeat_bils_mp_intra_plus(nasbench_res, k_starting_points=4, muted=True)\n",
    "\n",
    "time_end = time.time()\n",
    "duration = time_end- time_begin"
   ]
  },
  {
   "cell_type": "code",
   "execution_count": null,
   "metadata": {},
   "outputs": [],
   "source": [
    "all_local_minima = [95782, 44088, 196916, 166665, 17258, 300460]\n",
    "all_encodings = [str(list(nasbench_res.loc[l_i][indices])) for l_i in all_local_minima]\n",
    "for l_i in all_encodings:\n",
    "    for l_j in all_encodings:\n",
    "        if l_i == l_j:\n",
    "            print('duplicate !\\n')\n",
    "\n",
    "len(set(all_encodings)), len(all_encodings)"
   ]
  },
  {
   "cell_type": "code",
   "execution_count": null,
   "metadata": {},
   "outputs": [],
   "source": [
    "s = list()\n",
    "for l_i in all_encodings:\n",
    "    s.append(hash(l_i))"
   ]
  },
  {
   "cell_type": "markdown",
   "metadata": {},
   "source": [
    "# Dealing with duplicates in Binary encoding\n",
    "## Same binary, different associated evaluation data, i.e models ?!"
   ]
  },
  {
   "cell_type": "code",
   "execution_count": null,
   "metadata": {},
   "outputs": [],
   "source": [
    "item_cmp = nasbench_res.iloc[8899]\n",
    "get_solution_by_value(item_cmp, indices, nasbench_res)"
   ]
  },
  {
   "cell_type": "code",
   "execution_count": null,
   "metadata": {},
   "outputs": [],
   "source": [
    "result.keys()"
   ]
  },
  {
   "cell_type": "code",
   "execution_count": null,
   "metadata": {},
   "outputs": [],
   "source": [
    "path_to_eval_file = \"/local_home/trao_ka/projects/andres_code/nasbench/experiments/landscape_with_adj_nb101.json\"\n",
    "with open(path_to_eval_file, 'rb') as filehandle:\n",
    "        # read the data as bina|ry data stream\n",
    "        read_data_nb101_evals = json.load(filehandle)"
   ]
  },
  {
   "cell_type": "code",
   "execution_count": null,
   "metadata": {},
   "outputs": [],
   "source": [
    "s8899 = read_data_nb101_evals['solutions'][8899]\n",
    "assert s8899['encoded'] == list(item_cmp[indices])"
   ]
  },
  {
   "cell_type": "code",
   "execution_count": null,
   "metadata": {},
   "outputs": [],
   "source": [
    "s8899['ops']"
   ]
  },
  {
   "cell_type": "code",
   "execution_count": null,
   "metadata": {},
   "outputs": [],
   "source": [
    "s4244 = read_data_nb101_evals['solutions'][4244]\n",
    "assert s4244['encoded'] == list(item_cmp[indices])"
   ]
  },
  {
   "cell_type": "code",
   "execution_count": null,
   "metadata": {},
   "outputs": [],
   "source": [
    "s4244['ops']"
   ]
  },
  {
   "cell_type": "code",
   "execution_count": null,
   "metadata": {},
   "outputs": [],
   "source": [
    "s45912 = read_data_nb101_evals['solutions'][45912]\n",
    "assert s45912['encoded'] == list(item_cmp[indices])"
   ]
  },
  {
   "cell_type": "code",
   "execution_count": null,
   "metadata": {},
   "outputs": [],
   "source": [
    "s45912['ops']"
   ]
  },
  {
   "cell_type": "code",
   "execution_count": null,
   "metadata": {},
   "outputs": [],
   "source": [
    "s102999 = read_data_nb101_evals['solutions'][102999]\n",
    "assert s102999['encoded'] == list(item_cmp[indices])"
   ]
  },
  {
   "cell_type": "code",
   "execution_count": null,
   "metadata": {},
   "outputs": [],
   "source": [
    "s102999['ops']"
   ]
  },
  {
   "cell_type": "code",
   "execution_count": null,
   "metadata": {},
   "outputs": [],
   "source": [
    "s4244['ops'] == s102999['ops'], s102999['ops']== s8899['ops']"
   ]
  },
  {
   "cell_type": "markdown",
   "metadata": {},
   "source": [
    "# Same binary, same ops, different adjacency matrices"
   ]
  },
  {
   "cell_type": "code",
   "execution_count": null,
   "metadata": {},
   "outputs": [],
   "source": [
    "s4244['adj_mat'] # ['ops'] == s102999['ops'], s102999['ops']== s8899['ops']"
   ]
  },
  {
   "cell_type": "code",
   "execution_count": null,
   "metadata": {},
   "outputs": [],
   "source": [
    "s102999['adj_mat']"
   ]
  },
  {
   "cell_type": "code",
   "execution_count": null,
   "metadata": {},
   "outputs": [],
   "source": [
    "s4244['adj_mat']  == s102999['adj_mat']"
   ]
  },
  {
   "cell_type": "code",
   "execution_count": null,
   "metadata": {},
   "outputs": [],
   "source": []
  }
 ],
 "metadata": {
  "kernelspec": {
   "display_name": "Python 3",
   "language": "python",
   "name": "python3"
  },
  "language_info": {
   "codemirror_mode": {
    "name": "ipython",
    "version": 3
   },
   "file_extension": ".py",
   "mimetype": "text/x-python",
   "name": "python",
   "nbconvert_exporter": "python",
   "pygments_lexer": "ipython3",
   "version": "3.7.9"
  }
 },
 "nbformat": 4,
 "nbformat_minor": 2
}
