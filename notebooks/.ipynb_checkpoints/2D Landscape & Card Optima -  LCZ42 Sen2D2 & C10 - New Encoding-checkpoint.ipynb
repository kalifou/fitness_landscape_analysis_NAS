{
 "cells": [
  {
   "cell_type": "code",
   "execution_count": 1,
   "metadata": {},
   "outputs": [
    {
     "name": "stderr",
     "output_type": "stream",
     "text": [
      "/local_home/trao_ka/anaconda3/envs/nas_benchmarks/lib/python3.7/site-packages/tensorflow/python/framework/dtypes.py:516: FutureWarning: Passing (type, 1) or '1type' as a synonym of type is deprecated; in a future version of numpy, it will be understood as (type, (1,)) / '(1,)type'.\n",
      "  _np_qint8 = np.dtype([(\"qint8\", np.int8, 1)])\n",
      "/local_home/trao_ka/anaconda3/envs/nas_benchmarks/lib/python3.7/site-packages/tensorflow/python/framework/dtypes.py:517: FutureWarning: Passing (type, 1) or '1type' as a synonym of type is deprecated; in a future version of numpy, it will be understood as (type, (1,)) / '(1,)type'.\n",
      "  _np_quint8 = np.dtype([(\"quint8\", np.uint8, 1)])\n",
      "/local_home/trao_ka/anaconda3/envs/nas_benchmarks/lib/python3.7/site-packages/tensorflow/python/framework/dtypes.py:518: FutureWarning: Passing (type, 1) or '1type' as a synonym of type is deprecated; in a future version of numpy, it will be understood as (type, (1,)) / '(1,)type'.\n",
      "  _np_qint16 = np.dtype([(\"qint16\", np.int16, 1)])\n",
      "/local_home/trao_ka/anaconda3/envs/nas_benchmarks/lib/python3.7/site-packages/tensorflow/python/framework/dtypes.py:519: FutureWarning: Passing (type, 1) or '1type' as a synonym of type is deprecated; in a future version of numpy, it will be understood as (type, (1,)) / '(1,)type'.\n",
      "  _np_quint16 = np.dtype([(\"quint16\", np.uint16, 1)])\n",
      "/local_home/trao_ka/anaconda3/envs/nas_benchmarks/lib/python3.7/site-packages/tensorflow/python/framework/dtypes.py:520: FutureWarning: Passing (type, 1) or '1type' as a synonym of type is deprecated; in a future version of numpy, it will be understood as (type, (1,)) / '(1,)type'.\n",
      "  _np_qint32 = np.dtype([(\"qint32\", np.int32, 1)])\n",
      "/local_home/trao_ka/anaconda3/envs/nas_benchmarks/lib/python3.7/site-packages/tensorflow/python/framework/dtypes.py:525: FutureWarning: Passing (type, 1) or '1type' as a synonym of type is deprecated; in a future version of numpy, it will be understood as (type, (1,)) / '(1,)type'.\n",
      "  np_resource = np.dtype([(\"resource\", np.ubyte, 1)])\n"
     ]
    },
    {
     "name": "stdout",
     "output_type": "stream",
     "text": [
      "WARNING:tensorflow:From /local_home/trao_ka/projects/nasbench/nasbench/lib/training_time.py:130: The name tf.train.SessionRunHook is deprecated. Please use tf.estimator.SessionRunHook instead.\n",
      "\n",
      "WARNING:tensorflow:From /local_home/trao_ka/projects/nasbench/nasbench/lib/training_time.py:174: The name tf.train.CheckpointSaverListener is deprecated. Please use tf.estimator.CheckpointSaverListener instead.\n",
      "\n",
      "WARNING:tensorflow:From /local_home/trao_ka/projects/nasbench/nasbench/lib/evaluate.py:33: The name tf.train.NanLossDuringTrainingError is deprecated. Please use tf.estimator.NanLossDuringTrainingError instead.\n",
      "\n"
     ]
    },
    {
     "name": "stderr",
     "output_type": "stream",
     "text": [
      "/local_home/trao_ka/anaconda3/envs/nas_benchmarks/lib/python3.7/site-packages/tensorboard/compat/tensorflow_stub/dtypes.py:541: FutureWarning: Passing (type, 1) or '1type' as a synonym of type is deprecated; in a future version of numpy, it will be understood as (type, (1,)) / '(1,)type'.\n",
      "  _np_qint8 = np.dtype([(\"qint8\", np.int8, 1)])\n",
      "/local_home/trao_ka/anaconda3/envs/nas_benchmarks/lib/python3.7/site-packages/tensorboard/compat/tensorflow_stub/dtypes.py:542: FutureWarning: Passing (type, 1) or '1type' as a synonym of type is deprecated; in a future version of numpy, it will be understood as (type, (1,)) / '(1,)type'.\n",
      "  _np_quint8 = np.dtype([(\"quint8\", np.uint8, 1)])\n",
      "/local_home/trao_ka/anaconda3/envs/nas_benchmarks/lib/python3.7/site-packages/tensorboard/compat/tensorflow_stub/dtypes.py:543: FutureWarning: Passing (type, 1) or '1type' as a synonym of type is deprecated; in a future version of numpy, it will be understood as (type, (1,)) / '(1,)type'.\n",
      "  _np_qint16 = np.dtype([(\"qint16\", np.int16, 1)])\n",
      "/local_home/trao_ka/anaconda3/envs/nas_benchmarks/lib/python3.7/site-packages/tensorboard/compat/tensorflow_stub/dtypes.py:544: FutureWarning: Passing (type, 1) or '1type' as a synonym of type is deprecated; in a future version of numpy, it will be understood as (type, (1,)) / '(1,)type'.\n",
      "  _np_quint16 = np.dtype([(\"quint16\", np.uint16, 1)])\n",
      "/local_home/trao_ka/anaconda3/envs/nas_benchmarks/lib/python3.7/site-packages/tensorboard/compat/tensorflow_stub/dtypes.py:545: FutureWarning: Passing (type, 1) or '1type' as a synonym of type is deprecated; in a future version of numpy, it will be understood as (type, (1,)) / '(1,)type'.\n",
      "  _np_qint32 = np.dtype([(\"qint32\", np.int32, 1)])\n",
      "/local_home/trao_ka/anaconda3/envs/nas_benchmarks/lib/python3.7/site-packages/tensorboard/compat/tensorflow_stub/dtypes.py:550: FutureWarning: Passing (type, 1) or '1type' as a synonym of type is deprecated; in a future version of numpy, it will be understood as (type, (1,)) / '(1,)type'.\n",
      "  np_resource = np.dtype([(\"resource\", np.ubyte, 1)])\n"
     ]
    }
   ],
   "source": [
    "from __future__ import absolute_import\n",
    "from __future__ import division\n",
    "from __future__ import print_function\n",
    "\n",
    "import numpy as np\n",
    "import json\n",
    "import pickle as pkl\n",
    "\n",
    "from absl import app\n",
    "from nasbench import api\n",
    "\n",
    "import time"
   ]
  },
  {
   "cell_type": "code",
   "execution_count": 2,
   "metadata": {},
   "outputs": [],
   "source": [
    "MAX_NODES = 7\n",
    "MAX_EDGES = 9\n",
    "NASBENCH_TFRECORD = './data/nasbench_full.tfrecord'\n",
    "\n",
    "INPUT = 'input'\n",
    "OUTPUT = 'output'\n",
    "CONV1X1 = 'conv1x1-bn-relu'\n",
    "CONV3X3 = 'conv3x3-bn-relu'\n",
    "MAXPOOL3X3 = 'maxpool3x3'\n",
    "\n",
    "CODING = [INPUT]\n",
    "CODING = CODING + [CONV1X1 + \"_\" + str(i) for i in range(0, (MAX_NODES - 2))]\n",
    "CODING = CODING + [CONV3X3 + \"_\" + str(i) for i in range(0, (MAX_NODES - 2))]\n",
    "CODING = CODING + [MAXPOOL3X3 + \"_\" + str(i) for i in range(0, (MAX_NODES - 2))]\n",
    "CODING = CODING + [OUTPUT]"
   ]
  },
  {
   "cell_type": "code",
   "execution_count": 3,
   "metadata": {},
   "outputs": [
    {
     "data": {
      "text/plain": [
       "['input',\n",
       " 'conv1x1-bn-relu_0',\n",
       " 'conv1x1-bn-relu_1',\n",
       " 'conv1x1-bn-relu_2',\n",
       " 'conv1x1-bn-relu_3',\n",
       " 'conv1x1-bn-relu_4',\n",
       " 'conv3x3-bn-relu_0',\n",
       " 'conv3x3-bn-relu_1',\n",
       " 'conv3x3-bn-relu_2',\n",
       " 'conv3x3-bn-relu_3',\n",
       " 'conv3x3-bn-relu_4',\n",
       " 'maxpool3x3_0',\n",
       " 'maxpool3x3_1',\n",
       " 'maxpool3x3_2',\n",
       " 'maxpool3x3_3',\n",
       " 'maxpool3x3_4',\n",
       " 'output']"
      ]
     },
     "execution_count": 3,
     "metadata": {},
     "output_type": "execute_result"
    }
   ],
   "source": [
    "CODING"
   ]
  },
  {
   "cell_type": "code",
   "execution_count": 4,
   "metadata": {},
   "outputs": [],
   "source": [
    "def rename_ops(ops):\n",
    "    c1x1 = 0\n",
    "    c3x3 = 0\n",
    "    mp3x3 = 0\n",
    "    new_ops = []\n",
    "    for op in ops:\n",
    "        if op == CONV1X1:\n",
    "            new_ops = new_ops + [op + \"_\" + str(c1x1)]\n",
    "            c1x1 = c1x1 + 1\n",
    "        elif op == CONV3X3:\n",
    "            new_ops = new_ops + [op + \"_\" + str(c3x3)]\n",
    "            c3x3 = c3x3 + 1\n",
    "        elif op == MAXPOOL3X3:\n",
    "            new_ops = new_ops + [op + \"_\" + str(mp3x3)]\n",
    "            mp3x3 = mp3x3 + 1\n",
    "        else:\n",
    "            new_ops = new_ops + [op]\n",
    "    return new_ops\n",
    "\n",
    "\n",
    "def encode_matrix_fixed_long(adj_matrix, ops):\n",
    "    enc_matrix = np.zeros((len(CODING), len(CODING)))\n",
    "    pos = [CODING.index(op) for op in ops]\n",
    "    trans = dict()\n",
    "    for i, ix in enumerate(pos):\n",
    "        trans[i] = ix\n",
    "    i, j = np.nonzero(adj_matrix)\n",
    "    ix = [trans.get(n) for n in i]\n",
    "    jy = [trans.get(n) for n in j]\n",
    "    for p in zip(ix, jy):\n",
    "        enc_matrix[p] = 1\n",
    "    # Flattenning in C (row-major) ording\n",
    "    encoded =  enc_matrix.flatten('C') \n",
    "    #enc_matrix[np.triu_indices(len(CODING), k=1)]\n",
    "    return encoded.astype(int)\n",
    "\n",
    "\n",
    "def encode_solution(solution):\n",
    "    adj_matrix = solution['module_adjacency']\n",
    "    ops = rename_ops(solution['module_operations'])\n",
    "    encoded = encode_matrix_fixed_long(adj_matrix, ops)    \n",
    "    return encoded, solution['trainable_parameters'], ops\n",
    "\n",
    "\n",
    "def summarize_fitness(computed_metrics, epochs=[108]):\n",
    "    fitness = dict()\n",
    "    for ep in epochs:\n",
    "        training_time = 0\n",
    "        train_acc = 0\n",
    "        validation_acc = 0\n",
    "        test_acc = 0\n",
    "        for metrics in computed_metrics[ep]:\n",
    "            training_time = metrics['final_training_time']\n",
    "            train_acc = train_acc + metrics['final_train_accuracy']\n",
    "            validation_acc = validation_acc + metrics['final_validation_accuracy']\n",
    "            test_acc = test_acc + metrics['final_test_accuracy']\n",
    "        training_time = training_time / len(computed_metrics[ep])\n",
    "        train_acc = train_acc / len(computed_metrics[ep])\n",
    "        validation_acc = validation_acc / len(computed_metrics[ep])\n",
    "        test_acc = test_acc / len(computed_metrics[ep])\n",
    "        fitness[ep] = {\n",
    "            'training_time': training_time,\n",
    "            'train_acc': train_acc,\n",
    "            'validation_acc': validation_acc,\n",
    "            'test_acc': test_acc}\n",
    "    return fitness\n",
    "\n",
    "\n",
    "\n",
    "\n",
    "def get_fitnesses():\n",
    "    nasbench = api.NASBench(NASBENCH_TFRECORD)\n",
    "    prev = \"\"\n",
    "    print('{\\n\\t\"coding\": ', json.dumps(CODING), \",\")\n",
    "    print('\\t\"solutions\": [\\n')\n",
    "    for unique_hash in nasbench.hash_iterator():\n",
    "        fixed_metrics, computed_metrics = nasbench.get_metrics_from_hash(unique_hash)\n",
    "        encoded, params, ops = encode_matrix_fixed_long(fixed_metrics)\n",
    "        fitness = summarize_fitness(computed_metrics, epochs=[4, 12, 36, 108])\n",
    "        print('\\t\\t', prev, '{\"encoded\": ', encoded.tolist(),\n",
    "              ', \"tr_params\": ', params, \n",
    "              ', \"ops\": ', json.dumps(ops), \n",
    "              ', \"fitness\": ', json.dumps(fitness), '}')\n",
    "        if not prev:\n",
    "            prev = \",\"\n",
    "    print('\\t]\\n}')"
   ]
  },
  {
   "cell_type": "code",
   "execution_count": 5,
   "metadata": {},
   "outputs": [],
   "source": [
    "def get_fitnesses_lcz42(path_to_eval_file):\n",
    "    \n",
    "    with open(path_to_eval_file, 'rb') as filehandle:\n",
    "        # read the data as bina|ry data stream\n",
    "        read_data_lcz_evals = pkl.load(filehandle)\n",
    "    print('{\\n\\t\"coding\": ', json.dumps(CODING), \",\")\n",
    "    print('\\t\"solutions\": [\\n')\n",
    "    prev = \"\"\n",
    "    for m, ops, data in read_data_lcz_evals:\n",
    "        ops = rename_ops(ops)\n",
    "        encoded = encode_matrix_fixed_long(m, ops)\n",
    "        params = data['trainable_params']\n",
    "        print(data)\n",
    "        print('\\t\\t', prev, '{\"encoded\": ', encoded.tolist(),\n",
    "              ', \"tr_params\": ', params, \n",
    "              ', \"ops\": ', json.dumps(ops), \n",
    "              ', \"fitness\": ', json.dumps(str(data)), '}')\n",
    "        if not prev:\n",
    "            prev = \",\"\n",
    "    print('\\t]\\n}')"
   ]
  },
  {
   "cell_type": "code",
   "execution_count": 6,
   "metadata": {},
   "outputs": [],
   "source": [
    "path_to_eval_file = \"/local_home/trao_ka/projects/andres_code/nasbench/experiments/aggregated_eval_lc42_s2_d2_all_bs128_35pct_long_encoding.json\"\n",
    "#path_to_eval_file = \"/local_home/trao_ka/projects/andres_code/nasbench/experiments/aggregated_eval_lc42_s2_d2_all_bs128_35pct.json\"\n",
    "#\"/local_home/trao_ka/projects/andres_code/nasbench/experiments/new_eval_lc42_s2_d2_all_bs128_35pct.json\" "
   ]
  },
  {
   "cell_type": "code",
   "execution_count": 7,
   "metadata": {},
   "outputs": [],
   "source": [
    "with open(path_to_eval_file, 'rb') as filehandle:\n",
    "        # read the data as bina|ry data stream\n",
    "        read_data_lcz_evals = json.load(filehandle)"
   ]
  },
  {
   "cell_type": "code",
   "execution_count": 8,
   "metadata": {},
   "outputs": [
    {
     "data": {
      "text/plain": [
       "dict_keys(['encoded', 'tr_params', 'ops', 'fitness'])"
      ]
     },
     "execution_count": 8,
     "metadata": {},
     "output_type": "execute_result"
    }
   ],
   "source": [
    "read_data_lcz_evals['solutions'][0].keys()"
   ]
  },
  {
   "cell_type": "code",
   "execution_count": 9,
   "metadata": {},
   "outputs": [
    {
     "data": {
      "text/plain": [
       "['input',\n",
       " 'conv3x3-bn-relu_0',\n",
       " 'conv3x3-bn-relu_1',\n",
       " 'conv1x1-bn-relu_0',\n",
       " 'conv3x3-bn-relu_2',\n",
       " 'conv1x1-bn-relu_1',\n",
       " 'output']"
      ]
     },
     "execution_count": 9,
     "metadata": {},
     "output_type": "execute_result"
    }
   ],
   "source": [
    "read_data_lcz_evals['solutions'][4]['ops']"
   ]
  },
  {
   "cell_type": "code",
   "execution_count": 10,
   "metadata": {},
   "outputs": [
    {
     "data": {
      "text/plain": [
       "['input',\n",
       " 'conv1x1-bn-relu_0',\n",
       " 'conv1x1-bn-relu_1',\n",
       " 'conv1x1-bn-relu_2',\n",
       " 'conv1x1-bn-relu_3',\n",
       " 'conv3x3-bn-relu_0',\n",
       " 'output']"
      ]
     },
     "execution_count": 10,
     "metadata": {},
     "output_type": "execute_result"
    }
   ],
   "source": [
    "read_data_lcz_evals['solutions'][5]['ops']"
   ]
  },
  {
   "cell_type": "code",
   "execution_count": 11,
   "metadata": {},
   "outputs": [
    {
     "data": {
      "text/plain": [
       "dict_keys(['encoded', 'tr_params', 'ops', 'fitness'])"
      ]
     },
     "execution_count": 11,
     "metadata": {},
     "output_type": "execute_result"
    }
   ],
   "source": [
    "read_data_lcz_evals['solutions'][0].keys()"
   ]
  },
  {
   "cell_type": "code",
   "execution_count": 12,
   "metadata": {},
   "outputs": [
    {
     "data": {
      "text/plain": [
       "dict_keys(['training_time', 'trainable_params', 'train_accuracy', 'average_train_accuracy', 'kappaCohen_train', 'test_accuracy', 'average_test_accuracy', 'kappaCohen_test'])"
      ]
     },
     "execution_count": 12,
     "metadata": {},
     "output_type": "execute_result"
    }
   ],
   "source": [
    "read_data_lcz_evals['solutions'][0]['fitness']['4'].keys()"
   ]
  },
  {
   "cell_type": "code",
   "execution_count": 13,
   "metadata": {},
   "outputs": [],
   "source": [
    "all_x_36 = [e['encoded'] for e in read_data_lcz_evals['solutions']]\n",
    "all_x_36 = np.array(all_x_36)\n",
    "\n",
    "all_y_36 = [e['fitness']['36']['kappaCohen_test'] for e in read_data_lcz_evals['solutions']]\n",
    "all_y_36 = np.array(all_y_36)\n",
    "\n",
    "idx_local_maximum_36 = np.where(all_y_36==all_y_36.max())[0][0]\n",
    "idx_local_minimum_36 = np.where(all_y_36==all_y_36.min())[0][0]"
   ]
  },
  {
   "cell_type": "code",
   "execution_count": 14,
   "metadata": {},
   "outputs": [],
   "source": [
    "all_x_108 = [e['encoded'] for e in read_data_lcz_evals['solutions']]\n",
    "all_x_108 = np.array(all_x_108)\n",
    "\n",
    "all_y_108 = [e['fitness']['108']['kappaCohen_test'] for e in read_data_lcz_evals['solutions']]\n",
    "all_y_108 = np.array(all_y_108)\n",
    "\n",
    "idx_local_maximum_108 = np.where(all_y_108==all_y_108.max())[0][0]\n",
    "idx_local_minimum_108 = np.where(all_y_108==all_y_108.min())[0][0]"
   ]
  },
  {
   "cell_type": "code",
   "execution_count": null,
   "metadata": {},
   "outputs": [],
   "source": []
  },
  {
   "cell_type": "code",
   "execution_count": null,
   "metadata": {},
   "outputs": [],
   "source": []
  },
  {
   "cell_type": "code",
   "execution_count": 15,
   "metadata": {},
   "outputs": [],
   "source": [
    "from sklearn.decomposition import PCA\n",
    "import numpy as np\n",
    "import matplotlib.pyplot as plt\n",
    "import seaborn as sns\n",
    "%matplotlib inline\n",
    "\n",
    "# Dimension reduction and clustering libraries\n",
    "import umap\n",
    "import matplotlib as mpl"
   ]
  },
  {
   "cell_type": "code",
   "execution_count": 16,
   "metadata": {},
   "outputs": [],
   "source": [
    " #d efine the colormap\n",
    "cmap = plt.cm.copper\n",
    "# extract all colors from the .jet map\n",
    "cmaplist = [cmap(i) for i in range(cmap.N)]\n",
    "# create the new map\n",
    "cmap = cmap.from_list('Custom cmap', cmaplist, cmap.N)\n",
    "# define the bins and normalize\n",
    "N = 16\n",
    "bounds = np.linspace(0, 10)\n",
    "norm = mpl.colors.BoundaryNorm(bounds, cmap.N)\n",
    "N_nei = 4 \n",
    "distance='hamming'\n",
    "min_dist = 0.31 #5 #25 #5 #1 #25"
   ]
  },
  {
   "cell_type": "code",
   "execution_count": null,
   "metadata": {},
   "outputs": [],
   "source": []
  },
  {
   "cell_type": "code",
   "execution_count": 17,
   "metadata": {},
   "outputs": [
    {
     "name": "stderr",
     "output_type": "stream",
     "text": [
      "/local_home/trao_ka/anaconda3/envs/nas_benchmarks/lib/python3.7/site-packages/umap/umap_.py:1530: UserWarning: gradient function is not yet implemented for hamming distance metric; inverse_transform will be unavailable\n",
      "  \"inverse_transform will be unavailable\".format(self.metric)\n"
     ]
    }
   ],
   "source": [
    "umap_local = umap.UMAP(random_state=4, n_neighbors=N_nei, #7,\n",
    "                      metric=distance, #min_dist=min_dist\n",
    "                        )\n",
    "trans = umap_local.fit_transform(all_x_36)"
   ]
  },
  {
   "cell_type": "code",
   "execution_count": 18,
   "metadata": {},
   "outputs": [
    {
     "name": "stderr",
     "output_type": "stream",
     "text": [
      "/local_home/trao_ka/anaconda3/envs/nas_benchmarks/lib/python3.7/site-packages/umap/umap_.py:1530: UserWarning: gradient function is not yet implemented for hamming distance metric; inverse_transform will be unavailable\n",
      "  \"inverse_transform will be unavailable\".format(self.metric)\n"
     ]
    }
   ],
   "source": [
    "umap_local = umap.UMAP(random_state=4, n_neighbors=N_nei, #7,\n",
    "                      metric=distance, #min_dist=min_dist\n",
    "                      )\n",
    "trans = umap_local.fit_transform(all_x_108)"
   ]
  },
  {
   "cell_type": "code",
   "execution_count": 19,
   "metadata": {},
   "outputs": [
    {
     "data": {
      "text/plain": [
       "(100, 289)"
      ]
     },
     "execution_count": 19,
     "metadata": {},
     "output_type": "execute_result"
    }
   ],
   "source": [
    "all_x_36.shape "
   ]
  },
  {
   "cell_type": "code",
   "execution_count": null,
   "metadata": {},
   "outputs": [],
   "source": []
  },
  {
   "cell_type": "code",
   "execution_count": 20,
   "metadata": {},
   "outputs": [
    {
     "data": {
      "text/plain": [
       "Text(7.8819227, 8.672198, 'minimum')"
      ]
     },
     "execution_count": 20,
     "metadata": {},
     "output_type": "execute_result"
    },
    {
     "data": {
      "image/png": "[encoded data removed]",
      "text/plain": [
       "<Figure size 720x576 with 1 Axes>"
      ]
     },
     "metadata": {
      "needs_background": "light"
     },
     "output_type": "display_data"
    }
   ],
   "source": [
    "#standard_embedding = umap.UMAP(random_state=42).fit_transform(all_features[0])\n",
    "\n",
    "plt.figure(figsize=(10,8))\n",
    "s = plt.scatter(trans[:, 0], trans[:, 1], #s=12, \n",
    "                c=all_y_36[:], cmap=cmap)\n",
    "legend1 = plt.legend(*s.legend_elements() , loc=\"upper right\", title=\"Fitness (kappa)\",  bbox_to_anchor=(1.17, 1))\n",
    "#cb = plt.colorbar(s, spacing='proportional',ticks=bounds)\n",
    "#cb.set_label('Fitness (kappa)')\n",
    "\n",
    "plt.annotate('maximum',(trans[idx_local_maximum_36, 0],  #(trans.embedding_[idx_local_maximum_36, 0], \n",
    "                         trans[idx_local_maximum_36, 1]), #trans.embedding_[idx_local_maximum_36, 1]),\n",
    "             size=8)\n",
    "plt.annotate('minimum', (trans[idx_local_minimum_36, 0], \n",
    "                         trans[idx_local_minimum_36, 1]),  \n",
    "             size=8)"
   ]
  },
  {
   "cell_type": "code",
   "execution_count": 21,
   "metadata": {},
   "outputs": [
    {
     "data": {
      "text/plain": [
       "Text(8.1032, 7.8462973, 'minimum')"
      ]
     },
     "execution_count": 21,
     "metadata": {},
     "output_type": "execute_result"
    },
    {
     "data": {
      "image/png": "[encoded data removed]",
      "text/plain": [
       "<Figure size 720x576 with 1 Axes>"
      ]
     },
     "metadata": {
      "needs_background": "light"
     },
     "output_type": "display_data"
    }
   ],
   "source": [
    "\n",
    "\n",
    "#standard_embedding = umap.UMAP(random_state=42).fit_transform(all_features[0])\n",
    "\n",
    "plt.figure(figsize=(10,8))\n",
    "s = plt.scatter(trans[:, 0], trans[:, 1], #s=12, \n",
    "                c=all_y_108[:], cmap=cmap)\n",
    "legend1 = plt.legend(*s.legend_elements() , loc=\"upper right\",  title=\"Fitness (kappa)\", \n",
    "                     bbox_to_anchor=(1.17, 1))\n",
    "#cb = plt.colorbar(s, spacing='proportional',ticks=bounds)\n",
    "#cb.set_label('Fitness (kappa)')\n",
    "\n",
    "plt.annotate('maximum', (trans[idx_local_maximum_108, 0], \n",
    "                         trans[idx_local_maximum_108, 1]),  \n",
    "             size=8)\n",
    "plt.annotate('minimum', (trans[idx_local_minimum_108, 0], \n",
    "                         trans[idx_local_minimum_108, 1]),  \n",
    "             size=8)"
   ]
  },
  {
   "cell_type": "code",
   "execution_count": null,
   "metadata": {},
   "outputs": [],
   "source": []
  },
  {
   "cell_type": "markdown",
   "metadata": {},
   "source": [
    "# Enumerate Cardina"
   ]
  },
  {
   "cell_type": "code",
   "execution_count": 22,
   "metadata": {},
   "outputs": [],
   "source": [
    "#Source: http://claresloggett.github.io/python_workshops/improved_hammingdist.html\n",
    "\n",
    "# Return the Hamming distance between string1 and string2.\n",
    "# string1 and string2 should be the same length.\n",
    "def hamming_distance(string1, string2): \n",
    "    # Start with a distance of zero, and count up\n",
    "    distance = 0\n",
    "    # Loop over the indices of the string\n",
    "    L = len(string1)\n",
    "    for i in range(L):\n",
    "        # Add 1 to the distance if these two characters are not equal\n",
    "        if string1[i] != string2[i]:\n",
    "            distance += 1\n",
    "    # Return the final count of differences\n",
    "    return distance\n",
    "\n"
   ]
  },
  {
   "cell_type": "code",
   "execution_count": 23,
   "metadata": {},
   "outputs": [],
   "source": [
    "e0 = read_data_lcz_evals['solutions'][0]['encoded']\n",
    "e1 = read_data_lcz_evals['solutions'][1]['encoded']"
   ]
  },
  {
   "cell_type": "code",
   "execution_count": 24,
   "metadata": {},
   "outputs": [
    {
     "data": {
      "text/plain": [
       "12"
      ]
     },
     "execution_count": 24,
     "metadata": {},
     "output_type": "execute_result"
    }
   ],
   "source": [
    "hamming_distance(e0, e1)"
   ]
  },
  {
   "cell_type": "code",
   "execution_count": 25,
   "metadata": {},
   "outputs": [],
   "source": [
    "assert hamming_distance(e0, e0) == 0\n",
    "assert hamming_distance(e1, e1) == hamming_distance(e0, e0)"
   ]
  },
  {
   "cell_type": "code",
   "execution_count": 26,
   "metadata": {},
   "outputs": [],
   "source": [
    "def is_local_optima(all_models, regime='36', metric='kappaCohen_test'):\n",
    "    \n",
    "    n_models = len(all_models)\n",
    "    \n",
    "    is_local_optima = dict()\n",
    "    Perf_nei_of_i = dict()\n",
    "    \n",
    "    for m_i in range(n_models):\n",
    "        # all_models[m_j]['fitness'][regime][metric] if hamming_distance(m_i, m_j) == 1\n",
    "        Perf_nei_of_i[m_i] = []\n",
    "        for m_j in range(n_models):\n",
    "            if  m_j != m_i:\n",
    "                Perf_nei_of_i[m_i].append(hamming_distance(all_models[m_i]['encoded'],all_models[m_j]['encoded'] ) )\n",
    "        print(sorted(Perf_nei_of_i[m_i])[0], m_i)"
   ]
  },
  {
   "cell_type": "code",
   "execution_count": 27,
   "metadata": {},
   "outputs": [],
   "source": [
    "import pyreadr\n",
    "import pandas as pd\n",
    "result = pyreadr.read_r('/local_home/trao_ka/projects/andres_code/nasbench/experiments/nasbench_full_landscape_no_duplicates.RData')\n",
    "result = pd.Series(result)"
   ]
  },
  {
   "cell_type": "code",
   "execution_count": 28,
   "metadata": {},
   "outputs": [],
   "source": [
    "nasbench_res =  result['land.df']"
   ]
  },
  {
   "cell_type": "code",
   "execution_count": 29,
   "metadata": {},
   "outputs": [],
   "source": [
    "len_encoding = int(17*17)\n",
    "len_full_solution = len(nasbench_res.keys())\n",
    "\n",
    "#len_encoding = int(17*16/2)\n",
    "#len_full_solution = 155\n",
    "\n",
    "indices = ['X' + str(i) for i in range(1, len_encoding + 1 )]\n",
    "all_keys = nasbench_res.keys()\n",
    "\n",
    "str0 = nasbench_res[indices].loc[0]\n",
    "str1 = nasbench_res[indices].loc[1]\n"
   ]
  },
  {
   "cell_type": "code",
   "execution_count": 30,
   "metadata": {},
   "outputs": [],
   "source": [
    "def collect_nei(str_current, len_encoding):\n",
    "    nei_current = list()\n",
    "    for i in range(len_encoding):\n",
    "        nei_i = str_current.copy()\n",
    "        if str_current[i] == 0:\n",
    "            nei_i[i] = 1\n",
    "        else: \n",
    "            nei_i[i] = 0\n",
    "        nei_current.append(nei_i)\n",
    "    return nei_current    "
   ]
  },
  {
   "cell_type": "code",
   "execution_count": 31,
   "metadata": {},
   "outputs": [],
   "source": [
    "all_models = nasbench_res[indices]\n",
    "current_for_test = all_models.loc[1]\n",
    "list_nei_test = collect_nei(current_for_test, len_encoding=len_encoding)\n",
    "\n",
    "assert sum([hamming_distance(current_for_test, item) for item in list_nei_test])/len(list_nei_test) == 1"
   ]
  },
  {
   "cell_type": "code",
   "execution_count": 32,
   "metadata": {},
   "outputs": [],
   "source": [
    "list_val = list(list_nei_test[0])"
   ]
  },
  {
   "cell_type": "code",
   "execution_count": 33,
   "metadata": {},
   "outputs": [],
   "source": [
    "def get_solution_by_value(reference, keys, dataset):\n",
    "    result = dataset.copy()    \n",
    "    for i in range(len(keys)):\n",
    "        result = result.loc[result[keys[i]] == reference[keys[i]]]\n",
    "    return result"
   ]
  },
  {
   "cell_type": "code",
   "execution_count": null,
   "metadata": {},
   "outputs": [],
   "source": []
  },
  {
   "cell_type": "code",
   "execution_count": 34,
   "metadata": {},
   "outputs": [],
   "source": [
    "def get_value_by_distance(reference, keys, dataset):\n",
    "    result = dataset.copy()\n",
    "    \n",
    "    result = result.eq(reference[keys])[keys].all(1) #get_solution_by_value(item_cmp, indices, nasbench_res)\n",
    "    result = result[result]\n",
    "    return result"
   ]
  },
  {
   "cell_type": "code",
   "execution_count": 35,
   "metadata": {},
   "outputs": [
    {
     "data": {
      "text/plain": [
       "0.935941219329834"
      ]
     },
     "execution_count": 35,
     "metadata": {},
     "output_type": "execute_result"
    }
   ],
   "source": [
    "item_cmp = nasbench_res.iloc[80]\n",
    "\n",
    "time_begin = time.time()\n",
    "\n",
    "r = get_solution_by_value(item_cmp, indices, nasbench_res)\n",
    "\n",
    "time_end = time.time()\n",
    "duration = time_end- time_begin\n",
    "\n",
    "assert r.index.values[0] == item_cmp.name \n",
    "duration"
   ]
  },
  {
   "cell_type": "code",
   "execution_count": null,
   "metadata": {},
   "outputs": [],
   "source": []
  },
  {
   "cell_type": "code",
   "execution_count": 36,
   "metadata": {},
   "outputs": [
    {
     "data": {
      "text/plain": [
       "0.7936875820159912"
      ]
     },
     "execution_count": 36,
     "metadata": {},
     "output_type": "execute_result"
    }
   ],
   "source": [
    "item_cmp = nasbench_res.iloc[80]\n",
    "\n",
    "time_begin = time.time()\n",
    "\n",
    "r = get_value_by_distance(item_cmp, indices, nasbench_res)\n",
    "\n",
    "time_end = time.time()\n",
    "duration = time_end- time_begin\n",
    "\n",
    "assert r.index.values[0] == item_cmp.name \n",
    "duration"
   ]
  },
  {
   "cell_type": "code",
   "execution_count": 37,
   "metadata": {},
   "outputs": [],
   "source": [
    "def get_solution_by_value_multiple(references, keys, dataset):\n",
    "    \n",
    "    list_refs = references.copy()\n",
    "    len_res = len(list_refs)\n",
    "    list_indices = list()\n",
    "    list_results = list()\n",
    "    \n",
    "    for _ in range(len_res):\n",
    "        list_results.append(dataset.copy())\n",
    "    \n",
    "    for i in range(len(keys)):\n",
    "        for idx_res in range(len_res):\n",
    "            result_i = list_results[idx_res]\n",
    "            result_i = result_i.loc[result_i[keys[i]] == list_refs[idx_res][keys[i]]]\n",
    "            list_results[idx_res] = result_i\n",
    "    return list_results"
   ]
  },
  {
   "cell_type": "code",
   "execution_count": null,
   "metadata": {},
   "outputs": [],
   "source": []
  },
  {
   "cell_type": "code",
   "execution_count": 38,
   "metadata": {},
   "outputs": [
    {
     "data": {
      "text/plain": [
       "[    X1  X2  X3  X4  X5  X6  X7  X8  X9  X10  ...  validation_acc.12  \\\n",
       " 80   0   1   0   0   0   0   0   0   1    0  ...           0.172776   \n",
       " \n",
       "     test_acc.12  training_time.36  train_acc.36  validation_acc.36  \\\n",
       " 80     0.171842        419.930664      0.889323           0.816907   \n",
       " \n",
       "     test_acc.36  training_time.108  train_acc.108  validation_acc.108  \\\n",
       " 80     0.808126        1248.145671            1.0            0.913261   \n",
       " \n",
       "     test_acc.108  \n",
       " 80      0.908954  \n",
       " \n",
       " [1 rows x 306 columns]]"
      ]
     },
     "execution_count": 38,
     "metadata": {},
     "output_type": "execute_result"
    }
   ],
   "source": [
    "get_solution_by_value_multiple([item_cmp], indices, nasbench_res)"
   ]
  },
  {
   "cell_type": "code",
   "execution_count": 39,
   "metadata": {},
   "outputs": [],
   "source": [
    "item_cmp_0 = nasbench_res.iloc[80]\n",
    "item_cmp_1 = nasbench_res.iloc[11]\n",
    "r = get_solution_by_value_multiple([item_cmp_0, item_cmp_1], indices, nasbench_res)\n",
    "assert r[0].index.values[0] == item_cmp_0.name\n",
    "assert r[1].index.values[0] == item_cmp_1.name"
   ]
  },
  {
   "cell_type": "code",
   "execution_count": 40,
   "metadata": {},
   "outputs": [
    {
     "data": {
      "text/html": [
       "<div>\n",
       "<style scoped>\n",
       "    .dataframe tbody tr th:only-of-type {\n",
       "        vertical-align: middle;\n",
       "    }\n",
       "\n",
       "    .dataframe tbody tr th {\n",
       "        vertical-align: top;\n",
       "    }\n",
       "\n",
       "    .dataframe thead th {\n",
       "        text-align: right;\n",
       "    }\n",
       "</style>\n",
       "<table border=\"1\" class=\"dataframe\">\n",
       "  <thead>\n",
       "    <tr style=\"text-align: right;\">\n",
       "      <th></th>\n",
       "      <th>X1</th>\n",
       "      <th>X2</th>\n",
       "      <th>X3</th>\n",
       "      <th>X4</th>\n",
       "      <th>X5</th>\n",
       "      <th>X6</th>\n",
       "      <th>X7</th>\n",
       "      <th>X8</th>\n",
       "      <th>X9</th>\n",
       "      <th>X10</th>\n",
       "      <th>...</th>\n",
       "      <th>validation_acc.12</th>\n",
       "      <th>test_acc.12</th>\n",
       "      <th>training_time.36</th>\n",
       "      <th>train_acc.36</th>\n",
       "      <th>validation_acc.36</th>\n",
       "      <th>test_acc.36</th>\n",
       "      <th>training_time.108</th>\n",
       "      <th>train_acc.108</th>\n",
       "      <th>validation_acc.108</th>\n",
       "      <th>test_acc.108</th>\n",
       "    </tr>\n",
       "  </thead>\n",
       "  <tbody>\n",
       "    <tr>\n",
       "      <th>11</th>\n",
       "      <td>0</td>\n",
       "      <td>0</td>\n",
       "      <td>1</td>\n",
       "      <td>0</td>\n",
       "      <td>0</td>\n",
       "      <td>0</td>\n",
       "      <td>1</td>\n",
       "      <td>0</td>\n",
       "      <td>0</td>\n",
       "      <td>0</td>\n",
       "      <td>...</td>\n",
       "      <td>0.629107</td>\n",
       "      <td>0.625601</td>\n",
       "      <td>161.940328</td>\n",
       "      <td>0.98965</td>\n",
       "      <td>0.903779</td>\n",
       "      <td>0.899506</td>\n",
       "      <td>465.416341</td>\n",
       "      <td>0.999967</td>\n",
       "      <td>0.925314</td>\n",
       "      <td>0.920606</td>\n",
       "    </tr>\n",
       "  </tbody>\n",
       "</table>\n",
       "<p>1 rows × 306 columns</p>\n",
       "</div>"
      ],
      "text/plain": [
       "    X1  X2  X3  X4  X5  X6  X7  X8  X9  X10  ...  validation_acc.12  \\\n",
       "11   0   0   1   0   0   0   1   0   0    0  ...           0.629107   \n",
       "\n",
       "    test_acc.12  training_time.36  train_acc.36  validation_acc.36  \\\n",
       "11     0.625601        161.940328       0.98965           0.903779   \n",
       "\n",
       "    test_acc.36  training_time.108  train_acc.108  validation_acc.108  \\\n",
       "11     0.899506         465.416341       0.999967            0.925314   \n",
       "\n",
       "    test_acc.108  \n",
       "11      0.920606  \n",
       "\n",
       "[1 rows x 306 columns]"
      ]
     },
     "execution_count": 40,
     "metadata": {},
     "output_type": "execute_result"
    }
   ],
   "source": [
    "r[1]"
   ]
  },
  {
   "cell_type": "markdown",
   "metadata": {},
   "source": [
    "# Local Search"
   ]
  },
  {
   "cell_type": "code",
   "execution_count": 41,
   "metadata": {},
   "outputs": [],
   "source": [
    "def best_improvement_local_search(dataset_local, stating_point_index=88, N_max_iteration=100, muted=False):\n",
    "    \n",
    "    # Init starting point and counters\n",
    "    current_m_idx = stating_point_index\n",
    "    previous_m_idx = -1000 \n",
    "\n",
    "    cpt = 0\n",
    "    N_iter = N_max_iteration\n",
    "\n",
    "    # Iterate for a given Budget of candidates\n",
    "    while cpt < N_iter:\n",
    "\n",
    "        # Storing previous candidate\n",
    "        if previous_m_idx != current_m_idx:\n",
    "            current_m_idx\n",
    "\n",
    "        # Collect data of the current candidate    \n",
    "        current_data =  dataset_local.loc[current_m_idx]\n",
    "        current_perfs_36e = current_data['test_acc.36']\n",
    "\n",
    "        #Collect neibors of the current model\n",
    "        nei = collect_nei(current_data[indices], len_encoding=len(indices))\n",
    "\n",
    "        best_item = None\n",
    "        if not muted:\n",
    "            print('Current idx, ',current_data.name, ', Current_perfs: ', current_perfs_36e, \n",
    "                  ', Past idx: ', previous_m_idx, '\\n')\n",
    "\n",
    "        best_index = current_m_idx\n",
    "        best_perfs_36 = current_perfs_36e\n",
    "\n",
    "\n",
    "        #For all neibors\n",
    "        for idx, i_nei in enumerate(nei):\n",
    "            \n",
    "            # identify location in dataset\n",
    "            sol = get_solution_by_value(i_nei, indices, dataset_local)\n",
    "\n",
    "            #If existing, i.e valid model, do...\n",
    "            if not sol.empty:\n",
    "\n",
    "                # if many candidate with same binary, chose first\n",
    "                idx_confusion = 0\n",
    "                sol_i = sol.iloc[idx_confusion]\n",
    "\n",
    "                # Update the index to neibor of better performance (Hill Climbing / Ascent)\n",
    "                nei_i_perfs_36e = sol_i['test_acc.36']\n",
    "\n",
    "                if nei_i_perfs_36e > best_perfs_36:\n",
    "\n",
    "                    best_index = sol_i.name\n",
    "                    best_perfs_36 = nei_i_perfs_36e\n",
    "\n",
    "                    if not muted:\n",
    "                        print(idx, sol.shape, nei_i_perfs_36e, sol_i.name)\n",
    "\n",
    "        if best_index != current_m_idx and best_perfs_36 != current_perfs_36e:\n",
    "            previous_m_idx = current_m_idx\n",
    "            current_m_idx = best_index\n",
    "            cpt += 1 \n",
    "        else:\n",
    "            if not muted:\n",
    "                print('Step: ', cpt, ' - No improvment !\\n')\n",
    "            break;\n",
    "    return current_m_idx, current_perfs_36e, cpt\n",
    "               "
   ]
  },
  {
   "cell_type": "code",
   "execution_count": null,
   "metadata": {},
   "outputs": [],
   "source": []
  },
  {
   "cell_type": "code",
   "execution_count": 42,
   "metadata": {},
   "outputs": [],
   "source": [
    "#l_maxima, l_maxima_perfs, _ = best_improvement_local_search(dataset_local=nasbench_res, stating_point_index=88, N_max_iteration=100)"
   ]
  },
  {
   "cell_type": "code",
   "execution_count": 43,
   "metadata": {},
   "outputs": [],
   "source": [
    "#l_maxima, l_maxima_perfs, cpt_i = best_improvement_local_search(dataset_local=nasbench_res, stating_point_index=166665, N_max_iteration=100, muted=True)"
   ]
  },
  {
   "cell_type": "code",
   "execution_count": 44,
   "metadata": {},
   "outputs": [],
   "source": [
    "#l_maxima, l_maxima_perfs, cpt_i"
   ]
  },
  {
   "cell_type": "code",
   "execution_count": 45,
   "metadata": {},
   "outputs": [],
   "source": [
    "#Current idx,  95782 , Current_perfs:  0.9184695482254028 , Past idx:  1001 -steps 6\n",
    "#Current idx,  44088 , Current_perfs:  0.9150641163190206 , Past idx:  2000  - steps 7 \n",
    "#Current idx,  196916 , Current_perfs:  0.9108907580375671 , Past idx:  99999 - step 5\n",
    "#Current idx,  166665 , Current_perfs:  0.9034121235211691 , Past idx:  166665 - step 0\n",
    "#Current idx,  17258 , Current_perfs:  0.9121928413709005 , Past idx:  7777 - step 3\n",
    "#Current idx,  300460 , Current_perfs:  0.8983707427978516 , Past idx:  88  - 2\n",
    "#"
   ]
  },
  {
   "cell_type": "code",
   "execution_count": 46,
   "metadata": {},
   "outputs": [],
   "source": [
    "def best_improvement_local_search_mp(dataset_local, stating_point_index=88, \n",
    "                                     N_max_iteration=100, muted=False, n_threads=4):\n",
    "    \n",
    "    # Init starting point and counters\n",
    "    current_m_idx = stating_point_index\n",
    "    previous_m_idx = -1000 \n",
    "\n",
    "    cpt = 0\n",
    "    N_iter = N_max_iteration\n",
    "\n",
    "    # Iterate for a given Budget of candidates\n",
    "    while cpt < N_iter:\n",
    "\n",
    "        # Storing previous candidate\n",
    "        if previous_m_idx != current_m_idx:\n",
    "            current_m_idx\n",
    "\n",
    "        # Collect data of the current candidate    \n",
    "        current_data =  dataset_local.loc[current_m_idx]\n",
    "        current_perfs_36e = current_data['test_acc.36']\n",
    "\n",
    "        #Collect neibors of the current model\n",
    "        nei = collect_nei(current_data[indices], len_encoding=len(indices))\n",
    "\n",
    "        best_item = None\n",
    "        if not muted:\n",
    "            print('Current idx, ',current_data.name, ', Current_perfs: ', current_perfs_36e, \n",
    "                  ', Past idx: ', previous_m_idx, '\\n')\n",
    "\n",
    "        best_index = current_m_idx\n",
    "        best_perfs_36 = current_perfs_36e\n",
    "        \n",
    "        with Pool(n_threads) as p:\n",
    "            solutions = p.starmap(get_solution_by_value, \n",
    "                                  [(i_nei, indices, dataset_local) for i_nei in nei])\n",
    "        \n",
    "\n",
    "        #For all neibors\n",
    "        for idx, sol in enumerate(solutions):\n",
    "            \n",
    "            # identify location in dataset\n",
    "            #sol = get_solution_by_value(i_nei, indices, dataset_local)\n",
    "\n",
    "            #If existing, i.e valid model, do...\n",
    "            if not sol.empty:\n",
    "\n",
    "                # if many candidate with same binary, chose first\n",
    "                idx_confusion = 0\n",
    "                sol_i = sol.iloc[idx_confusion]\n",
    "\n",
    "                # Update the index to neibor of better performance (Hill Climbing / Ascent)\n",
    "                nei_i_perfs_36e = sol_i['test_acc.36']\n",
    "\n",
    "                if nei_i_perfs_36e > best_perfs_36:\n",
    "\n",
    "                    best_index = sol_i.name\n",
    "                    best_perfs_36 = nei_i_perfs_36e\n",
    "\n",
    "                    if not muted:\n",
    "                        print(idx, sol.shape, nei_i_perfs_36e, sol_i.name)\n",
    "\n",
    "        if best_index != current_m_idx and best_perfs_36 != current_perfs_36e:\n",
    "            print('improvement: ', current_m_idx)\n",
    "            previous_m_idx = current_m_idx\n",
    "            current_m_idx = best_index\n",
    "            cpt += 1 \n",
    "        else:\n",
    "            if not muted:\n",
    "                print('Step: ', cpt, ' - No improvment !\\n')\n",
    "            break;\n",
    "    return current_m_idx, current_perfs_36e, cpt\n",
    "               "
   ]
  },
  {
   "cell_type": "code",
   "execution_count": 47,
   "metadata": {},
   "outputs": [],
   "source": [
    "def get_solution_by_value_perfs_idx(reference, keys, dataset):\n",
    "    result = dataset.copy()    \n",
    "    for i in range(len(keys)):\n",
    "        result = result.loc[result[keys[i]] == reference[keys[i]]]\n",
    "    \n",
    "    return_values = (-1, 0)\n",
    "    if not result.empty:\n",
    "        idx_confusion = 0\n",
    "        sol_i = result.iloc[idx_confusion]\n",
    "\n",
    "        # Update the index to neibor of better performance (Hill Climbing / Ascent)\n",
    "        nei_i_perfs_36e = sol_i['test_acc.36']\n",
    "        index = sol_i.name\n",
    "        return_values = (index, nei_i_perfs_36e)\n",
    "    \n",
    "        return return_values\n",
    "\n",
    "\n",
    "def get_solution_by_value_dict(reference, keys, dataset, return_dict, id_proc):\n",
    "    result = dataset.copy()    \n",
    "    for i in range(len(keys)):\n",
    "        result = result.loc[result[keys[i]] == reference[keys[i]]]\n",
    "    \n",
    "    return_values = (-1, 0)\n",
    "    if not result.empty:\n",
    "        idx_confusion = 0\n",
    "        sol_i = result.iloc[idx_confusion]\n",
    "\n",
    "        # Update the index to neibor of better performance (Hill Climbing / Ascent)\n",
    "        nei_i_perfs_36e = sol_i['test_acc.36']\n",
    "        index = sol_i.name\n",
    "        return_values = (index, nei_i_perfs_36e)\n",
    "    \n",
    "    return_dict[id_proc] = return_values"
   ]
  },
  {
   "cell_type": "code",
   "execution_count": 48,
   "metadata": {},
   "outputs": [],
   "source": [
    "from multiprocessing import Pool\n",
    "\n",
    "def best_improvement_local_search_mp_plus(dataset_local, stating_point_index=88, \n",
    "                                     N_max_iteration=100, muted=False, n_threads=4):             \n",
    "    \n",
    "    # Init starting point and counters\n",
    "    current_m_idx = stating_point_index\n",
    "    previous_m_idx = -1000 \n",
    "\n",
    "    cpt = 0\n",
    "    N_iter = N_max_iteration\n",
    "\n",
    "    # Iterate for a given Budget of candidates\n",
    "    while cpt < N_iter:\n",
    "\n",
    "        # Storing previous candidate\n",
    "        if previous_m_idx != current_m_idx:\n",
    "            current_m_idx\n",
    "\n",
    "        # Collect data of the current candidate    \n",
    "        current_data =  dataset_local.loc[current_m_idx]\n",
    "        current_perfs_36e = current_data['test_acc.36']\n",
    "\n",
    "        #Collect neibors of the current model\n",
    "        nei = collect_nei(current_data[indices], len_encoding=len(indices))\n",
    "\n",
    "        best_item = None\n",
    "        if not muted:\n",
    "            print('Current idx, ',current_data.name, ', Current_perfs: ', current_perfs_36e, \n",
    "                  ', Past idx: ', previous_m_idx, '\\n')\n",
    "\n",
    "        best_index = current_m_idx\n",
    "        best_perfs_36 = current_perfs_36e\n",
    "        \n",
    "        with Pool(n_threads) as p:\n",
    "            solutions = p.starmap(get_solution_by_value_perfs_idx, \n",
    "                                  [(i_nei, indices, dataset_local) for i_nei in nei])\n",
    "        best_index, best_perfs_36 = max(solutions, key=lambda x:x[1])\n",
    "        \n",
    "        \n",
    "        \n",
    "        #import ipdb; ipdb.set_trace()\n",
    "        if best_index != current_m_idx and best_perfs_36 > current_perfs_36e:\n",
    "            previous_m_idx = current_m_idx\n",
    "            current_m_idx = best_index\n",
    "            cpt += 1 \n",
    "            print('improvement: ', current_m_idx)\n",
    "        else:\n",
    "            if not muted:\n",
    "                print('Step: ', cpt, ' - No improvment !\\n')\n",
    "            break;\n",
    "    return current_m_idx, current_perfs_36e, cpt"
   ]
  },
  {
   "cell_type": "code",
   "execution_count": null,
   "metadata": {},
   "outputs": [],
   "source": []
  },
  {
   "cell_type": "code",
   "execution_count": 49,
   "metadata": {},
   "outputs": [],
   "source": [
    "s_point_0 = 2000"
   ]
  },
  {
   "cell_type": "code",
   "execution_count": 50,
   "metadata": {},
   "outputs": [
    {
     "name": "stdout",
     "output_type": "stream",
     "text": [
      "Current idx,  2000 , Current_perfs:  0.8086605270703634 , Past idx:  -1000 \n",
      "\n"
     ]
    },
    {
     "ename": "TypeError",
     "evalue": "'NoneType' object is not subscriptable",
     "output_type": "error",
     "traceback": [
      "\u001b[0;31m---------------------------------------------------------------------------\u001b[0m",
      "\u001b[0;31mTypeError\u001b[0m                                 Traceback (most recent call last)",
      "\u001b[0;32m<ipython-input-50-31cfc7e053f7>\u001b[0m in \u001b[0;36m<module>\u001b[0;34m\u001b[0m\n\u001b[1;32m      4\u001b[0m                                                                 \u001b[0mstating_point_index\u001b[0m\u001b[0;34m=\u001b[0m\u001b[0ms_point_0\u001b[0m\u001b[0;34m,\u001b[0m\u001b[0;34m\u001b[0m\u001b[0;34m\u001b[0m\u001b[0m\n\u001b[1;32m      5\u001b[0m                                                                 \u001b[0mN_max_iteration\u001b[0m\u001b[0;34m=\u001b[0m\u001b[0;36m100\u001b[0m\u001b[0;34m,\u001b[0m\u001b[0;34m\u001b[0m\u001b[0;34m\u001b[0m\u001b[0m\n\u001b[0;32m----> 6\u001b[0;31m                                                                 muted=False, n_threads=4)\n\u001b[0m\u001b[1;32m      7\u001b[0m \u001b[0;34m\u001b[0m\u001b[0m\n\u001b[1;32m      8\u001b[0m \u001b[0mtime_end\u001b[0m \u001b[0;34m=\u001b[0m \u001b[0mtime\u001b[0m\u001b[0;34m.\u001b[0m\u001b[0mtime\u001b[0m\u001b[0;34m(\u001b[0m\u001b[0;34m)\u001b[0m\u001b[0;34m\u001b[0m\u001b[0;34m\u001b[0m\u001b[0m\n",
      "\u001b[0;32m<ipython-input-48-c880da5b119e>\u001b[0m in \u001b[0;36mbest_improvement_local_search_mp_plus\u001b[0;34m(dataset_local, stating_point_index, N_max_iteration, muted, n_threads)\u001b[0m\n\u001b[1;32m     50\u001b[0m         \u001b[0;31m#solutions = solutions.values()\u001b[0m\u001b[0;34m\u001b[0m\u001b[0;34m\u001b[0m\u001b[0;34m\u001b[0m\u001b[0m\n\u001b[1;32m     51\u001b[0m         \u001b[0;31m#print(solutions)\u001b[0m\u001b[0;34m\u001b[0m\u001b[0;34m\u001b[0m\u001b[0;34m\u001b[0m\u001b[0m\n\u001b[0;32m---> 52\u001b[0;31m         \u001b[0mbest_index\u001b[0m\u001b[0;34m,\u001b[0m \u001b[0mbest_perfs_36\u001b[0m \u001b[0;34m=\u001b[0m \u001b[0mmax\u001b[0m\u001b[0;34m(\u001b[0m\u001b[0msolutions\u001b[0m\u001b[0;34m,\u001b[0m \u001b[0mkey\u001b[0m\u001b[0;34m=\u001b[0m\u001b[0;32mlambda\u001b[0m \u001b[0mx\u001b[0m\u001b[0;34m:\u001b[0m\u001b[0mx\u001b[0m\u001b[0;34m[\u001b[0m\u001b[0;36m1\u001b[0m\u001b[0;34m]\u001b[0m\u001b[0;34m)\u001b[0m\u001b[0;34m\u001b[0m\u001b[0;34m\u001b[0m\u001b[0m\n\u001b[0m\u001b[1;32m     53\u001b[0m \u001b[0;34m\u001b[0m\u001b[0m\n\u001b[1;32m     54\u001b[0m \u001b[0;34m\u001b[0m\u001b[0m\n",
      "\u001b[0;32m<ipython-input-48-c880da5b119e>\u001b[0m in \u001b[0;36m<lambda>\u001b[0;34m(x)\u001b[0m\n\u001b[1;32m     50\u001b[0m         \u001b[0;31m#solutions = solutions.values()\u001b[0m\u001b[0;34m\u001b[0m\u001b[0;34m\u001b[0m\u001b[0;34m\u001b[0m\u001b[0m\n\u001b[1;32m     51\u001b[0m         \u001b[0;31m#print(solutions)\u001b[0m\u001b[0;34m\u001b[0m\u001b[0;34m\u001b[0m\u001b[0;34m\u001b[0m\u001b[0m\n\u001b[0;32m---> 52\u001b[0;31m         \u001b[0mbest_index\u001b[0m\u001b[0;34m,\u001b[0m \u001b[0mbest_perfs_36\u001b[0m \u001b[0;34m=\u001b[0m \u001b[0mmax\u001b[0m\u001b[0;34m(\u001b[0m\u001b[0msolutions\u001b[0m\u001b[0;34m,\u001b[0m \u001b[0mkey\u001b[0m\u001b[0;34m=\u001b[0m\u001b[0;32mlambda\u001b[0m \u001b[0mx\u001b[0m\u001b[0;34m:\u001b[0m\u001b[0mx\u001b[0m\u001b[0;34m[\u001b[0m\u001b[0;36m1\u001b[0m\u001b[0;34m]\u001b[0m\u001b[0;34m)\u001b[0m\u001b[0;34m\u001b[0m\u001b[0;34m\u001b[0m\u001b[0m\n\u001b[0m\u001b[1;32m     53\u001b[0m \u001b[0;34m\u001b[0m\u001b[0m\n\u001b[1;32m     54\u001b[0m \u001b[0;34m\u001b[0m\u001b[0m\n",
      "\u001b[0;31mTypeError\u001b[0m: 'NoneType' object is not subscriptable"
     ]
    }
   ],
   "source": [
    "time_begin = time.time()\n",
    "\n",
    "l_maxima, l_maxima_perfs, cpt_i = best_improvement_local_search_mp_plus(dataset_local=nasbench_res, \n",
    "                                                                stating_point_index=s_point_0, \n",
    "                                                                N_max_iteration=100, \n",
    "                                                                muted=False, n_threads=4)\n",
    "\n",
    "time_end = time.time()\n",
    "duration = time_end- time_begin\n",
    "\n",
    "duration, l_maxima, l_maxima_perfs, cpt_i"
   ]
  },
  {
   "cell_type": "code",
   "execution_count": 51,
   "metadata": {},
   "outputs": [
    {
     "name": "stdout",
     "output_type": "stream",
     "text": [
      "Current idx,  2000 , Current_perfs:  0.8086605270703634 , Past idx:  -1000 \n",
      "\n",
      "114 (1, 306) 0.8255208333333334 6656\n",
      "131 (1, 306) 0.8442174196243286 375112\n",
      "Current idx,  375112 , Current_perfs:  0.8442174196243286 , Past idx:  2000 \n",
      "\n",
      "6 (1, 306) 0.8667534589767456 34235\n",
      "8 (1, 306) 0.8784388303756714 61157\n",
      "16 (1, 306) 0.8787393172581991 139108\n",
      "Current idx,  139108 , Current_perfs:  0.8787393172581991 , Past idx:  375112 \n",
      "\n",
      "Step:  2  - No improvment !\n",
      "\n"
     ]
    },
    {
     "data": {
      "text/plain": [
       "(576.6085109710693, 139108, 0.8787393172581991, 2)"
      ]
     },
     "execution_count": 51,
     "metadata": {},
     "output_type": "execute_result"
    }
   ],
   "source": [
    "time_begin = time.time()\n",
    "\n",
    "l_maxima, l_maxima_perfs, cpt_i = best_improvement_local_search_mp(dataset_local=nasbench_res, \n",
    "                                                                stating_point_index=s_point_0, \n",
    "                                                                N_max_iteration=100, \n",
    "                                                                muted=False, n_threads=4)\n",
    "\n",
    "time_end = time.time()\n",
    "duration = time_end- time_begin\n",
    "\n",
    "duration, l_maxima, l_maxima_perfs, cpt_i"
   ]
  },
  {
   "cell_type": "code",
   "execution_count": null,
   "metadata": {},
   "outputs": [],
   "source": []
  },
  {
   "cell_type": "code",
   "execution_count": 52,
   "metadata": {},
   "outputs": [
    {
     "name": "stdout",
     "output_type": "stream",
     "text": [
      "Current idx,  2000 , Current_perfs:  0.8086605270703634 , Past idx:  -1000 \n",
      "\n",
      "114 (1, 306) 0.8255208333333334 6656\n",
      "131 (1, 306) 0.8442174196243286 375112\n",
      "Current idx,  375112 , Current_perfs:  0.8442174196243286 , Past idx:  2000 \n",
      "\n",
      "6 (1, 306) 0.8667534589767456 34235\n",
      "8 (1, 306) 0.8784388303756714 61157\n",
      "16 (1, 306) 0.8787393172581991 139108\n",
      "Current idx,  139108 , Current_perfs:  0.8787393172581991 , Past idx:  375112 \n",
      "\n",
      "Step:  2  - No improvment !\n",
      "\n"
     ]
    },
    {
     "data": {
      "text/plain": [
       "(2061.3808331489563, 139108, 0.8787393172581991, 2)"
      ]
     },
     "execution_count": 52,
     "metadata": {},
     "output_type": "execute_result"
    }
   ],
   "source": [
    "time_begin = time.time()\n",
    "\n",
    "l_maxima, l_maxima_perfs, cpt_i = best_improvement_local_search(dataset_local=nasbench_res, \n",
    "                                                                stating_point_index=s_point_0, \n",
    "                                                                N_max_iteration=100, \n",
    "                                                                muted=False)\n",
    "\n",
    "time_end = time.time()\n",
    "duration = time_end- time_begin\n",
    "\n",
    "duration, l_maxima, l_maxima_perfs, cpt_i"
   ]
  },
  {
   "cell_type": "code",
   "execution_count": null,
   "metadata": {},
   "outputs": [],
   "source": [
    "import random\n",
    "\n",
    "def repeat_bils(dataset_local, k_starting_points=100, N_max_iteration=100, muted=False, seed=111):\n",
    "    \n",
    "    random.seed(seed)\n",
    "    \n",
    "    list_starting_points = list()\n",
    "    list_ending_points = list()\n",
    "    len_dataset = dataset_local.shape[0]\n",
    "    \n",
    "    # Sample k distinct starting points\n",
    "    while len(list_starting_points) < k_starting_points:\n",
    "        point = random.randint(1, len_dataset) \n",
    "        if point not in list_starting_points:\n",
    "            list_starting_points.append(point)\n",
    "\n",
    "    print('Repeating best imprving local search - k times: ', k_starting_points, '\\n')\n",
    "    \n",
    "    # Collect k local maxima via local search\n",
    "    for s_point_i in list_starting_points:        \n",
    "        local_optima_i, perfs_i, steps_i = best_improvement_local_search(dataset_local=dataset_local, \n",
    "                                      stating_point_index=s_point_i, \n",
    "                                      N_max_iteration=N_max_iteration, \n",
    "                                      muted=muted)\n",
    "        list_ending_points.append((local_optima_i, perfs_i, s_point_i, steps_i))\n",
    "        \n",
    "        print('\\nOptima, perf_test_36e, Starting_point, steps:', local_optima_i, perfs_i, s_point_i, steps_i, '\\n\\n')\n",
    "    \n",
    "    return list_ending_points\n",
    "        \n",
    "    \n",
    "    "
   ]
  },
  {
   "cell_type": "code",
   "execution_count": null,
   "metadata": {},
   "outputs": [],
   "source": [
    "import multiprocessing as mp\n",
    "from multiprocessing import Pool\n",
    "\n",
    "import random\n",
    "\n",
    "def repeat_bils_mp(dataset_local, k_starting_points=100, N_max_iteration=100, muted=False, \n",
    "                   seed=111, n_threads=4):\n",
    "    \n",
    "    random.seed(seed)\n",
    "    \n",
    "    list_starting_points = list()\n",
    "    list_ending_points = list()\n",
    "    len_dataset = dataset_local.shape[0]\n",
    "    \n",
    "    # Sample k distinct starting points\n",
    "    while len(list_starting_points) < k_starting_points:\n",
    "        point = random.randint(1, len_dataset) \n",
    "        if point not in list_starting_points:\n",
    "            list_starting_points.append(point)\n",
    "\n",
    "    print('Repeating best imprving local search - k times: ', k_starting_points, '\\n')\n",
    "    \n",
    "    \n",
    "    with Pool(n_threads) as p:\n",
    "        list_ending_points = p.starmap(best_improvement_local_search, \n",
    "                             [(dataset_local, s_point_i, N_max_iteration, muted) for s_point_i in list_starting_points])\n",
    "\n",
    "    \n",
    "           \n",
    "    #    print('\\nOptima, perf_test_36e, Starting_point, steps:', local_optima_i, perfs_i, s_point_i, steps_i, '\\n\\n')\n",
    "    \n",
    "    return list_ending_points\n"
   ]
  },
  {
   "cell_type": "code",
   "execution_count": null,
   "metadata": {},
   "outputs": [],
   "source": [
    "import random\n",
    "\n",
    "def repeat_bils_mp_intra(dataset_local, k_starting_points=100, N_max_iteration=100, \n",
    "                         muted=False, seed=111, n_threads=4):\n",
    "    \n",
    "    random.seed(seed)\n",
    "    \n",
    "    list_starting_points = list()\n",
    "    list_ending_points = list()\n",
    "    len_dataset = dataset_local.shape[0]\n",
    "    \n",
    "    # Sample k distinct starting points\n",
    "    while len(list_starting_points) < k_starting_points:\n",
    "        point = random.randint(1, len_dataset) \n",
    "        if point not in list_starting_points:\n",
    "            list_starting_points.append(point)\n",
    "\n",
    "    print('Repeating best imprving local search - k times: ', k_starting_points, '\\n')\n",
    "    \n",
    "    # Collect k local maxima via local search\n",
    "    for s_point_i in list_starting_points:        \n",
    "        local_optima_i, perfs_i, steps_i = best_improvement_local_search_mp(dataset_local=dataset_local, \n",
    "                                      stating_point_index=s_point_i, \n",
    "                                      N_max_iteration=N_max_iteration, \n",
    "                                      muted=muted, n_threads=n_threads)\n",
    "        list_ending_points.append((local_optima_i, perfs_i, s_point_i, steps_i))\n",
    "        \n",
    "        print('\\nOptima, perf_test_36e, Starting_point, steps:', local_optima_i, perfs_i, s_point_i, steps_i, '\\n\\n')\n",
    "    \n",
    "    return list_ending_points\n",
    "        \n",
    "    \n",
    "    "
   ]
  },
  {
   "cell_type": "code",
   "execution_count": null,
   "metadata": {},
   "outputs": [],
   "source": [
    "import random\n",
    "from multiprocessing.pool import ThreadPool \n",
    "\n",
    "def repeat_bils_mp_intra_plus(dataset_local, k_starting_points=100, N_max_iteration=100, \n",
    "                         muted=False, seed=111, n_threads=4):\n",
    "    \n",
    "    random.seed(seed)\n",
    "    \n",
    "    list_starting_points = list()\n",
    "    list_ending_points = list()\n",
    "    len_dataset = dataset_local.shape[0]\n",
    "    \n",
    "    # Sample k distinct starting points\n",
    "    while len(list_starting_points) < k_starting_points:\n",
    "        point = random.randint(1, len_dataset) \n",
    "        if point not in list_starting_points:\n",
    "            list_starting_points.append(point)\n",
    "\n",
    "    print('Repeating best imprving local search - k times: ', k_starting_points, '\\n')\n",
    "    \n",
    "    # Collect k local maxima via local search\n",
    "    with ThreadPool(n_threads) as p:\n",
    "        list_ending_points = p.starmap(best_improvement_local_search_mp, \n",
    "                             [(dataset_local, s_point_i, N_max_iteration, muted, n_threads) for s_point_i in list_starting_points])\n",
    "    \n",
    "    return list_ending_points"
   ]
  },
  {
   "cell_type": "code",
   "execution_count": null,
   "metadata": {},
   "outputs": [],
   "source": [
    "time_begin = time.time()\n",
    "\n",
    "list_stats = repeat_bils(nasbench_res, k_starting_points=4, muted=True)\n",
    "\n",
    "time_end = time.time()\n",
    "duration = time_end- time_begin"
   ]
  },
  {
   "cell_type": "code",
   "execution_count": null,
   "metadata": {},
   "outputs": [],
   "source": [
    "duration, list_stats"
   ]
  },
  {
   "cell_type": "code",
   "execution_count": null,
   "metadata": {},
   "outputs": [],
   "source": [
    "time_begin = time.time()\n",
    "\n",
    "list_stats = repeat_bils_mp(nasbench_res, k_starting_points=4, muted=True)\n",
    "\n",
    "time_end = time.time()\n",
    "duration = time_end- time_begin"
   ]
  },
  {
   "cell_type": "code",
   "execution_count": null,
   "metadata": {},
   "outputs": [],
   "source": [
    "duration, list_stats"
   ]
  },
  {
   "cell_type": "code",
   "execution_count": null,
   "metadata": {},
   "outputs": [],
   "source": [
    "time_begin = time.time()\n",
    "\n",
    "list_stats = repeat_bils_mp_intra(nasbench_res, k_starting_points=4, muted=True)\n",
    "\n",
    "time_end = time.time()\n",
    "duration = time_end- time_begin"
   ]
  },
  {
   "cell_type": "code",
   "execution_count": null,
   "metadata": {},
   "outputs": [],
   "source": [
    "#375.8246340751648,\n",
    "# [(111550, 0.9137954115867615, 111550, 0),\n",
    "#  (100358, 0.8712940812110901, 165662, 3),\n",
    "#  (209148, 0.9207398692766825, 258957, 3),\n",
    "#  (25795, 0.9121928413709005, 101822, 4)])\n",
    "\n"
   ]
  },
  {
   "cell_type": "code",
   "execution_count": null,
   "metadata": {},
   "outputs": [],
   "source": [
    "time_begin = time.time()\n",
    "\n",
    "list_stats = repeat_bils_mp_intra(nasbench_res, k_starting_points=100, muted=True)\n",
    "\n",
    "time_end = time.time()\n",
    "duration = time_end- time_begin"
   ]
  },
  {
   "cell_type": "code",
   "execution_count": null,
   "metadata": {},
   "outputs": [],
   "source": [
    "duration, list_stats"
   ]
  },
  {
   "cell_type": "code",
   "execution_count": null,
   "metadata": {},
   "outputs": [],
   "source": [
    "time_begin = time.time()\n",
    "\n",
    "list_stats = repeat_bils_mp_intra_plus(nasbench_res, k_starting_points=4, muted=True)\n",
    "\n",
    "time_end = time.time()\n",
    "duration = time_end- time_begin"
   ]
  },
  {
   "cell_type": "code",
   "execution_count": null,
   "metadata": {},
   "outputs": [],
   "source": [
    "all_local_minima = [95782, 44088, 196916, 166665, 17258, 300460]\n",
    "all_encodings = [str(list(nasbench_res.loc[l_i][indices])) for l_i in all_local_minima]\n",
    "for l_i in all_encodings:\n",
    "    for l_j in all_encodings:\n",
    "        if l_i == l_j:\n",
    "            print('duplicate !\\n')\n",
    "\n",
    "len(set(all_encodings)), len(all_encodings)"
   ]
  },
  {
   "cell_type": "code",
   "execution_count": null,
   "metadata": {},
   "outputs": [],
   "source": [
    "s = list()\n",
    "for l_i in all_encodings:\n",
    "    s.append(hash(l_i))"
   ]
  },
  {
   "cell_type": "markdown",
   "metadata": {},
   "source": [
    "# Collect Optima via Local Search"
   ]
  },
  {
   "cell_type": "markdown",
   "metadata": {},
   "source": [
    "## Results from the server: 15 seeds of 100 Random-Restart LS "
   ]
  },
  {
   "cell_type": "code",
   "execution_count": null,
   "metadata": {},
   "outputs": [],
   "source": [
    "import glob2\n",
    "import json"
   ]
  },
  {
   "cell_type": "code",
   "execution_count": null,
   "metadata": {},
   "outputs": [],
   "source": [
    "\n",
    "result_files = glob2.glob('card_optima/seed_*_points.txt')"
   ]
  },
  {
   "cell_type": "code",
   "execution_count": null,
   "metadata": {},
   "outputs": [],
   "source": [
    "result_files"
   ]
  },
  {
   "cell_type": "code",
   "execution_count": null,
   "metadata": {},
   "outputs": [],
   "source": [
    "results_per_seed = list()\n",
    "\n",
    "for file_i in result_files:\n",
    "    with open(file_i, 'rb') as filehandle:\n",
    "        # read the data as bina|ry data stream\n",
    "        res_i = json.load(filehandle)\n",
    "        results_per_seed.append(res_i)"
   ]
  },
  {
   "cell_type": "code",
   "execution_count": null,
   "metadata": {},
   "outputs": [],
   "source": [
    "def card_optima(K_until_repeat, P_D=0.5):\n",
    "\n",
    "    N_numer = K_until_repeat ** 2\n",
    "    N_denom = -2 * np.log(1 - P_D) \n",
    "    return int(N_numer/ N_denom)"
   ]
  },
  {
   "cell_type": "code",
   "execution_count": null,
   "metadata": {},
   "outputs": [],
   "source": [
    "card_optima(22)"
   ]
  },
  {
   "cell_type": "code",
   "execution_count": null,
   "metadata": {},
   "outputs": [],
   "source": [
    "offset_zero_indexing = 1\n",
    "\n",
    "avg_first_index = list()\n",
    "\n",
    "\n",
    "for r_i in results_per_seed:\n",
    "    seed_i, duration_i, stats = r_i\n",
    "    \n",
    "    list_ending_points = [s_[0] for s_ in stats]\n",
    "    list_starting_points = [s_[3] for s_ in stats]\n",
    "    \n",
    "    list_steps = [s_[2] + offset_zero_indexing  for s_ in stats]    \n",
    "    mean_steps = np.mean(list_steps)\n",
    "    std_steps = np.std(list_steps)\n",
    "    \n",
    "    list_acc_test_end = [s_[1] for s_ in stats]\n",
    "    mean_acc_test_end = np.mean(list_acc_test_end)\n",
    "    \n",
    "    list_starting_acc_test = [nasbench_res.loc[s_]['test_acc.36'] for s_ in list_starting_points]\n",
    "    mean_acc_test_start = np.mean(list_starting_acc_test)\n",
    "    \n",
    "    assert len(list_starting_points) == len(list_acc_test_end)\n",
    "    len_item = len(list_starting_points)\n",
    "    \n",
    "    list_improvement = [list_acc_test_end[item_j] - list_starting_acc_test[item_j] for item_j in range(len_item)]\n",
    "    mean_acc_test_diff = np.mean(list_improvement)\n",
    "    mean_acc_test_diff = mean_acc_test_diff * 100\n",
    "    \n",
    "    #print(list_starting_acc_test)\n",
    "    distinct_starting = len(set(list_starting_points))\n",
    "    distinct_ending = len(set(list_ending_points))\n",
    "    \n",
    "    \n",
    "    all_models = list()\n",
    "    idx_first_repeat = None\n",
    "    for i, e in enumerate(list_ending_points):\n",
    "        if e in all_models:\n",
    "            idx_first_repeat = i + offset_zero_indexing\n",
    "            break;\n",
    "        else: \n",
    "            all_models.append(e)\n",
    "    \n",
    "    avg_first_index.append(idx_first_repeat)\n",
    "    print(seed_i, mean_steps, mean_acc_test_diff, 100 - distinct_ending, \n",
    "          idx_first_repeat, card_optima(idx_first_repeat), '\\n')\n",
    "\n",
    "avg_first_index = np.mean(avg_first_index)\n",
    "N_avg = card_optima(avg_first_index)\n",
    "avg_first_index, N_avg"
   ]
  },
  {
   "cell_type": "code",
   "execution_count": null,
   "metadata": {},
   "outputs": [],
   "source": [
    "N_avg / nasbench_res.shape[0] * 100, nasbench_res.shape[0]"
   ]
  },
  {
   "cell_type": "markdown",
   "metadata": {},
   "source": [
    "## Getting the GroundTruth"
   ]
  },
  {
   "cell_type": "code",
   "execution_count": null,
   "metadata": {},
   "outputs": [],
   "source": [
    "Max_index = 0\n",
    "n_threads = 8\n",
    "\n",
    "is_local_optima = list()\n",
    "\n",
    "s_time = time.time()\n",
    "\n",
    "for idx_i in range(Max_index):\n",
    "    current_data = nasbench_res.loc[idx_i]\n",
    "    current_perfs_36e = current_data['test_acc.36']\n",
    "    nei = collect_nei(current_data[indices], len_encoding=len(indices))       \n",
    "        \n",
    "    with Pool(n_threads) as p:\n",
    "        solutions = p.starmap(get_solution_by_value_perfs_idx, \n",
    "                              [(i_nei, indices, nasbench_res) for i_nei in nei])\n",
    "        \n",
    "    best_index_nei, best_perfs_36_nei = max(solutions, key=lambda x:x[1])\n",
    "    \n",
    "    if current_perfs_36e > best_perfs_36_nei and best_index_nei != idx_i:\n",
    "        is_local_optima.append(idx_i)\n",
    "    \n",
    "e_time = time.time()\n",
    "\n",
    "duration = e_time - s_time\n",
    "\n",
    "duration, is_local_optima\n",
    "\n"
   ]
  },
  {
   "cell_type": "code",
   "execution_count": null,
   "metadata": {},
   "outputs": [],
   "source": [
    "Max_index = 0 #nasbench_res.shape[0]\n",
    "n_threads = 8\n",
    "\n",
    "is_local_optima = list()\n",
    "\n",
    "dict_binary_to_perfs = dict()\n",
    "\n",
    "s_time = time.time()\n",
    "\n",
    "for idx_i in range(Max_index):\n",
    "    current_data = nasbench_res.loc[idx_i]\n",
    "    current_perfs_36e = current_data['test_acc.36']\n",
    "    #nei = collect_nei(current_data[indices], len_encoding=len(indices))       \n",
    "        \n",
    "    #with Pool(n_threads) as p:\n",
    "    #    solutions = p.starmap(get_solution_by_value_perfs_idx, \n",
    "    #                          [(i_nei, indices, nasbench_res) for i_nei in nei])\n",
    "    #    \n",
    "    #best_index_nei, best_perfs_36_nei = max(solutions, key=lambda x:x[1])\n",
    "    #\n",
    "    #if current_perfs_36e > best_perfs_36_nei and best_index_nei != idx_i:\n",
    "    #    is_local_optima.append(idx_i)\n",
    "    binary_i = list(current_data[indices].values)\n",
    "    binary_i = str(binary_i)\n",
    "    test[binary_i] = current_perfs_36e\n",
    "e_time = time.time()\n",
    "\n",
    "duration = e_time - s_time\n",
    "\n",
    "duration, is_local_optima"
   ]
  },
  {
   "cell_type": "markdown",
   "metadata": {},
   "source": [
    "## Measurement on LCZ42"
   ]
  },
  {
   "cell_type": "code",
   "execution_count": 246,
   "metadata": {},
   "outputs": [],
   "source": [
    "path_to_eval_file = \"/local_home/trao_ka/projects/andres_code/nasbench/experiments/aggregated_eval_lc42_s2_d2_all_bs128_35pct_long_encoding.json\"\n",
    "with open(path_to_eval_file, 'rb') as filehandle:\n",
    "        # read the data as bina|ry data stream\n",
    "        read_data_lcz_evals = json.load(filehandle)"
   ]
  },
  {
   "cell_type": "code",
   "execution_count": 247,
   "metadata": {},
   "outputs": [
    {
     "data": {
      "text/plain": [
       "[[0, 1, 0, 0, 0, 1, 1],\n",
       " [0, 0, 1, 1, 1, 0, 1],\n",
       " [0, 0, 0, 0, 1, 0, 0],\n",
       " [0, 0, 0, 0, 1, 0, 0],\n",
       " [0, 0, 0, 0, 0, 0, 0],\n",
       " [0, 0, 0, 0, 0, 0, 0],\n",
       " [0, 0, 0, 0, 0, 0, 0]]"
      ]
     },
     "execution_count": 247,
     "metadata": {},
     "output_type": "execute_result"
    }
   ],
   "source": [
    "read_data_lcz_evals['solutions'][0]['adj_mat']"
   ]
  },
  {
   "cell_type": "code",
   "execution_count": 248,
   "metadata": {},
   "outputs": [],
   "source": [
    "lcz_evaluated_sols = read_data_lcz_evals['solutions']\n",
    "nb_solutions = len(lcz_evaluated_sols)"
   ]
  },
  {
   "cell_type": "code",
   "execution_count": 249,
   "metadata": {},
   "outputs": [
    {
     "data": {
      "text/plain": [
       "7"
      ]
     },
     "execution_count": 249,
     "metadata": {},
     "output_type": "execute_result"
    }
   ],
   "source": [
    "N_closest = 10\n",
    "training_length = 36\n",
    "loose_local_optima_lcz_36e = list()\n",
    "\n",
    "for idx_current in range(nb_solutions):\n",
    "    binary_current = lcz_evaluated_sols[idx_current]['encoded']\n",
    "    perf_current = lcz_evaluated_sols[idx_current]['fitness'][str(training_length)]['kappaCohen_test']\n",
    "    \n",
    "    closest_list = list()\n",
    "    \n",
    "    mean_dist = []\n",
    "    \n",
    "    for idx_j in range(nb_solutions):\n",
    "        if idx_current != idx_j:\n",
    "            binary_j = lcz_evaluated_sols[idx_j]['encoded']        \n",
    "            dist_curr_to_j = hamming_distance(binary_current, binary_j)\n",
    "            \n",
    "            closest_list.append((dist_curr_to_j, idx_j, \n",
    "                                 lcz_evaluated_sols[idx_j]['fitness'][str(training_length)]['kappaCohen_test']))\n",
    "            \n",
    "            #print(dist_curr_to_j)\n",
    "            #mean_dist.append(dist_curr_to_j)\n",
    "    #print(idx_current, np.min(mean_dist), np.mean(mean_dist), np.std(mean_dist), '\\n')\n",
    "    ten_closest = sorted(closest_list)[:N_closest]\n",
    "    ten_closest_perfs = [c[2] for c in ten_closest]\n",
    "    if perf_current > max(ten_closest_perfs):\n",
    "        #print('Winner')\n",
    "        loose_local_optima_lcz_36e.append((idx_current, binary_current))\n",
    "len(loose_local_optima_lcz_36e)"
   ]
  },
  {
   "cell_type": "markdown",
   "metadata": {},
   "source": [
    "## Measurement on CIFAR-10 for same sample"
   ]
  },
  {
   "cell_type": "code",
   "execution_count": 250,
   "metadata": {},
   "outputs": [],
   "source": [
    "path_to_eval_file = \"/local_home/trao_ka/projects/andres_code/nasbench/experiments/landscape_no_duplicates.json\"\n",
    "with open(path_to_eval_file, 'rb') as filehandle:\n",
    "        # read the data as bina|ry data stream\n",
    "        read_data_nb101_evals = json.load(filehandle)"
   ]
  },
  {
   "cell_type": "code",
   "execution_count": 251,
   "metadata": {},
   "outputs": [],
   "source": [
    "solutions = read_data_nb101_evals['solutions']\n",
    "card_space = len(solutions)\n",
    "\n",
    "\n",
    "dict_binary_to_perfs = dict()\n",
    "dict_binary_to_ids = dict()\n",
    "\n",
    "s_time = time.time()\n",
    "\n",
    "\n",
    "for sol_i in range(card_space):\n",
    "    #ops = rename_ops(solutions[sol_i]['ops'])\n",
    "    #binary_i = encode_matrix_fixed_long(solutions[sol_i]['adj_mat'], ops)    \n",
    "    #binary_i = list(binary_i)\n",
    "    #binary_i = str(binary_i)\n",
    "    binary = solutions[sol_i]['encoded']\n",
    "    dict_binary_to_perfs[binary_i] = solutions[sol_i]['fitness']['36']['test_acc']\n",
    "    \n",
    "    if dict_binary_to_ids.get(binary_i, -1) == -1:\n",
    "        dict_binary_to_ids[binary_i] = list()\n",
    "    dict_binary_to_ids[binary_i].append(sol_i)\n",
    "\n",
    "e_time = time.time()\n",
    "\n",
    "duration = e_time - s_time"
   ]
  },
  {
   "cell_type": "code",
   "execution_count": 252,
   "metadata": {},
   "outputs": [
    {
     "data": {
      "text/plain": [
       "(0.24302387237548828, 1, 1)"
      ]
     },
     "execution_count": 252,
     "metadata": {},
     "output_type": "execute_result"
    }
   ],
   "source": [
    "duration, len(dict_binary_to_perfs.keys()), len(dict_binary_to_perfs)"
   ]
  },
  {
   "cell_type": "code",
   "execution_count": 253,
   "metadata": {},
   "outputs": [],
   "source": [
    "dict_keys = list(dict_binary_to_perfs.keys())"
   ]
  },
  {
   "cell_type": "code",
   "execution_count": 254,
   "metadata": {},
   "outputs": [
    {
     "name": "stderr",
     "output_type": "stream",
     "text": [
      "/local_home/trao_ka/anaconda3/envs/nas_benchmarks/lib/python3.7/site-packages/ipykernel_launcher.py:20: FutureWarning: elementwise comparison failed; returning scalar instead, but in the future will perform elementwise comparison\n"
     ]
    }
   ],
   "source": [
    "N_closest = 10\n",
    "training_length = 36\n",
    "loose_local_optima_c10_36e = list()\n",
    "\n",
    "binary_to_consider = [m_i['encoded'] for m_i in lcz_evaluated_sols]\n",
    "configs_to_consider = [(m_i['adj_mat'], m_i['ops']) for m_i in lcz_evaluated_sols]\n",
    "\n",
    "assert len(binary_to_consider) ==  nb_solutions\n",
    "assert len(configs_to_consider) ==  nb_solutions\n",
    "\n",
    "\n",
    "for idx_current in range(nb_solutions):\n",
    "    m, o = configs_to_consider[idx_current][0], configs_to_consider[idx_current][1]\n",
    "    m = np.array(m).astype(int)\n",
    "    binary_current = encode_matrix_fixed_long(m, o)\n",
    "    #binary_to_consider[idx_current]\n",
    "    #print(len(binary_current))\n",
    "    str_current = list(binary_current)\n",
    "    str_current = str(str_current)\n",
    "    if binary_current in dict_keys:\n",
    "        print(idx_current)\n",
    "    #perf_current = dict_binary_to_perfs[binary_current]\n",
    "    \n",
    "    "
   ]
  },
  {
   "cell_type": "code",
   "execution_count": 255,
   "metadata": {},
   "outputs": [
    {
     "data": {
      "text/plain": [
       "'[0, 0, 0, 0, 0, 0, 0, 0, 0, 0, 0, 1, 0, 0, 1, 0, 1, 0, 0, 0, 0, 0, 0, 0, 0, 0, 0, 0, 0, 0, 1, 0, 0, 0, 0, 0, 0, 0, 0, 0, 0, 0, 0, 0, 0, 0, 0, 0, 0, 0, 0, 0, 0, 0, 0, 0, 0, 0, 0, 0, 0, 0, 0, 0, 0, 0, 0, 0, 0, 0, 0, 0, 0, 0, 0, 0, 0, 0, 0, 0, 0, 0, 0, 0, 0, 0, 0, 0, 0, 0, 0, 0, 0, 0, 0, 0, 0, 0, 0, 0, 0, 0, 0, 0, 0, 0, 0, 0, 0, 0, 0, 0, 0, 0, 0, 0, 0, 0, 0, 0, 0, 0, 0, 0, 0, 0, 0, 0, 0, 0, 0, 0, 0, 0, 0, 0, 0, 0, 0, 0, 0, 0, 0, 0, 0, 0, 0, 0, 0, 0, 0, 0, 0, 0, 0, 0, 0, 0, 0, 0, 0, 0, 0, 0, 0, 0, 0, 0, 0, 0, 0, 0, 0, 0, 0, 0, 0, 0, 0, 0, 0, 0, 0, 0, 0, 0, 0, 0, 1, 0, 0, 0, 0, 0, 0, 0, 0, 0, 0, 1, 1, 0, 0, 1, 0, 0, 0, 0, 0, 0, 0, 0, 0, 0, 0, 0, 0, 1, 0, 0, 0, 0, 0, 0, 0, 0, 0, 0, 0, 0, 0, 0, 0, 0, 0, 0, 0, 0, 0, 0, 0, 0, 0, 0, 0, 0, 0, 0, 0, 0, 0, 0, 0, 0, 0, 0, 0, 0, 0, 0, 0, 0, 0, 0, 0, 0, 0, 0, 0, 0, 0, 0, 0, 0, 0, 0, 0, 0, 0, 0, 0, 0, 0, 0, 0, 0, 0, 0, 0]'"
      ]
     },
     "execution_count": 255,
     "metadata": {},
     "output_type": "execute_result"
    }
   ],
   "source": [
    "b0 = binary_to_consider[0]\n",
    "b0 = list(b0)\n",
    "b0 = str(b0)\n",
    "len(b0), type(b0)\n",
    "b0"
   ]
  },
  {
   "cell_type": "code",
   "execution_count": 256,
   "metadata": {},
   "outputs": [
    {
     "data": {
      "text/plain": [
       "(867, str)"
      ]
     },
     "execution_count": 256,
     "metadata": {},
     "output_type": "execute_result"
    }
   ],
   "source": [
    "d0 = dict_keys[0]\n",
    "len(d0), type(d0)"
   ]
  },
  {
   "cell_type": "code",
   "execution_count": 257,
   "metadata": {},
   "outputs": [
    {
     "name": "stdout",
     "output_type": "stream",
     "text": [
      "Loading dataset from file... This may take a few minutes...\n",
      "Loaded dataset in 161 seconds\n"
     ]
    }
   ],
   "source": [
    "# Initialize the NASBench object which parses the raw data into memory (this\n",
    "# should only be run once as it takes up to a few minutes).\n",
    "from nasbench import api\n",
    "\n",
    "path_to_nasbench_data_full ='/local_home/trao_ka/data/nasbench_full.tfrecord'\n",
    "#path_to_nasbench_data_full = '/media/kalifou/SAMSUNG1/DLR_DAAD_Research_Backup/data/nasbench_full.tfrecord'\n",
    "\n",
    "# Use nasbench_full.tfrecord for full dataset (run download command above).\n",
    "nasbench_for_query = api.NASBench(path_to_nasbench_data_full)\n",
    "#('/home/kalifou/Documents/dlr/data/nasbench_full.tfrecord')"
   ]
  },
  {
   "cell_type": "code",
   "execution_count": 258,
   "metadata": {},
   "outputs": [],
   "source": [
    "\n",
    "cell = api.ModelSpec(\n",
    "      matrix= m,\n",
    "      # Operations at the vertices of the module, matches order of matrix.\n",
    "      ops= o) #[INPUT, CONV1X1, CONV3X3, CONV3X3, CONV3X3, MAXPOOL3X3, OUTPUT])\n",
    "\n",
    "data = nasbench_for_query.query(cell, epochs=training_length)"
   ]
  },
  {
   "cell_type": "code",
   "execution_count": 259,
   "metadata": {},
   "outputs": [
    {
     "data": {
      "text/plain": [
       "{'module_adjacency': array([[0, 1],\n",
       "        [0, 0]], dtype=int8),\n",
       " 'module_operations': ['input', 'output'],\n",
       " 'trainable_parameters': 882570,\n",
       " 'training_time': 97.84300231933594,\n",
       " 'train_accuracy': 0.866286039352417,\n",
       " 'validation_accuracy': 0.815504789352417,\n",
       " 'test_accuracy': 0.8053886294364929}"
      ]
     },
     "execution_count": 259,
     "metadata": {},
     "output_type": "execute_result"
    }
   ],
   "source": [
    "data"
   ]
  },
  {
   "cell_type": "code",
   "execution_count": 260,
   "metadata": {},
   "outputs": [
    {
     "name": "stdout",
     "output_type": "stream",
     "text": [
      "Winner 0.9069511294364929\n",
      "Winner 0.9172676205635071\n",
      "Winner 0.9158653616905212\n",
      "Winner 0.9153645634651184\n"
     ]
    },
    {
     "data": {
      "text/plain": [
       "4"
      ]
     },
     "execution_count": 260,
     "metadata": {},
     "output_type": "execute_result"
    }
   ],
   "source": [
    "N_closest = 10\n",
    "training_length = 36\n",
    "loose_local_optima_c10_36e = list()\n",
    "\n",
    "binary_to_consider = [m_i['encoded'] for m_i in lcz_evaluated_sols]\n",
    "configs_to_consider = [(m_i['adj_mat'], m_i['ops']) for m_i in lcz_evaluated_sols]\n",
    "\n",
    "assert len(binary_to_consider) ==  nb_solutions\n",
    "assert len(configs_to_consider) ==  nb_solutions\n",
    "\n",
    "\n",
    "for idx_current in range(nb_solutions):\n",
    "    m, o = configs_to_consider[idx_current][0], configs_to_consider[idx_current][1]\n",
    "    m = np.array(m).astype(int)\n",
    "    binary_current = encode_matrix_fixed_long(m, o)\n",
    "    \n",
    "    o = ['input'] +  [item[:-2] for item in o[1:-1]] + ['output'] \n",
    "    cell = api.ModelSpec(\n",
    "          matrix= m,\n",
    "          # Operations at the vertices of the module, matches order of matrix.\n",
    "          ops= o) #[INPUT, CONV1X1, CONV3X3, CONV3X3, CONV3X3, MAXPOOL3X3, OUTPUT])\n",
    "\n",
    "    data = nasbench_for_query.query(cell, epochs=training_length)\n",
    "    perf_current = data['test_accuracy']\n",
    "    \n",
    "    #binary_to_consider[idx_current]\n",
    "    #print(len(binary_current))\n",
    "    #str_current = list(binary_current)\n",
    "    #str_current = str(str_current)\n",
    "    #if binary_current in dict_keys:\n",
    "    #   print(idx_current)\n",
    "    #perf_current = dict_binary_to_perfs[binary_current]\n",
    "    \n",
    "    \n",
    "    \n",
    "    closest_list = list()\n",
    "    \n",
    "    mean_dist = []\n",
    "    \n",
    "    for idx_j in range(nb_solutions):\n",
    "        if idx_current != idx_j:\n",
    "            \n",
    "            m_j, o_j = configs_to_consider[idx_j][0], configs_to_consider[idx_j][1]\n",
    "            m_j = np.array(m_j).astype(int)\n",
    "            binary_j = encode_matrix_fixed_long(m_j, o_j)  \n",
    "            \n",
    "            o_j = ['input'] +  [item[:-2] for item in o_j[1:-1]] + ['output'] \n",
    "            cell_j = api.ModelSpec(\n",
    "                  matrix= m_j,\n",
    "                  # Operations at the vertices of the module, matches order of matrix.\n",
    "                  ops= o_j) #[INPUT, CONV1X1, CONV3X3, CONV3X3, CONV3X3, MAXPOOL3X3, OUTPUT])\n",
    "\n",
    "            data_j = nasbench_for_query.query(cell_j, epochs=training_length)\n",
    "            perf_j = data_j['test_accuracy']\n",
    "            \n",
    "            \n",
    "            \n",
    "            dist_curr_to_j = hamming_distance(binary_current, binary_j)\n",
    "            \n",
    "            closest_list.append((dist_curr_to_j, idx_j, perf_j))\n",
    "            \n",
    "            #print(dist_curr_to_j)\n",
    "            #mean_dist.append(dist_curr_to_j)\n",
    "    #print(idx_current, np.min(mean_dist), np.mean(mean_dist), np.std(mean_dist), '\\n')\n",
    "    ten_closest = sorted(closest_list)[:N_closest]\n",
    "    ten_closest_perfs = [c[2] for c in ten_closest]\n",
    "    if perf_current > max(ten_closest_perfs):\n",
    "        print('Winner', perf_current)\n",
    "        loose_local_optima_c10_36e.append((idx_current, binary_current))\n",
    "len(loose_local_optima_c10_36e)"
   ]
  },
  {
   "cell_type": "code",
   "execution_count": 261,
   "metadata": {},
   "outputs": [],
   "source": [
    "ration_loose_card_optima_lcz_c10 = len(loose_local_optima_lcz_36e) / len(loose_local_optima_c10_36e)"
   ]
  },
  {
   "cell_type": "code",
   "execution_count": 262,
   "metadata": {},
   "outputs": [
    {
     "data": {
      "text/plain": [
       "1.75"
      ]
     },
     "execution_count": 262,
     "metadata": {},
     "output_type": "execute_result"
    }
   ],
   "source": [
    "ration_loose_card_optima_lcz_c10"
   ]
  },
  {
   "cell_type": "code",
   "execution_count": null,
   "metadata": {},
   "outputs": [],
   "source": []
  },
  {
   "cell_type": "code",
   "execution_count": 289,
   "metadata": {},
   "outputs": [
    {
     "data": {
      "text/plain": [
       "(0.835046800315573, 0.09128655166356703)"
      ]
     },
     "execution_count": 289,
     "metadata": {},
     "output_type": "execute_result"
    }
   ],
   "source": [
    "all_perfs_c10_36e = [s['fitness']['36']['test_acc'] for s in solutions]\n",
    "\n",
    "mean_perfs_c10_36e = np.mean(all_perfs_c10_36e)\n",
    "std_perfs_c10_36e = np.std(all_perfs_c10_36e)\n",
    "\n",
    "mean_perfs_c10_36e, std_perfs_c10_36e#, np.min(all_perfs_c10_36e), np.max(all_perfs_c10_36e)"
   ]
  },
  {
   "cell_type": "code",
   "execution_count": 290,
   "metadata": {},
   "outputs": [
    {
     "data": {
      "text/plain": [
       "(0.8217011849249581, 0.09891059172622062)"
      ]
     },
     "execution_count": 290,
     "metadata": {},
     "output_type": "execute_result"
    }
   ],
   "source": [
    "all_perfs_lcz_36e = [s['fitness']['36']['kappaCohen_test'] for s in lcz_evaluated_sols]\n",
    "\n",
    "mean_perfs_lcz_36e = np.mean(all_perfs_lcz_36e)\n",
    "std_perfs_lcz_36e = np.std(all_perfs_lcz_36e)\n",
    "\n",
    "mean_perfs_lcz_36e, std_perfs_lcz_36e#, np.min(all_perfs_lcz_36e), np.max(all_perfs_lcz_36e)"
   ]
  },
  {
   "cell_type": "code",
   "execution_count": null,
   "metadata": {},
   "outputs": [],
   "source": []
  }
 ],
 "metadata": {
  "kernelspec": {
   "display_name": "Python 3",
   "language": "python",
   "name": "python3"
  },
  "language_info": {
   "codemirror_mode": {
    "name": "ipython",
    "version": 3
   },
   "file_extension": ".py",
   "mimetype": "text/x-python",
   "name": "python",
   "nbconvert_exporter": "python",
   "pygments_lexer": "ipython3",
   "version": "3.7.9"
  }
 },
 "nbformat": 4,
 "nbformat_minor": 2
}
