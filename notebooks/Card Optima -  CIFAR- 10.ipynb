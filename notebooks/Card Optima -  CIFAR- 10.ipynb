{
 "cells": [
  {
   "cell_type": "code",
   "execution_count": 1,
   "metadata": {},
   "outputs": [],
   "source": [
    "from __future__ import absolute_import\n",
    "from __future__ import division\n",
    "from __future__ import print_function\n",
    "\n",
    "import numpy as np\n",
    "import json\n",
    "import pickle as pkl\n",
    "\n",
    "from absl import app\n",
    "\n",
    "import time"
   ]
  },
  {
   "cell_type": "markdown",
   "metadata": {},
   "source": [
    "# Collect Optima via Local Search"
   ]
  },
  {
   "cell_type": "markdown",
   "metadata": {},
   "source": [
    "## Results from the server: 15 seeds of 100 Random-Restart LS "
   ]
  },
  {
   "cell_type": "code",
   "execution_count": 2,
   "metadata": {},
   "outputs": [
    {
     "data": {
      "text/plain": [
       "['../Card_optima/new_encoding_200/seed_2_200_points.txt',\n",
       " '../Card_optima/new_encoding_200/seed_7_200_points.txt',\n",
       " '../Card_optima/new_encoding_200/seed_9_200_points.txt',\n",
       " '../Card_optima/new_encoding_200/seed_12_200_points.txt',\n",
       " '../Card_optima/new_encoding_200/seed_3_200_points.txt',\n",
       " '../Card_optima/new_encoding_200/seed_8_200_points.txt',\n",
       " '../Card_optima/new_encoding_200/seed_15_200_points.txt',\n",
       " '../Card_optima/new_encoding_200/seed_4_200_points.txt',\n",
       " '../Card_optima/new_encoding_200/seed_6_200_points.txt',\n",
       " '../Card_optima/new_encoding_200/seed_11_200_points.txt',\n",
       " '../Card_optima/new_encoding_200/seed_5_200_points.txt',\n",
       " '../Card_optima/new_encoding_200/seed_10_200_points.txt',\n",
       " '../Card_optima/new_encoding_200/seed_1_200_points.txt',\n",
       " '../Card_optima/new_encoding_200/seed_14_200_points.txt',\n",
       " '../Card_optima/new_encoding_200/seed_0_200_points.txt',\n",
       " '../Card_optima/new_encoding_200/seed_13_200_points.txt']"
      ]
     },
     "execution_count": 2,
     "metadata": {},
     "output_type": "execute_result"
    }
   ],
   "source": [
    "import glob2\n",
    "import json\n",
    "import numpy as np\n",
    "\n",
    "result_files = glob2.glob('../Card_optima/new_encoding_200/seed_*_points.txt')\n",
    "\n",
    "result_files"
   ]
  },
  {
   "cell_type": "code",
   "execution_count": 3,
   "metadata": {},
   "outputs": [],
   "source": [
    "results_per_seed = list()\n",
    "\n",
    "for file_i in result_files:\n",
    "    with open(file_i, 'rb') as filehandle:\n",
    "        # read the data as bina|ry data stream\n",
    "        res_i = json.load(filehandle)\n",
    "        results_per_seed.append(res_i)"
   ]
  },
  {
   "cell_type": "code",
   "execution_count": 4,
   "metadata": {},
   "outputs": [],
   "source": [
    "def card_optima(K_until_repeat, P_D=0.5):\n",
    "\n",
    "    N_numer = K_until_repeat ** 2\n",
    "    N_denom = -2 * np.log(1 - P_D) \n",
    "    return int(N_numer/ N_denom)\n",
    "\n",
    "assert card_optima(22) == 349"
   ]
  },
  {
   "cell_type": "code",
   "execution_count": 5,
   "metadata": {},
   "outputs": [],
   "source": [
    "import pyreadr\n",
    "import pandas as pd\n",
    "result = pyreadr.read_r('../nasbench/experiments/nasbench_full_landscape.RData')\n",
    "result = pd.Series(result)\n",
    "\n",
    "nasbench_res =  result['land.df']"
   ]
  },
  {
   "cell_type": "code",
   "execution_count": 6,
   "metadata": {},
   "outputs": [],
   "source": [
    "N_runs = 0\n",
    "if '100' in result_files[0]:\n",
    "    N_runs = 100\n",
    "elif '200' in result_files[0]:\n",
    "    N_runs = 200\n",
    "else: \n",
    "    pass"
   ]
  },
  {
   "cell_type": "code",
   "execution_count": 7,
   "metadata": {},
   "outputs": [
    {
     "data": {
      "text/plain": [
       "['../Card_optima/new_encoding_200/seed_2_200_points.txt',\n",
       " '../Card_optima/new_encoding_200/seed_7_200_points.txt',\n",
       " '../Card_optima/new_encoding_200/seed_9_200_points.txt',\n",
       " '../Card_optima/new_encoding_200/seed_12_200_points.txt',\n",
       " '../Card_optima/new_encoding_200/seed_3_200_points.txt',\n",
       " '../Card_optima/new_encoding_200/seed_8_200_points.txt',\n",
       " '../Card_optima/new_encoding_200/seed_15_200_points.txt',\n",
       " '../Card_optima/new_encoding_200/seed_4_200_points.txt',\n",
       " '../Card_optima/new_encoding_200/seed_6_200_points.txt',\n",
       " '../Card_optima/new_encoding_200/seed_11_200_points.txt',\n",
       " '../Card_optima/new_encoding_200/seed_5_200_points.txt',\n",
       " '../Card_optima/new_encoding_200/seed_10_200_points.txt',\n",
       " '../Card_optima/new_encoding_200/seed_1_200_points.txt',\n",
       " '../Card_optima/new_encoding_200/seed_14_200_points.txt',\n",
       " '../Card_optima/new_encoding_200/seed_0_200_points.txt',\n",
       " '../Card_optima/new_encoding_200/seed_13_200_points.txt']"
      ]
     },
     "execution_count": 7,
     "metadata": {},
     "output_type": "execute_result"
    }
   ],
   "source": [
    "result_files"
   ]
  },
  {
   "cell_type": "code",
   "execution_count": 8,
   "metadata": {},
   "outputs": [
    {
     "data": {
      "text/plain": [
       "200"
      ]
     },
     "execution_count": 8,
     "metadata": {},
     "output_type": "execute_result"
    }
   ],
   "source": [
    "N_runs"
   ]
  },
  {
   "cell_type": "code",
   "execution_count": 9,
   "metadata": {},
   "outputs": [
    {
     "name": "stdout",
     "output_type": "stream",
     "text": [
      "Seed i:  2 , Mean step: 2.895 , Mean test accuracy diff:  4.532318425675234  1 , Idx of collision:  94 \n",
      "\n",
      "Seed i:  7 , Mean step: 2.78 , Mean test accuracy diff:  4.886284751196703  0 , Idx of collision:  0 \n",
      "\n",
      "Seed i:  9 , Mean step: 2.895 , Mean test accuracy diff:  4.472756455341975  0 , Idx of collision:  0 \n",
      "\n",
      "Seed i:  12 , Mean step: 2.89 , Mean test accuracy diff:  5.47502663731575  2 , Idx of collision:  57 \n",
      "\n",
      "Seed i:  3 , Mean step: 2.85 , Mean test accuracy diff:  4.864533425619205  0 , Idx of collision:  0 \n",
      "\n",
      "Seed i:  8 , Mean step: 2.775 , Mean test accuracy diff:  4.762670166790485  2 , Idx of collision:  26 \n",
      "\n",
      "Seed i:  15 , Mean step: 3.09 , Mean test accuracy diff:  6.558326671520868  0 , Idx of collision:  0 \n",
      "\n",
      "Seed i:  4 , Mean step: 2.965 , Mean test accuracy diff:  5.05174941321214  0 , Idx of collision:  0 \n",
      "\n",
      "Seed i:  6 , Mean step: 3.02 , Mean test accuracy diff:  5.546290752788385  1 , Idx of collision:  58 \n",
      "\n",
      "Seed i:  11 , Mean step: 3.03 , Mean test accuracy diff:  4.681840902815262  0 , Idx of collision:  0 \n",
      "\n",
      "Seed i:  5 , Mean step: 2.86 , Mean test accuracy diff:  5.060680480053028  3 , Idx of collision:  38 \n",
      "\n",
      "Seed i:  10 , Mean step: 3.005 , Mean test accuracy diff:  4.570262419680755  1 , Idx of collision:  195 \n",
      "\n",
      "Seed i:  1 , Mean step: 2.825 , Mean test accuracy diff:  5.774739523728689  3 , Idx of collision:  52 \n",
      "\n",
      "Seed i:  14 , Mean step: 2.795 , Mean test accuracy diff:  4.779964582373699  1 , Idx of collision:  129 \n",
      "\n",
      "Seed i:  0 , Mean step: 2.845 , Mean test accuracy diff:  5.492137247075637  0 , Idx of collision:  0 \n",
      "\n",
      "Seed i:  13 , Mean step: 2.695 , Mean test accuracy diff:  4.786758835117022  1 , Idx of collision:  197 \n",
      "\n",
      "Average index of first collision: [94, 0, 0, 57, 0, 26, 0, 0, 58, 0, 38, 195, 52, 129, 0, 197] \n",
      "\n"
     ]
    }
   ],
   "source": [
    "offset_zero_indexing = 1\n",
    "\n",
    "avg_first_index = list()\n",
    "\n",
    "\n",
    "for r_i in results_per_seed:\n",
    "    seed_i, duration_i, stats = r_i\n",
    "    \n",
    "    list_ending_points = [s_[0] for s_ in stats]\n",
    "    list_starting_points = [s_[3] for s_ in stats]\n",
    "    \n",
    "    list_steps = [s_[2] + offset_zero_indexing  for s_ in stats]    \n",
    "    mean_steps = np.mean(list_steps)\n",
    "    std_steps = np.std(list_steps)\n",
    "    \n",
    "    list_acc_test_end = [s_[1] for s_ in stats]\n",
    "    mean_acc_test_end = np.mean(list_acc_test_end)\n",
    "    \n",
    "    list_starting_acc_test = [nasbench_res.loc[s_]['test_acc.36'] for s_ in list_starting_points]\n",
    "    mean_acc_test_start = np.mean(list_starting_acc_test)\n",
    "    \n",
    "    assert len(list_starting_points) == len(list_acc_test_end)\n",
    "    len_item = len(list_starting_points)\n",
    "    \n",
    "    list_improvement = [list_acc_test_end[item_j] - list_starting_acc_test[item_j] for item_j in range(len_item)]\n",
    "    mean_acc_test_diff = np.mean(list_improvement)\n",
    "    mean_acc_test_diff = mean_acc_test_diff * 100\n",
    "    \n",
    "    #print(list_starting_acc_test)\n",
    "    distinct_starting = len(set(list_starting_points))\n",
    "    distinct_ending = len(set(list_ending_points))\n",
    "    #print(distinct_starting, distinct_ending)\n",
    "    \n",
    "    all_models = list()\n",
    "    idx_first_repeat = 0 #None\n",
    "    for i, e in enumerate(list_ending_points):\n",
    "        if e in all_models:\n",
    "            idx_first_repeat = i + offset_zero_indexing\n",
    "            break;\n",
    "        else: \n",
    "            all_models.append(e)\n",
    "    \n",
    "    avg_first_index.append(idx_first_repeat)\n",
    "    print(\"Seed i: \",seed_i, \", Mean step:\", mean_steps, \n",
    "          \", Mean test accuracy diff: \", mean_acc_test_diff, \n",
    "          \"\", N_runs - distinct_ending, \n",
    "          \", Idx of collision: \",idx_first_repeat,'\\n')\n",
    "\n",
    "# Here 0 means Not applicable\n",
    "print(\"Average index of first collision:\" , avg_first_index, '\\n')"
   ]
  },
  {
   "cell_type": "code",
   "execution_count": 10,
   "metadata": {},
   "outputs": [
    {
     "data": {
      "text/plain": [
       "([94, 57, 26, 58, 38, 195, 52, 129, 197], 9)"
      ]
     },
     "execution_count": 10,
     "metadata": {},
     "output_type": "execute_result"
    }
   ],
   "source": [
    "only_pos_rank_occ = list()\n",
    "for item in avg_first_index:\n",
    "    if item > 0:\n",
    "        only_pos_rank_occ.append(item)\n",
    "only_pos_rank_occ, len(only_pos_rank_occ)"
   ]
  },
  {
   "cell_type": "code",
   "execution_count": 11,
   "metadata": {},
   "outputs": [
    {
     "name": "stdout",
     "output_type": "stream",
     "text": [
      "Average index of first collision over all exp:  94.0\n",
      "Estimate cardial of Local Optima (maxima):  6373\n"
     ]
    }
   ],
   "source": [
    "k_mean = np.mean(only_pos_rank_occ)\n",
    "est_card_optima = card_optima(k_mean)\n",
    "\n",
    "print('Average index of first collision over all exp: ', k_mean)\n",
    "print('Estimate cardial of Local Optima (maxima): '  , est_card_optima)"
   ]
  },
  {
   "cell_type": "code",
   "execution_count": 12,
   "metadata": {},
   "outputs": [
    {
     "name": "stdout",
     "output_type": "stream",
     "text": [
      "Percentage of size of search space: 1.504400128415765\n"
     ]
    }
   ],
   "source": [
    "ratio_of_search_space = est_card_optima / nasbench_res.shape[0] * 100\n",
    "\n",
    "print('Percentage of size of search space:', ratio_of_search_space )"
   ]
  },
  {
   "cell_type": "code",
   "execution_count": 13,
   "metadata": {},
   "outputs": [
    {
     "name": "stdout",
     "output_type": "stream",
     "text": [
      "Overall mean Step:  2.862222222222222\n"
     ]
    }
   ],
   "source": [
    "mean_step = np.mean([2.895, 2.89, 2.775, 3.02, 2.86, 3.005, 2.825, 2.795, 2.695])\n",
    "print(\"Overall mean Step: \", mean_step)"
   ]
  },
  {
   "cell_type": "code",
   "execution_count": 14,
   "metadata": {},
   "outputs": [
    {
     "name": "stdout",
     "output_type": "stream",
     "text": [
      "Overall improvement in accuracy for BILS:  5.032079091502561\n"
     ]
    }
   ],
   "source": [
    "avg_improvement = np.mean(\n",
    "[4.532318425675234,\n",
    "5.47502663731575,\n",
    "4.762670166790485,\n",
    "5.546290752788385,\n",
    "5.060680480053028, \n",
    "4.570262419680755, \n",
    "5.774739523728689,\n",
    "4.779964582373699,\n",
    "4.786758835117022]\n",
    ")\n",
    "\n",
    "print(\"Overall improvement in accuracy for BILS: \", avg_improvement)"
   ]
  }
 ],
 "metadata": {
  "kernelspec": {
   "display_name": "Python 3",
   "language": "python",
   "name": "python3"
  },
  "language_info": {
   "codemirror_mode": {
    "name": "ipython",
    "version": 3
   },
   "file_extension": ".py",
   "mimetype": "text/x-python",
   "name": "python",
   "nbconvert_exporter": "python",
   "pygments_lexer": "ipython3",
   "version": "3.7.9"
  }
 },
 "nbformat": 4,
 "nbformat_minor": 2
}
